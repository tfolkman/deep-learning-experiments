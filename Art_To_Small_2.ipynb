{
 "cells": [
  {
   "cell_type": "code",
   "execution_count": 2,
   "metadata": {},
   "outputs": [],
   "source": [
    "import os\n",
    "import os\n",
    "import scipy.misc\n",
    "import random"
   ]
  },
  {
   "cell_type": "code",
   "execution_count": 3,
   "metadata": {},
   "outputs": [
    {
     "name": "stderr",
     "output_type": "stream",
     "text": [
      "/home/tyler/anaconda3/lib/python3.6/site-packages/ipykernel_launcher.py:5: DeprecationWarning: `imread` is deprecated!\n",
      "`imread` is deprecated in SciPy 1.0.0, and will be removed in 1.2.0.\n",
      "Use ``imageio.imread`` instead.\n",
      "  \"\"\"\n",
      "/home/tyler/anaconda3/lib/python3.6/site-packages/ipykernel_launcher.py:6: DeprecationWarning: `imresize` is deprecated!\n",
      "`imresize` is deprecated in SciPy 1.0.0, and will be removed in 1.2.0.\n",
      "Use ``skimage.transform.resize`` instead.\n",
      "  \n",
      "/home/tyler/anaconda3/lib/python3.6/site-packages/ipykernel_launcher.py:7: DeprecationWarning: `imsave` is deprecated!\n",
      "`imsave` is deprecated in SciPy 1.0.0, and will be removed in 1.2.0.\n",
      "Use ``imageio.imwrite`` instead.\n",
      "  import sys\n",
      "/home/tyler/anaconda3/lib/python3.6/site-packages/PIL/TiffImagePlugin.py:739: UserWarning: Possibly corrupt EXIF data.  Expecting to read 109 bytes but only got 0. Skipping tag 33285\n",
      "  \" Skipping tag %s\" % (size, len(data), tag))\n",
      "/home/tyler/anaconda3/lib/python3.6/site-packages/PIL/TiffImagePlugin.py:739: UserWarning: Possibly corrupt EXIF data.  Expecting to read 117 bytes but only got 0. Skipping tag 33285\n",
      "  \" Skipping tag %s\" % (size, len(data), tag))\n",
      "/home/tyler/anaconda3/lib/python3.6/site-packages/PIL/TiffImagePlugin.py:739: UserWarning: Possibly corrupt EXIF data.  Expecting to read 165 bytes but only got 0. Skipping tag 37125\n",
      "  \" Skipping tag %s\" % (size, len(data), tag))\n",
      "/home/tyler/anaconda3/lib/python3.6/site-packages/PIL/TiffImagePlugin.py:739: UserWarning: Possibly corrupt EXIF data.  Expecting to read 173 bytes but only got 0. Skipping tag 37386\n",
      "  \" Skipping tag %s\" % (size, len(data), tag))\n",
      "/home/tyler/anaconda3/lib/python3.6/site-packages/PIL/TiffImagePlugin.py:739: UserWarning: Possibly corrupt EXIF data.  Expecting to read 181 bytes but only got 0. Skipping tag 37381\n",
      "  \" Skipping tag %s\" % (size, len(data), tag))\n",
      "/home/tyler/anaconda3/lib/python3.6/site-packages/PIL/TiffImagePlugin.py:739: UserWarning: Possibly corrupt EXIF data.  Expecting to read 189 bytes but only got 0. Skipping tag 37381\n",
      "  \" Skipping tag %s\" % (size, len(data), tag))\n",
      "/home/tyler/anaconda3/lib/python3.6/site-packages/PIL/TiffImagePlugin.py:739: UserWarning: Possibly corrupt EXIF data.  Expecting to read 192 bytes but only got 0. Skipping tag 40964\n",
      "  \" Skipping tag %s\" % (size, len(data), tag))\n",
      "/home/tyler/anaconda3/lib/python3.6/site-packages/PIL/TiffImagePlugin.py:739: UserWarning: Possibly corrupt EXIF data.  Expecting to read 144 bytes but only got 0. Skipping tag 40964\n",
      "  \" Skipping tag %s\" % (size, len(data), tag))\n",
      "/home/tyler/anaconda3/lib/python3.6/site-packages/PIL/TiffImagePlugin.py:739: UserWarning: Possibly corrupt EXIF data.  Expecting to read 252 bytes but only got 0. Skipping tag 40964\n",
      "  \" Skipping tag %s\" % (size, len(data), tag))\n",
      "/home/tyler/anaconda3/lib/python3.6/site-packages/PIL/TiffImagePlugin.py:739: UserWarning: Possibly corrupt EXIF data.  Expecting to read 31 bytes but only got 0. Skipping tag 41989\n",
      "  \" Skipping tag %s\" % (size, len(data), tag))\n",
      "/home/tyler/anaconda3/lib/python3.6/site-packages/PIL/TiffImagePlugin.py:739: UserWarning: Possibly corrupt EXIF data.  Expecting to read 1149042706 bytes but only got 0. Skipping tag 17552\n",
      "  \" Skipping tag %s\" % (size, len(data), tag))\n",
      "/home/tyler/anaconda3/lib/python3.6/site-packages/PIL/TiffImagePlugin.py:739: UserWarning: Possibly corrupt EXIF data.  Expecting to read 21758425 bytes but only got 0. Skipping tag 71\n",
      "  \" Skipping tag %s\" % (size, len(data), tag))\n",
      "/home/tyler/anaconda3/lib/python3.6/site-packages/PIL/TiffImagePlugin.py:756: UserWarning: Corrupt EXIF data.  Expecting to read 12 bytes but only got 1. \n",
      "  warnings.warn(str(msg))\n"
     ]
    }
   ],
   "source": [
    "path_out = \"/home/tyler/data/image/small_art/landscape/\"\n",
    "path_in = \"/media/tyler/slowdata/data/image/images/landscape/\"\n",
    "for i, f in enumerate(os.listdir(path_in)):\n",
    "    try:\n",
    "        image = scipy.misc.imread(path_in + \"/\" + f)\n",
    "        image = scipy.misc.imresize(image,(64,64))\n",
    "        scipy.misc.imsave(path_out + \"/\" + str(i) + \".png\",image)\n",
    "    except Exception:\n",
    "        print('missed it: ' + f)"
   ]
  },
  {
   "cell_type": "code",
   "execution_count": null,
   "metadata": {},
   "outputs": [],
   "source": []
  }
 ],
 "metadata": {
  "kernelspec": {
   "display_name": "Python 3",
   "language": "python",
   "name": "python3"
  },
  "language_info": {
   "codemirror_mode": {
    "name": "ipython",
    "version": 3
   },
   "file_extension": ".py",
   "mimetype": "text/x-python",
   "name": "python",
   "nbconvert_exporter": "python",
   "pygments_lexer": "ipython3",
   "version": "3.5.3"
  }
 },
 "nbformat": 4,
 "nbformat_minor": 2
}
