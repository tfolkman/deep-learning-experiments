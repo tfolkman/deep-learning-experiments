{
 "cells": [
  {
   "cell_type": "code",
   "execution_count": 263,
   "metadata": {},
   "outputs": [],
   "source": [
    "from faker import Faker\n",
    "import random\n",
    "from tqdm import tqdm\n",
    "from babel.dates import format_date\n",
    "from nmt_utils import *\n",
    "import matplotlib.pyplot as plt\n",
    "import torch.nn as nn\n",
    "import torch.nn.functional as fn\n",
    "from sklearn.utils import shuffle\n",
    "import torch.optim as optim\n",
    "import torch\n",
    "%matplotlib inline\n",
    "device = \"cuda\" if torch.cuda.is_available() else \"cpu\""
   ]
  },
  {
   "cell_type": "code",
   "execution_count": 2,
   "metadata": {},
   "outputs": [
    {
     "name": "stderr",
     "output_type": "stream",
     "text": [
      "100%|██████████| 10000/10000 [00:00<00:00, 16553.47it/s]\n"
     ]
    }
   ],
   "source": [
    "m = 10000\n",
    "\n",
    "## dataset -> list of tuples, first is human and second machine\n",
    "## human vocab -> letters/numbers to index\n",
    "## machine_vocab -> numbers and dash to index\n",
    "## inv machine vocab -> index to numbers and dash\n",
    "\n",
    "dataset, human_vocab, machine_vocab, inv_machine_vocab = load_dataset(m)"
   ]
  },
  {
   "cell_type": "code",
   "execution_count": 8,
   "metadata": {},
   "outputs": [],
   "source": [
    "max_human_length = 30\n",
    "max_machine_length = 10\n",
    "## truncates if smaller than length and pads if shorter. also fills in with unk\n",
    "## x is np array for each training example as a list of indexes. Same for y\n",
    "X, Y = preprocess_data(dataset, human_vocab, machine_vocab, max_human_length, max_machine_length)"
   ]
  },
  {
   "cell_type": "code",
   "execution_count": 256,
   "metadata": {},
   "outputs": [],
   "source": [
    "class Encoder(nn.Module):\n",
    "    \n",
    "    def __init__(self, human_vocab_size):\n",
    "        super(Encoder, self).__init__()\n",
    "        \n",
    "        self.human_embedding = nn.Embedding(human_vocab_size, 50)\n",
    "        self.pre_attention_bilstm = nn.LSTM(50, 32, bidirectional=True)\n",
    "        \n",
    "    def forward(self, human_indexes):\n",
    "        human_embeds = self.human_embedding(human_indexes)\n",
    "        human_embeds = human_embeds.unsqueeze(1)\n",
    "        pre_lstm, _ = self.pre_attention_bilstm(human_embeds)\n",
    "        return pre_lstm\n",
    "    \n",
    "class Decoder(nn.Module):\n",
    "    \n",
    "    \"\"\"\n",
    "    Doesn't actually take in previous character as likely not very correlated.\n",
    "    Most of the correlation lies within the encoder vectors\n",
    "    \"\"\"\n",
    "    \n",
    "    def __init__(self):\n",
    "        super(Decoder, self).__init__()\n",
    "        self.hidden_size = 64\n",
    "        ## 128 b/c concat is 128 and 10 b/c machine output is 10\n",
    "        self.densor1 = nn.Linear(128, 10)\n",
    "        self.densor2 = nn.Linear(10, 1)\n",
    "        self.lstm = nn.LSTM(64, 64)\n",
    "        self.dense_out = nn.Linear(64, 11)\n",
    "        \n",
    "    def forward(self, previous_hidden, previous_cell, encodings):\n",
    "        previous_hidden_expanded = previous_hidden.repeat(30, 1, 1)\n",
    "        concat_vector = torch.cat((previous_hidden_expanded, encodings), 2)\n",
    "        densor1_out =  fn.tanh(self.densor1(concat_vector))\n",
    "        densor2_out = fn.relu(self.densor2(densor1_out))\n",
    "        attention_weights = fn.softmax(densor2_out, 0)\n",
    "        encodings_view = encodings.view(1, 30, 64)\n",
    "        attention_weights_view = attention_weights.view(1, 1, 30)\n",
    "        weighted_encodings = torch.bmm(attention_weights_view, encodings_view)\n",
    "        lstm_out, (h_out, c_out) = self.lstm(weighted_encodings, (previous_hidden, previous_cell))\n",
    "        out = self.dense_out(lstm_out).squeeze(0)\n",
    "        return out, h_out, c_out\n",
    "        \n",
    "    def initHidden(self):\n",
    "        return torch.zeros(1, 1, self.hidden_size, device=device)"
   ]
  },
  {
   "cell_type": "code",
   "execution_count": 257,
   "metadata": {},
   "outputs": [],
   "source": [
    "encoder = Encoder(len(human_vocab))\n",
    "decoder = Decoder()\n",
    "n_epochs = 1\n",
    "learning_rate = 0.001\n",
    "encoder_optimizer = optim.Adam(encoder.parameters(), lr=learning_rate)\n",
    "decoder_optimizer = optim.Adam(decoder.parameters(), lr=learning_rate)\n",
    "criterion = nn.CrossEntropyLoss()"
   ]
  },
  {
   "cell_type": "code",
   "execution_count": 261,
   "metadata": {},
   "outputs": [
    {
     "name": "stdout",
     "output_type": "stream",
     "text": [
      "0/10000\n",
      "Avg Loss: 7.082835674285889\n",
      "250/10000\n",
      "Avg Loss: 8.112926200091602\n",
      "500/10000\n",
      "Avg Loss: 7.844023532734184\n",
      "750/10000\n",
      "Avg Loss: 7.612804451572911\n",
      "1000/10000\n",
      "Avg Loss: 7.839398875936761\n",
      "1250/10000\n",
      "Avg Loss: 7.67209888724305\n",
      "1500/10000\n",
      "Avg Loss: 7.480597668532766\n",
      "1750/10000\n",
      "Avg Loss: 7.3000361547001695\n",
      "2000/10000\n",
      "Avg Loss: 7.128380452853808\n",
      "2250/10000\n",
      "Avg Loss: 7.002545619794709\n",
      "2500/10000\n",
      "Avg Loss: 6.879469569565439\n",
      "2750/10000\n",
      "Avg Loss: 6.762056731475739\n",
      "3000/10000\n",
      "Avg Loss: 6.640475864809221\n",
      "3250/10000\n",
      "Avg Loss: 6.5198423103052665\n",
      "3500/10000\n",
      "Avg Loss: 6.415465170606414\n",
      "3750/10000\n",
      "Avg Loss: 6.309648447149883\n",
      "4000/10000\n",
      "Avg Loss: 6.215865633899466\n",
      "4250/10000\n",
      "Avg Loss: 6.128431861750015\n",
      "4500/10000\n",
      "Avg Loss: 6.028414438417609\n",
      "4750/10000\n",
      "Avg Loss: 5.94368282573345\n",
      "5000/10000\n",
      "Avg Loss: 5.857298819476713\n",
      "5250/10000\n",
      "Avg Loss: 5.76725482839649\n",
      "5500/10000\n",
      "Avg Loss: 5.677036398487771\n",
      "5750/10000\n",
      "Avg Loss: 5.581902072846713\n",
      "6000/10000\n",
      "Avg Loss: 5.495137971046666\n",
      "6250/10000\n",
      "Avg Loss: 5.393912849178736\n",
      "6500/10000\n",
      "Avg Loss: 5.283336196330268\n",
      "6750/10000\n",
      "Avg Loss: 5.175791318019996\n",
      "7000/10000\n",
      "Avg Loss: 5.063380316825717\n",
      "7250/10000\n",
      "Avg Loss: 4.9459269905670675\n",
      "7500/10000\n",
      "Avg Loss: 4.823018107020431\n",
      "7750/10000\n",
      "Avg Loss: 4.707351771989432\n",
      "8000/10000\n",
      "Avg Loss: 4.591474018178051\n",
      "8250/10000\n",
      "Avg Loss: 4.484357965464246\n",
      "8500/10000\n",
      "Avg Loss: 4.378140921998186\n",
      "8750/10000\n",
      "Avg Loss: 4.271132096051386\n",
      "9000/10000\n",
      "Avg Loss: 4.1689707788158366\n",
      "9250/10000\n",
      "Avg Loss: 4.069722579422673\n",
      "9500/10000\n",
      "Avg Loss: 3.9736103186396194\n",
      "9750/10000\n",
      "Avg Loss: 3.8812062817131627\n"
     ]
    }
   ],
   "source": [
    "total_loss = 0\n",
    "total_i = 0\n",
    "for epoch in range(n_epochs):\n",
    "    X, Y = shuffle(X, Y)\n",
    "    for i in range(len(X)):\n",
    "        \n",
    "        encoder_optimizer.zero_grad()\n",
    "        decoder_optimizer.zero_grad()\n",
    "        \n",
    "        human_date_indexes = X[i]\n",
    "        machine_date_indexes = Y[i]\n",
    "        \n",
    "        x = torch.LongTensor(human_date_indexes).to(device)\n",
    "        \n",
    "        pre_lstm_vectors = encoder(x)\n",
    "        \n",
    "        previous_hidden = decoder.initHidden()\n",
    "        previous_cell = decoder.initHidden()\n",
    "        \n",
    "        loss = 0\n",
    "        for machine_index in machine_date_indexes:\n",
    "            out, previous_hidden, previous_cell = decoder(previous_hidden, previous_cell, pre_lstm_vectors)\n",
    "            actual = torch.LongTensor([machine_index]).to(device)\n",
    "            loss += criterion(out, actual)\n",
    "            \n",
    "        loss.backward()\n",
    "\n",
    "        encoder_optimizer.step()\n",
    "        decoder_optimizer.step()\n",
    "        \n",
    "        total_i += 1\n",
    "        total_loss += loss.item()\n",
    "        \n",
    "        if (epoch * len(X) + i) % 250 == 0:\n",
    "            print(\"{0}/{1}\".format(epoch * len(X) + i, n_epochs*len(X)))\n",
    "            avg_loss = total_loss / total_i\n",
    "            print(\"Avg Loss: {}\".format(avg_loss))\n",
    "            losses.append(avg_loss)"
   ]
  },
  {
   "cell_type": "code",
   "execution_count": 264,
   "metadata": {},
   "outputs": [
    {
     "data": {
      "text/plain": [
       "[<matplotlib.lines.Line2D at 0x12520fa20>]"
      ]
     },
     "execution_count": 264,
     "metadata": {},
     "output_type": "execute_result"
    },
    {
     "data": {
      "image/png": "[encoded data removed]",
      "text/plain": [
       "<Figure size 600x400 with 1 Axes>"
      ]
     },
     "metadata": {},
     "output_type": "display_data"
    }
   ],
   "source": [
    "plt.plot(losses)"
   ]
  },
  {
   "cell_type": "code",
   "execution_count": 266,
   "metadata": {},
   "outputs": [
    {
     "name": "stdout",
     "output_type": "stream",
     "text": [
      "source: 3 May 1979\n",
      "output: 1979-05-03\n",
      "source: 5 April 09\n",
      "output: 2099-04-05\n",
      "source: 21th of August 2016\n",
      "output: 2016-08-21\n",
      "source: Tue 10 Jul 2007\n",
      "output: 2007-07-10\n",
      "source: Saturday May 9 2018\n",
      "output: 2018-05-09\n",
      "source: March 3 2001\n",
      "output: 2001-03-03\n",
      "source: March 3rd 2001\n",
      "output: 2001-03-00\n",
      "source: 1 March 2001\n",
      "output: 2001-03-01\n"
     ]
    }
   ],
   "source": [
    "EXAMPLES = ['3 May 1979', '5 April 09', '21th of August 2016', \n",
    "            'Tue 10 Jul 2007', 'Saturday May 9 2018', \n",
    "            'March 3 2001', 'March 3rd 2001', '1 March 2001']\n",
    "encoder.eval()\n",
    "decoder.eval()\n",
    "with torch.no_grad():\n",
    "    for example in EXAMPLES:\n",
    "\n",
    "        source = string_to_int(example, max_human_length, human_vocab)\n",
    "\n",
    "        x = torch.LongTensor(source).to(device)\n",
    "        \n",
    "        pre_lstm_vectors = encoder(x)\n",
    "        \n",
    "        previous_hidden = decoder.initHidden()\n",
    "        previous_cell = decoder.initHidden()\n",
    "        \n",
    "        prediction = []\n",
    "        for _ in range(max_machine_length):\n",
    "            out, previous_hidden, previous_cell = decoder(previous_hidden, previous_cell, pre_lstm_vectors)\n",
    "            prediction.append(out.argmax().item())\n",
    "\n",
    "        output = [inv_machine_vocab[int(i)] for i in prediction]\n",
    "\n",
    "        print(\"source:\", example)\n",
    "        print(\"output:\", ''.join(output))"
   ]
  },
  {
   "cell_type": "markdown",
   "metadata": {},
   "source": [
    "## Visualize Weights"
   ]
  },
  {
   "cell_type": "code",
   "execution_count": null,
   "metadata": {},
   "outputs": [],
   "source": []
  }
 ],
 "metadata": {
  "kernelspec": {
   "display_name": "Python 3",
   "language": "python",
   "name": "python3"
  },
  "language_info": {
   "codemirror_mode": {
    "name": "ipython",
    "version": 3
   },
   "file_extension": ".py",
   "mimetype": "text/x-python",
   "name": "python",
   "nbconvert_exporter": "python",
   "pygments_lexer": "ipython3",
   "version": "3.5.3"
  }
 },
 "nbformat": 4,
 "nbformat_minor": 2
}
