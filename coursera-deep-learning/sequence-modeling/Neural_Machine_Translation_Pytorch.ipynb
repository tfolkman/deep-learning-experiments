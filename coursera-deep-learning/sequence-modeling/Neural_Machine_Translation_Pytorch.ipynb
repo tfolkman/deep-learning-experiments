{
 "cells": [
  {
   "cell_type": "code",
   "execution_count": 1,
   "metadata": {},
   "outputs": [],
   "source": [
    "from faker import Faker\n",
    "import random\n",
    "from tqdm import tqdm\n",
    "from babel.dates import format_date\n",
    "from nmt_utils import *\n",
    "import matplotlib.pyplot as plt\n",
    "import torch.nn as nn\n",
    "import torch.nn.functional as fn\n",
    "from sklearn.utils import shuffle\n",
    "import torch.optim as optim\n",
    "import torch\n",
    "import torch.utils.data as data\n",
    "%matplotlib inline\n",
    "device = \"cuda\" if torch.cuda.is_available() else \"cpu\""
   ]
  },
  {
   "cell_type": "code",
   "execution_count": 2,
   "metadata": {},
   "outputs": [
    {
     "name": "stderr",
     "output_type": "stream",
     "text": [
      "100%|██████████| 10000/10000 [00:00<00:00, 21725.81it/s]\n"
     ]
    }
   ],
   "source": [
    "m = 10000\n",
    "\n",
    "## dataset -> list of tuples, first is human and second machine\n",
    "## human vocab -> letters/numbers to index\n",
    "## machine_vocab -> numbers and dash to index\n",
    "## inv machine vocab -> index to numbers and dash\n",
    "\n",
    "dataset, human_vocab, machine_vocab, inv_machine_vocab = load_dataset(m)"
   ]
  },
  {
   "cell_type": "code",
   "execution_count": 3,
   "metadata": {},
   "outputs": [],
   "source": [
    "max_human_length = 30\n",
    "max_machine_length = 10\n",
    "## truncates if smaller than length and pads if shorter. also fills in with unk\n",
    "## x is np array for each training example as a list of indexes. Same for y\n",
    "X, Y = preprocess_data(dataset, human_vocab, machine_vocab, max_human_length, max_machine_length)"
   ]
  },
  {
   "cell_type": "code",
   "execution_count": 4,
   "metadata": {},
   "outputs": [],
   "source": [
    "class DateDataset(data.Dataset):\n",
    "    def __init__(self, X, Y):\n",
    "        self.X = X\n",
    "        self.Y = Y\n",
    "        self.len = len(X)\n",
    "        \n",
    "    def __getitem__(self, index):\n",
    "        human = torch.LongTensor(self.X[index]).to(device)\n",
    "        machine = torch.LongTensor(self.Y[index]).to(device)\n",
    "        return human, machine\n",
    "        \n",
    "    def __len__(self):\n",
    "        return self.len\n",
    "\n",
    "date_dataset = DateDataset(X, Y)"
   ]
  },
  {
   "cell_type": "code",
   "execution_count": 5,
   "metadata": {},
   "outputs": [],
   "source": [
    "class Encoder(nn.Module):\n",
    "    \n",
    "    def __init__(self, human_vocab_size):\n",
    "        super(Encoder, self).__init__()\n",
    "        \n",
    "        self.human_embedding = nn.Embedding(human_vocab_size, 50)\n",
    "        self.pre_attention_bilstm = nn.LSTM(50, 32, bidirectional=True, \n",
    "                                           batch_first=True)\n",
    "        \n",
    "    def forward(self, human_indexes):\n",
    "        human_embeds = self.human_embedding(human_indexes)\n",
    "        pre_lstm, _ = self.pre_attention_bilstm(human_embeds)\n",
    "        return pre_lstm\n",
    "    \n",
    "class Decoder(nn.Module):\n",
    "    \n",
    "    \"\"\"\n",
    "    Doesn't actually take in previous character as likely not very correlated.\n",
    "    Most of the correlation lies within the encoder vectors\n",
    "    \"\"\"\n",
    "    \n",
    "    def __init__(self):\n",
    "        super(Decoder, self).__init__()\n",
    "        self.hidden_size = 64\n",
    "        ## 128 b/c concat 2*64\n",
    "        self.densor1 = nn.Linear(128, 10)\n",
    "        self.densor2 = nn.Linear(10, 1)\n",
    "        self.lstm = nn.LSTM(64, 64, batch_first=True)\n",
    "        self.dense_out = nn.Linear(64, 11)\n",
    "        self.embedding = nn.Embedding(11, 64)\n",
    "        \n",
    "    def forward(self, previous_hidden, previous_cell, encodings):\n",
    "        batch_size = encodings.shape[0]\n",
    "        previous_hidden_expanded = previous_hidden.view(batch_size, 1, -1)\n",
    "        previous_hidden_expanded = previous_hidden_expanded.repeat(1, 30, 1)\n",
    "        concat_vector = torch.cat((previous_hidden_expanded, encodings), 2)\n",
    "        densor1_out =  fn.tanh(self.densor1(concat_vector))\n",
    "        densor2_out = fn.relu(self.densor2(densor1_out))\n",
    "        self.attention_weights = fn.softmax(densor2_out, 1)\n",
    "        attention_weights_view = self.attention_weights.view(batch_size, 1, 30)\n",
    "        weighted_encodings = torch.bmm(attention_weights_view, encodings)\n",
    "        lstm_out, (h_out, c_out) = self.lstm(weighted_encodings, \n",
    "                                             (previous_hidden, previous_cell))\n",
    "        out = self.dense_out(lstm_out).squeeze(1)\n",
    "        return out, h_out, c_out\n",
    "        \n",
    "    def initHidden(self, batch_size):\n",
    "        return torch.zeros(1, batch_size, self.hidden_size, device=device)\n",
    "    \n",
    "    def getAttentionWeights(self):\n",
    "        return self.attention_weights"
   ]
  },
  {
   "cell_type": "code",
   "execution_count": 6,
   "metadata": {},
   "outputs": [],
   "source": [
    "n_epochs = 4\n",
    "learning_rate = 0.001\n",
    "batch_size = 16\n",
    "\n",
    "encoder = Encoder(len(human_vocab)).to(device)\n",
    "decoder = Decoder().to(device)\n",
    "data_loader = data.DataLoader(dataset=date_dataset,\n",
    "                             batch_size=batch_size,\n",
    "                             shuffle=True)\n",
    "encoder_optimizer = optim.Adam(encoder.parameters(), lr=learning_rate)\n",
    "decoder_optimizer = optim.Adam(decoder.parameters(), lr=learning_rate)\n",
    "criterion = nn.CrossEntropyLoss()"
   ]
  },
  {
   "cell_type": "code",
   "execution_count": 7,
   "metadata": {},
   "outputs": [
    {
     "name": "stdout",
     "output_type": "stream",
     "text": [
      "0/2500\n",
      "Avg Loss: 24.087318420410156\n",
      "200/2500\n",
      "Avg Loss: 18.363502821922303\n",
      "400/2500\n",
      "Avg Loss: 10.043102557659148\n",
      "600/2500\n",
      "Avg Loss: 7.36011468410492\n",
      "800/2500\n",
      "Avg Loss: 4.358691869974137\n",
      "1000/2500\n",
      "Avg Loss: 1.640362522006035\n",
      "1200/2500\n",
      "Avg Loss: 0.5821093444526195\n",
      "1400/2500\n",
      "Avg Loss: 0.2575613734126091\n",
      "1600/2500\n",
      "Avg Loss: 0.1422294796258211\n",
      "1800/2500\n",
      "Avg Loss: 0.08900793068110943\n",
      "2000/2500\n",
      "Avg Loss: 0.05946274444460869\n",
      "2200/2500\n",
      "Avg Loss: 0.0432068358361721\n",
      "2400/2500\n",
      "Avg Loss: 0.03361487060785293\n"
     ]
    }
   ],
   "source": [
    "total_loss = 0\n",
    "total_i = 0\n",
    "losses = []\n",
    "print_n = 200\n",
    "for epoch in range(n_epochs):\n",
    "    for i, (x, machine_date_indexes) in enumerate(data_loader):\n",
    "        encoder_optimizer.zero_grad()\n",
    "        decoder_optimizer.zero_grad()\n",
    "        \n",
    "        pre_lstm_vectors = encoder(x)\n",
    "        \n",
    "        previous_hidden = decoder.initHidden(batch_size)\n",
    "        previous_cell = decoder.initHidden(batch_size)\n",
    "        \n",
    "        loss = 0\n",
    "        for j in range(10):\n",
    "            out, previous_hidden, previous_cell = decoder(previous_hidden, previous_cell, pre_lstm_vectors)\n",
    "            actuals = machine_date_indexes[:,j]\n",
    "            loss += criterion(out, actuals)\n",
    "            \n",
    "        loss.backward()\n",
    "\n",
    "        encoder_optimizer.step()\n",
    "        decoder_optimizer.step()\n",
    "        \n",
    "        total_i += 1\n",
    "        total_loss += loss.item()\n",
    "        if (epoch * len(data_loader) + i) % print_n == 0:\n",
    "            print(\"{0}/{1}\".format(epoch * len(data_loader) + i, \n",
    "                                   n_epochs*len(data_loader)))\n",
    "            avg_loss = total_loss / total_i\n",
    "            total_i = 0\n",
    "            total_loss = 0\n",
    "            print(\"Avg Loss: {}\".format(avg_loss))\n",
    "            losses.append(avg_loss)"
   ]
  },
  {
   "cell_type": "code",
   "execution_count": 8,
   "metadata": {},
   "outputs": [
    {
     "data": {
      "text/plain": [
       "[<matplotlib.lines.Line2D at 0x7f33b7dda4e0>]"
      ]
     },
     "execution_count": 8,
     "metadata": {},
     "output_type": "execute_result"
    },
    {
     "data": {
      "image/png": "[encoded data removed]",
      "text/plain": [
       "<matplotlib.figure.Figure at 0x7f33bc04a358>"
      ]
     },
     "metadata": {},
     "output_type": "display_data"
    }
   ],
   "source": [
    "plt.plot(losses)"
   ]
  },
  {
   "cell_type": "code",
   "execution_count": 9,
   "metadata": {},
   "outputs": [
    {
     "name": "stdout",
     "output_type": "stream",
     "text": [
      "source: 3 May 1979\n",
      "output: 1979-05-03\n",
      "source: 5 April 09\n",
      "output: 2009-04-05\n",
      "source: 21th of August 2016\n",
      "output: 2016-08-01\n",
      "source: Tue 10 Jul 2007\n",
      "output: 2007-07-10\n",
      "source: Saturday May 9 2018\n",
      "output: 2018-05-09\n",
      "source: March 3 2001\n",
      "output: 2001-03-03\n",
      "source: March 3rd 2001\n",
      "output: 2001-03-03\n",
      "source: 1 March 2001\n",
      "output: 2001-03-01\n"
     ]
    }
   ],
   "source": [
    "EXAMPLES = ['3 May 1979', '5 April 09', '21th of August 2016', \n",
    "            'Tue 10 Jul 2007', 'Saturday May 9 2018', \n",
    "            'March 3 2001', 'March 3rd 2001', '1 March 2001']\n",
    "encoder.eval()\n",
    "decoder.eval()\n",
    "all_weights = []\n",
    "outputs = []\n",
    "with torch.no_grad():\n",
    "    for example in EXAMPLES:\n",
    "\n",
    "        source = string_to_int(example, max_human_length, human_vocab)\n",
    "\n",
    "        x = torch.LongTensor(source).unsqueeze(0).to(device)\n",
    "        \n",
    "        \n",
    "        pre_lstm_vectors = encoder(x)\n",
    "        \n",
    "        previous_hidden = decoder.initHidden(1)\n",
    "        previous_cell = decoder.initHidden(1)\n",
    "        \n",
    "        prediction = []\n",
    "        attn_weights = []\n",
    "        \n",
    "        for _ in range(max_machine_length):\n",
    "            out, previous_hidden, previous_cell = decoder(previous_hidden, previous_cell, pre_lstm_vectors)\n",
    "            out = out.squeeze(0)\n",
    "            attn_weights.append(decoder.getAttentionWeights().data.cpu().numpy()[0,:,0])\n",
    "            out_max = out.argmax()\n",
    "            prediction.append(out_max.item())\n",
    "\n",
    "        output = [inv_machine_vocab[int(i)] for i in prediction]\n",
    "        \n",
    "        outputs.append(output)\n",
    "        all_weights.append(attn_weights)\n",
    "\n",
    "        print(\"source:\", example)\n",
    "        print(\"output:\", ''.join(output))"
   ]
  },
  {
   "cell_type": "markdown",
   "metadata": {},
   "source": [
    "## Visualize Weights"
   ]
  },
  {
   "cell_type": "code",
   "execution_count": 10,
   "metadata": {},
   "outputs": [],
   "source": [
    "def plot_attn(attn_weights, input_sent, output_sent):\n",
    "    # Plot the attention_map\n",
    "    plt.clf()\n",
    "    f = plt.figure(figsize=(8, 8.5))\n",
    "    ax = f.add_subplot(1, 1, 1)\n",
    "\n",
    "    # add image\n",
    "    i = ax.imshow(attn_weights, interpolation='nearest', cmap='Blues')\n",
    "\n",
    "    # add colorbar\n",
    "    cbaxes = f.add_axes([0.2, 0, 0.6, 0.03])\n",
    "    cbar = f.colorbar(i, cax=cbaxes, orientation='horizontal')\n",
    "    cbar.ax.set_xlabel('Alpha value (Probability output of the \"softmax\")', labelpad=2)\n",
    "\n",
    "    # add labels\n",
    "    ax.set_yticks(range(10))\n",
    "    ax.set_yticklabels(output_sent)\n",
    "\n",
    "    ax.set_xticks(range(30))\n",
    "    ax.set_xticklabels(input_sent[:30], rotation=45)\n",
    "\n",
    "    ax.set_xlabel('Input Sequence')\n",
    "    ax.set_ylabel('Output Sequence')\n",
    "\n",
    "    # add grid and legend\n",
    "    ax.grid()"
   ]
  },
  {
   "cell_type": "code",
   "execution_count": 11,
   "metadata": {},
   "outputs": [
    {
     "data": {
      "text/plain": [
       "<matplotlib.figure.Figure at 0x7f33bc04a128>"
      ]
     },
     "metadata": {},
     "output_type": "display_data"
    },
    {
     "data": {
      "image/png": "[encoded data removed]",
      "text/plain": [
       "<matplotlib.figure.Figure at 0x7f33b7df2908>"
      ]
     },
     "metadata": {},
     "output_type": "display_data"
    }
   ],
   "source": [
    "index=0\n",
    "plot_attn(all_weights[index], EXAMPLES[index], outputs[index])"
   ]
  },
  {
   "cell_type": "code",
   "execution_count": null,
   "metadata": {},
   "outputs": [],
   "source": []
  }
 ],
 "metadata": {
  "kernelspec": {
   "display_name": "Python 3",
   "language": "python",
   "name": "python3"
  },
  "language_info": {
   "codemirror_mode": {
    "name": "ipython",
    "version": 3
   },
   "file_extension": ".py",
   "mimetype": "text/x-python",
   "name": "python",
   "nbconvert_exporter": "python",
   "pygments_lexer": "ipython3",
   "version": "3.6.1"
  }
 },
 "nbformat": 4,
 "nbformat_minor": 2
}
