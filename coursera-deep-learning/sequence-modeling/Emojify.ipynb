{
 "cells": [
  {
   "cell_type": "code",
   "execution_count": 218,
   "metadata": {},
   "outputs": [],
   "source": [
    "import numpy as np\n",
    "import torch.nn as nn\n",
    "import torch.nn.functional as fn\n",
    "import torch.optim as optim\n",
    "import torch\n",
    "from sklearn.utils import shuffle\n",
    "import matplotlib.pyplot as plt\n",
    "import torch.utils.data as data\n",
    "from torch.nn.utils.rnn import pack_padded_sequence\n",
    "import operator\n",
    "%matplotlib inline"
   ]
  },
  {
   "cell_type": "code",
   "execution_count": 2,
   "metadata": {},
   "outputs": [],
   "source": [
    "class_to_name = {0: \"Heart\", 1: \"Baseball\", 2: \"Smile\", 3: \"Disappointed\",\n",
    "                4: \"Fork and Knife\"}"
   ]
  },
  {
   "cell_type": "code",
   "execution_count": 3,
   "metadata": {},
   "outputs": [],
   "source": [
    "def read_data(path):\n",
    "    sentences = []\n",
    "    labels = []\n",
    "    with open(path, \"r\") as f:\n",
    "        for line in f:\n",
    "            columns = line.split(\",\")\n",
    "            sentences.append(columns[0].replace('\"',\"\").lower().strip())\n",
    "            labels.append(int(columns[1]))\n",
    "    return sentences, labels\n",
    "\n",
    "def read_glove_vecs(path):\n",
    "    word_to_vec_map = {}\n",
    "    word_to_index = {}\n",
    "    index_to_word = {}\n",
    "    with open(path, \"r\") as f:\n",
    "        for i, line in enumerate(f):\n",
    "            columns = line.split(\" \")\n",
    "            word = columns[0]\n",
    "            vector = columns[1:]\n",
    "            word_to_vec_map[word] = [float(v.strip()) for v in vector]\n",
    "            word_to_index[word] = i\n",
    "            index_to_word[i] = word\n",
    "    return word_to_index, index_to_word, word_to_vec_map\n",
    "\n",
    "def sentence_to_avg(sentence, word_to_vec_map):\n",
    "    avg = np.zeros((50,))\n",
    "    words = [i.lower() for i in sentence.split()]\n",
    "    for word in words:\n",
    "        avg += word_to_vec_map[word]\n",
    "    avg = avg / len(words)\n",
    "    return avg\n",
    "\n",
    "class Classifier(nn.Module):\n",
    "    def __init__(self):\n",
    "        super(Classifier, self).__init__()\n",
    "        self.linear = nn.Linear(50, 25)\n",
    "        self.linear2 = nn.Linear(25, 5)\n",
    "        \n",
    "    def forward(self, avg):\n",
    "        return fn.softmax(self.linear2(self.linear(avg)), dim=0)\n",
    "    \n",
    "def predict(sentence, classifier):\n",
    "    avg = sentence_to_avg(sentence, word_to_vec_map)\n",
    "    avg = torch.FloatTensor(avg).to(device)\n",
    "    predictions = classifier(avg)\n",
    "    prediction = predictions.argmax().item()\n",
    "    return class_to_name[prediction], prediction\n",
    "\n",
    "def evaluate(sentences, labels, classifier):\n",
    "    correct = 0\n",
    "    for i in range(len(sentences)):\n",
    "        sentence = sentences[i]\n",
    "        label = labels[i]\n",
    "        class_name, class_index = predict(sentence, classifier)\n",
    "        correct += class_index == label\n",
    "    return correct / len(sentences)"
   ]
  },
  {
   "cell_type": "markdown",
   "metadata": {},
   "source": [
    "## Avg Embeddings Model"
   ]
  },
  {
   "cell_type": "code",
   "execution_count": 4,
   "metadata": {},
   "outputs": [],
   "source": [
    "n_epochs = 400"
   ]
  },
  {
   "cell_type": "code",
   "execution_count": 5,
   "metadata": {},
   "outputs": [],
   "source": [
    "device = torch.device('cuda' if torch.cuda.is_available() else 'cpu')\n",
    "\n",
    "train_sentences, train_labels = read_data(\"/home/tyler/data/text/emoji/train_emoji.csv\")\n",
    "test_sentences, test_labels = read_data(\"/home/tyler/data/text/emoji/tesss.csv\")"
   ]
  },
  {
   "cell_type": "code",
   "execution_count": 6,
   "metadata": {},
   "outputs": [],
   "source": [
    "max_len = len(max(train_sentences, key=len).split())"
   ]
  },
  {
   "cell_type": "code",
   "execution_count": 7,
   "metadata": {},
   "outputs": [],
   "source": [
    "word_to_index, index_to_word, word_to_vec_map = read_glove_vecs('/home/tyler/data/text/glove/glove.6B.50d.txt')"
   ]
  },
  {
   "cell_type": "code",
   "execution_count": null,
   "metadata": {},
   "outputs": [],
   "source": [
    "classifier = Classifier().to(device)\n",
    "criterion = nn.NLLLoss()\n",
    "optimizer = optim.Adam(classifier.parameters(), lr=.001)"
   ]
  },
  {
   "cell_type": "code",
   "execution_count": null,
   "metadata": {},
   "outputs": [],
   "source": [
    "losses = []\n",
    "for epoch in range(n_epochs):\n",
    "    sentences, labels = shuffle(train_sentences, train_labels)\n",
    "    loss_avg = 0\n",
    "    for i in range(len(sentences)):\n",
    "        \n",
    "        classifier.zero_grad()\n",
    "        \n",
    "        sentence = sentences[i]\n",
    "        label = torch.LongTensor([labels[i]]).to(device)\n",
    "        \n",
    "        avg = sentence_to_avg(sentence, word_to_vec_map)\n",
    "        avg = torch.FloatTensor(avg).to(device)\n",
    "        predictions = classifier(avg)\n",
    "        loss = criterion(predictions.unsqueeze(0), label)\n",
    "        loss.backward()\n",
    "        optimizer.step()\n",
    "        loss_avg += loss.item()\n",
    "    losses.append(loss_avg / len(sentences))"
   ]
  },
  {
   "cell_type": "code",
   "execution_count": null,
   "metadata": {},
   "outputs": [],
   "source": [
    "plt.plot(losses)"
   ]
  },
  {
   "cell_type": "code",
   "execution_count": null,
   "metadata": {},
   "outputs": [],
   "source": [
    "predict(\"lets play ball\", classifier)"
   ]
  },
  {
   "cell_type": "code",
   "execution_count": null,
   "metadata": {},
   "outputs": [],
   "source": [
    "evaluate(test_sentences, test_labels, classifier)"
   ]
  },
  {
   "cell_type": "code",
   "execution_count": null,
   "metadata": {},
   "outputs": [],
   "source": [
    "evaluate(train_sentences, train_labels, classifier)"
   ]
  },
  {
   "cell_type": "markdown",
   "metadata": {},
   "source": [
    "## LSTM"
   ]
  },
  {
   "cell_type": "code",
   "execution_count": 8,
   "metadata": {},
   "outputs": [],
   "source": [
    "## convert embedding dict to numpy matrix\n",
    "glove_numpy = np.zeros((len(word_to_vec_map)+1, 50))\n",
    "for i in range(len(index_to_word)):\n",
    "    glove_numpy[i,:] = word_to_vec_map[index_to_word[i]]"
   ]
  },
  {
   "cell_type": "code",
   "execution_count": 203,
   "metadata": {},
   "outputs": [],
   "source": [
    "class EmojiDataset(data.Dataset):\n",
    "    def __init__(self, sentences, labels, word_to_index, max_len):\n",
    "        self.sentences = sentences\n",
    "        self.labels = labels\n",
    "        self.word_to_index = word_to_index\n",
    "        self.len = len(labels)\n",
    "        self.max_len = max_len\n",
    "        \n",
    "    def sentence_to_indexes(self, sentence):\n",
    "        indexes = np.full(max_len, 400000)\n",
    "        for i, word in enumerate(sentence.split()):\n",
    "            indexes[i] = word_to_index[word]\n",
    "        return indexes\n",
    "        \n",
    "    def __getitem__(self, index):\n",
    "        sentence = self.sentences[index]\n",
    "        label = self.labels[index]\n",
    "        sentence_tensor = torch.LongTensor(self.sentence_to_indexes(sentence))\n",
    "        return sentence_tensor, torch.LongTensor([label]), torch.LongTensor([len(sentence.split())])\n",
    "        \n",
    "    def __len__(self):\n",
    "        return self.len\n",
    "\n",
    "emoji = EmojiDataset(train_sentences, train_labels, word_to_index, max_len)\n",
    "data_loader = data.DataLoader(dataset=emoji,\n",
    "                             batch_size=8,\n",
    "                             shuffle=True)"
   ]
  },
  {
   "cell_type": "code",
   "execution_count": 367,
   "metadata": {},
   "outputs": [],
   "source": [
    "class LSTMClassifier(nn.Module):\n",
    "    def __init__(self):\n",
    "        super(LSTMClassifier, self).__init__()\n",
    "        self.embedding = nn.Embedding(400001, 50, padding_idx=400000)\n",
    "        self.embedding.weight.data.copy_(torch.from_numpy(glove_numpy))\n",
    "        # Don't train the embedding layer since don't have much data\n",
    "        self.embedding.weight.requires_grad = False\n",
    "        self.lstm = nn.LSTM(50, 128, 2, dropout=0.50,\n",
    "                            batch_first=True)\n",
    "        self.linear = nn.Linear(128, 5)\n",
    "        \n",
    "    def forward(self, sentence_indexes, lengths):\n",
    "        embeds = self.embedding(sentence_indexes)\n",
    "        # the packed sequence allows us to use -1 to get the last non-padded word\n",
    "        packed = pack_padded_sequence(embeds, list(lengths.data), batch_first=True)\n",
    "        rnn, _ = self.lstm(embeds)\n",
    "        # only take last value from LSTM\n",
    "        out = self.linear(rnn[:,-1,:])\n",
    "        return out"
   ]
  },
  {
   "cell_type": "code",
   "execution_count": 368,
   "metadata": {},
   "outputs": [
    {
     "name": "stdout",
     "output_type": "stream",
     "text": [
      "0\n",
      "25\n"
     ]
    }
   ],
   "source": [
    "n_epochs = 30\n",
    "lstm = LSTMClassifier()\n",
    "lstm.to(device)\n",
    "criterion = nn.CrossEntropyLoss()\n",
    "optimizer = optim.Adam(filter(lambda p: p.requires_grad, lstm.parameters()), \n",
    "                       lr=0.001)\n",
    "losses = []\n",
    "for epoch in range(n_epochs):\n",
    "    loss_avg = 0\n",
    "    for i, (sentence_indexes, label, length) in enumerate(data_loader):\n",
    "        \n",
    "        si2 = np.zeros((sentence_indexes.shape[0], sentence_indexes.shape[1]))\n",
    "        \n",
    "        # need to sort them for padding\n",
    "        sentence_indexes, length, label = zip(*sorted(zip(\n",
    "            sentence_indexes.numpy(), \n",
    "            length.numpy(), label.numpy()), \n",
    "            key=operator.itemgetter(1), reverse=True))\n",
    "        \n",
    "        length = torch.LongTensor(np.array([x[0] for x in length])).unsqueeze(-1)\n",
    "        label = torch.LongTensor(np.array([x[0] for x in label])).unsqueeze(-1)\n",
    "        \n",
    "        for i, s in enumerate(sentence_indexes):\n",
    "            si2[i,:] = s\n",
    "        \n",
    "        sentence_indexes = torch.LongTensor(si2)\n",
    "        \n",
    "        sentence_indexes = sentence_indexes.to(device)\n",
    "        label = label.to(device)\n",
    "        length = length.to(device)\n",
    "        lstm.zero_grad()\n",
    "        predictions = lstm(sentence_indexes, length)\n",
    "        loss = criterion(predictions, label.squeeze(-1))\n",
    "        loss.backward()\n",
    "        optimizer.step()\n",
    "        loss_avg += loss.item()\n",
    "    if epoch % 25 == 0:\n",
    "        print(epoch)\n",
    "    losses.append(loss_avg / len(data_loader))"
   ]
  },
  {
   "cell_type": "code",
   "execution_count": 369,
   "metadata": {},
   "outputs": [
    {
     "data": {
      "text/plain": [
       "[<matplotlib.lines.Line2D at 0x7f4c099b9198>]"
      ]
     },
     "execution_count": 369,
     "metadata": {},
     "output_type": "execute_result"
    },
    {
     "data": {
      "image/png": "[encoded data removed]",
      "text/plain": [
       "<matplotlib.figure.Figure at 0x7f4c09e34128>"
      ]
     },
     "metadata": {},
     "output_type": "display_data"
    }
   ],
   "source": [
    "plt.plot(losses)"
   ]
  },
  {
   "cell_type": "code",
   "execution_count": 370,
   "metadata": {},
   "outputs": [],
   "source": [
    "def predict(sentence, classifier):\n",
    "        classifier.eval()\n",
    "        indexes = np.full(max_len, 400000)\n",
    "        for i, word in enumerate([l.lower() for l in sentence.split()]):\n",
    "            indexes[i] = word_to_index[word]\n",
    "        indexes = torch.LongTensor(indexes).to(device)\n",
    "        indexes = indexes.unsqueeze(0)\n",
    "        predictions = classifier(indexes, torch.LongTensor([len(sentence.split())]))\n",
    "        prediction = predictions.argmax().item()\n",
    "        return class_to_name[prediction], prediction\n",
    "    \n",
    "def evaluate(sentences, labels, classifier):\n",
    "    correct = 0\n",
    "    for i in range(len(sentences)):\n",
    "        sentence = sentences[i]\n",
    "        label = labels[i]\n",
    "        class_name, class_index = predict(sentence, classifier)\n",
    "        correct += class_index == label\n",
    "    return correct / len(sentences)"
   ]
  },
  {
   "cell_type": "code",
   "execution_count": 388,
   "metadata": {},
   "outputs": [
    {
     "data": {
      "text/plain": [
       "('Disappointed', 3)"
      ]
     },
     "execution_count": 388,
     "metadata": {},
     "output_type": "execute_result"
    }
   ],
   "source": [
    "predict(\"im not happy to see you\", lstm)"
   ]
  }
 ],
 "metadata": {
  "kernelspec": {
   "display_name": "Python 3",
   "language": "python",
   "name": "python3"
  },
  "language_info": {
   "codemirror_mode": {
    "name": "ipython",
    "version": 3
   },
   "file_extension": ".py",
   "mimetype": "text/x-python",
   "name": "python",
   "nbconvert_exporter": "python",
   "pygments_lexer": "ipython3",
   "version": "3.5.3"
  }
 },
 "nbformat": 4,
 "nbformat_minor": 2
}
