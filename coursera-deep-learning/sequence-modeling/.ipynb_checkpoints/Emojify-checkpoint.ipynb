{
 "cells": [
  {
   "cell_type": "code",
   "execution_count": 61,
   "metadata": {},
   "outputs": [],
   "source": [
    "import numpy as np\n",
    "import torch.nn as nn\n",
    "import torch.nn.functional as fn\n",
    "import torch.optim as optim\n",
    "import torch\n",
    "from sklearn.utils import shuffle\n",
    "import matplotlib.pyplot as plt\n",
    "%matplotlib inline"
   ]
  },
  {
   "cell_type": "code",
   "execution_count": 2,
   "metadata": {},
   "outputs": [],
   "source": [
    "class_to_name = {0: \"Heart\", 1: \"Baseball\", 2: \"Smile\", 3: \"Disappointed\",\n",
    "                4: \"Fork and Knife\"}"
   ]
  },
  {
   "cell_type": "code",
   "execution_count": 107,
   "metadata": {},
   "outputs": [],
   "source": [
    "def read_data(path):\n",
    "    sentences = []\n",
    "    labels = []\n",
    "    with open(path, \"r\") as f:\n",
    "        for line in f:\n",
    "            columns = line.split(\",\")\n",
    "            sentences.append(columns[0].replace('\"',\"\").lower().strip())\n",
    "            labels.append(int(columns[1]))\n",
    "    return sentences, labels\n",
    "\n",
    "def read_glove_vecs(path):\n",
    "    word_to_vec_map = {}\n",
    "    word_to_index = {}\n",
    "    index_to_word = {}\n",
    "    with open(path, \"r\") as f:\n",
    "        for i, line in enumerate(f):\n",
    "            columns = line.split(\" \")\n",
    "            word = columns[0]\n",
    "            vector = columns[1:]\n",
    "            word_to_vec_map[word] = [float(v.strip()) for v in vector]\n",
    "            word_to_index[word] = i\n",
    "            index_to_word[i] = word\n",
    "    return word_to_index, index_to_word, word_to_vec_map\n",
    "\n",
    "def sentence_to_avg(sentence, word_to_vec_map):\n",
    "    avg = np.zeros((50,))\n",
    "    words = [i.lower() for i in sentence.split()]\n",
    "    for word in words:\n",
    "        avg += word_to_vec_map[word]\n",
    "    avg = avg / len(words)\n",
    "    return avg\n",
    "\n",
    "class Classifier(nn.Module):\n",
    "    def __init__(self):\n",
    "        super(Classifier, self).__init__()\n",
    "        self.linear = nn.Linear(50, 25)\n",
    "        self.linear2 = nn.Linear(25, 5)\n",
    "        \n",
    "    def forward(self, avg):\n",
    "        return fn.softmax(self.linear2(self.linear(avg)), dim=0)\n",
    "    \n",
    "def predict(sentence, classifier):\n",
    "    avg = sentence_to_avg(sentence, word_to_vec_map)\n",
    "    avg = torch.FloatTensor(avg).to(device)\n",
    "    predictions = classifier(avg)\n",
    "    prediction = predictions.argmax().item()\n",
    "    return class_to_name[prediction], prediction\n",
    "\n",
    "def evaluate(sentences, labels, classifier):\n",
    "    correct = 0\n",
    "    for i in range(len(sentences)):\n",
    "        sentence = sentences[i]\n",
    "        label = labels[i]\n",
    "        class_name, class_index = predict(sentence, classifier)\n",
    "        correct += class_index == label\n",
    "    return correct / len(sentences)"
   ]
  },
  {
   "cell_type": "markdown",
   "metadata": {},
   "source": [
    "## Avg Embeddings Model"
   ]
  },
  {
   "cell_type": "code",
   "execution_count": 92,
   "metadata": {},
   "outputs": [],
   "source": [
    "n_epochs = 400"
   ]
  },
  {
   "cell_type": "code",
   "execution_count": 25,
   "metadata": {},
   "outputs": [],
   "source": [
    "device = torch.device('cuda' if torch.cuda.is_available() else 'cpu')\n",
    "\n",
    "train_sentences, train_labels = read_data(\"/home/tyler/data/text/emoji/train_emoji.csv\")\n",
    "test_sentences, test_labels = read_data(\"/home/tyler/data/text/emoji/tesss.csv\")"
   ]
  },
  {
   "cell_type": "code",
   "execution_count": 5,
   "metadata": {},
   "outputs": [],
   "source": [
    "max_len = len(max(train_sentences, key=len).split())"
   ]
  },
  {
   "cell_type": "code",
   "execution_count": 6,
   "metadata": {},
   "outputs": [],
   "source": [
    "word_to_index, index_to_word, word_to_vec_map = read_glove_vecs('/home/tyler/data/text/glove/glove.6B.50d.txt')"
   ]
  },
  {
   "cell_type": "code",
   "execution_count": 108,
   "metadata": {},
   "outputs": [],
   "source": [
    "classifier = Classifier().to(device)\n",
    "criterion = nn.NLLLoss()\n",
    "optimizer = optim.Adam(classifier.parameters(), lr=.001)"
   ]
  },
  {
   "cell_type": "code",
   "execution_count": 109,
   "metadata": {},
   "outputs": [],
   "source": [
    "losses = []\n",
    "for epoch in range(n_epochs):\n",
    "    sentences, labels = shuffle(train_sentences, train_labels)\n",
    "    loss_avg = 0\n",
    "    for i in range(len(sentences)):\n",
    "        \n",
    "        classifier.zero_grad()\n",
    "        \n",
    "        sentence = sentences[i]\n",
    "        label = torch.LongTensor([labels[i]]).to(device)\n",
    "        \n",
    "        avg = sentence_to_avg(sentence, word_to_vec_map)\n",
    "        avg = torch.FloatTensor(avg).to(device)\n",
    "        predictions = classifier(avg)\n",
    "        loss = criterion(predictions.unsqueeze(0), label)\n",
    "        loss.backward()\n",
    "        optimizer.step()\n",
    "        loss_avg += loss.item()\n",
    "    losses.append(loss_avg / len(sentences))"
   ]
  },
  {
   "cell_type": "code",
   "execution_count": 110,
   "metadata": {},
   "outputs": [
    {
     "data": {
      "text/plain": [
       "[<matplotlib.lines.Line2D at 0x7fc55b255908>]"
      ]
     },
     "execution_count": 110,
     "metadata": {},
     "output_type": "execute_result"
    },
    {
     "data": {
      "image/png": "[encoded data removed]",
      "text/plain": [
       "<matplotlib.figure.Figure at 0x7fc55b324b00>"
      ]
     },
     "metadata": {},
     "output_type": "display_data"
    }
   ],
   "source": [
    "plt.plot(losses)"
   ]
  },
  {
   "cell_type": "code",
   "execution_count": 121,
   "metadata": {},
   "outputs": [
    {
     "data": {
      "text/plain": [
       "('Baseball', 1)"
      ]
     },
     "execution_count": 121,
     "metadata": {},
     "output_type": "execute_result"
    }
   ],
   "source": [
    "predict(\"lets play ball\", classifier)"
   ]
  },
  {
   "cell_type": "code",
   "execution_count": 114,
   "metadata": {},
   "outputs": [
    {
     "data": {
      "text/plain": [
       "0.875"
      ]
     },
     "execution_count": 114,
     "metadata": {},
     "output_type": "execute_result"
    }
   ],
   "source": [
    "evaluate(test_sentences, test_labels, classifier)"
   ]
  },
  {
   "cell_type": "code",
   "execution_count": 115,
   "metadata": {},
   "outputs": [
    {
     "data": {
      "text/plain": [
       "0.9621212121212122"
      ]
     },
     "execution_count": 115,
     "metadata": {},
     "output_type": "execute_result"
    }
   ],
   "source": [
    "evaluate(train_sentences, train_labels, classifier)"
   ]
  },
  {
   "cell_type": "code",
   "execution_count": null,
   "metadata": {},
   "outputs": [],
   "source": []
  }
 ],
 "metadata": {
  "kernelspec": {
   "display_name": "Python 3",
   "language": "python",
   "name": "python3"
  },
  "language_info": {
   "codemirror_mode": {
    "name": "ipython",
    "version": 3
   },
   "file_extension": ".py",
   "mimetype": "text/x-python",
   "name": "python",
   "nbconvert_exporter": "python",
   "pygments_lexer": "ipython3",
   "version": "3.6.1"
  }
 },
 "nbformat": 4,
 "nbformat_minor": 2
}
