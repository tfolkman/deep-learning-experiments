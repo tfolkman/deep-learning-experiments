{
 "cells": [
  {
   "cell_type": "code",
   "execution_count": 14,
   "metadata": {},
   "outputs": [],
   "source": [
    "from torch.utils.data import DataLoader,Dataset\n",
    "import torchvision.datasets as dset\n",
    "import numpy as np\n",
    "from PIL import Image\n",
    "import random\n",
    "import torch\n",
    "from torch import nn\n",
    "from torch.nn import functional\n",
    "from torch import optim\n",
    "import matplotlib.pyplot as plt\n",
    "from sklearn import manifold\n",
    "import os\n",
    "from sklearn.metrics.pairwise import cosine_similarity\n",
    "%matplotlib inline"
   ]
  },
  {
   "cell_type": "code",
   "execution_count": 2,
   "metadata": {},
   "outputs": [],
   "source": [
    "image_directory = \"/home/tyler/data/image/att_faces/\""
   ]
  },
  {
   "cell_type": "code",
   "execution_count": 3,
   "metadata": {},
   "outputs": [],
   "source": [
    "class  FacesDataset(Dataset):\n",
    "    \n",
    "    def __init__(self,imageFolderDataset, base_url, device):\n",
    "        self.imageFolderDataset = imageFolderDataset\n",
    "        self.base_url = base_url\n",
    "        self.device = device\n",
    "        \n",
    "    def __getitem__(self, index):\n",
    "        anchor_path, anchor_class = random.choice(self.imageFolderDataset.imgs)\n",
    "        anchor_split_path = anchor_path.split(\".\")[0].split(\"/\")\n",
    "        anchor_number = anchor_split_path[-1]\n",
    "        anchor_path_class = anchor_split_path[-2]\n",
    "        positive_number = anchor_number\n",
    "        while positive_number == anchor_number:\n",
    "            positive_number = np.random.randint(1, 11)\n",
    "        positive_path = self.base_url + anchor_path_class + \"/\" + str(positive_number) + \".pgm.png\"\n",
    "        negative_class = anchor_class\n",
    "        while negative_class == anchor_class:\n",
    "            negative_class = np.random.randint(40)\n",
    "        negative_id = np.random.randint(1, 11)\n",
    "        negative_class_text = ''\n",
    "        for text_class, int_class in self.imageFolderDataset.class_to_idx.items():\n",
    "            if int_class == negative_class:\n",
    "                negative_class_text = text_class\n",
    "        negative_path = self.base_url + negative_class_text + \"/\" + str(negative_id) + \".pgm.png\"\n",
    "        \n",
    "        \n",
    "        anchor_image = self.process_image(anchor_path)\n",
    "        positive_image = self.process_image(positive_path)\n",
    "        negative_image = self.process_image(negative_path)\n",
    "        \n",
    "        return anchor_image, positive_image, negative_image\n",
    "    \n",
    "    def process_image(self, path):\n",
    "        image = Image.open(path)\n",
    "        image = torch.FloatTensor(np.array(image.convert(\"L\"))).unsqueeze(0)\n",
    "        image = image.to(self.device)\n",
    "        return image\n",
    "    \n",
    "    def __len__(self):\n",
    "        return len(self.imageFolderDataset.imgs)"
   ]
  },
  {
   "cell_type": "code",
   "execution_count": 4,
   "metadata": {},
   "outputs": [],
   "source": [
    "folder_dataset = dset.ImageFolder(image_directory)\n",
    "device = \"cuda\" if torch.cuda.is_available() else \"cpu\"\n",
    "fdata = FacesDataset(folder_dataset, image_directory, device)\n",
    "fdataloader  = DataLoader(fdata,\n",
    "                        shuffle=True,\n",
    "                        num_workers=0,\n",
    "                        batch_size=32)"
   ]
  },
  {
   "cell_type": "code",
   "execution_count": 5,
   "metadata": {},
   "outputs": [],
   "source": [
    "class SiameseNet(nn.Module):\n",
    "    def __init__(self):\n",
    "        super(SiameseNet, self).__init__()\n",
    "        self.cnn1 = nn.Conv2d(in_channels=1, out_channels=64, kernel_size=5, stride=3)\n",
    "        self.cnn2 = nn.Conv2d(in_channels=64, out_channels=32, kernel_size=5, stride=3)\n",
    "        self.bn1 = nn.BatchNorm2d(32)\n",
    "        self.fc1 = nn.Linear(11*9*32, 128)\n",
    "        \n",
    "    def forward_once(self, x):\n",
    "        x = self.cnn1(x)\n",
    "        x = self.cnn2(x)\n",
    "        x = functional.relu(x)\n",
    "        x = self.bn1(x)\n",
    "        x = functional.dropout2d(x)\n",
    "        x = self.fc1(x.view(-1, 11*9*32))\n",
    "        return x\n",
    "        \n",
    "    def forward(self, anchor, positive, negative):\n",
    "        anchor_embedding = self.forward_once(anchor)\n",
    "        positive_embedding = self.forward_once(positive)\n",
    "        negative_embedding = self.forward_once(negative)\n",
    "        positive_distance = functional.pairwise_distance(anchor_embedding, positive_embedding)\n",
    "        negative_distance = functional.pairwise_distance(anchor_embedding, negative_embedding)\n",
    "        return positive_distance.unsqueeze(-1), negative_distance.unsqueeze(-1)"
   ]
  },
  {
   "cell_type": "code",
   "execution_count": 6,
   "metadata": {},
   "outputs": [],
   "source": [
    "margin = 0.5\n",
    "n_epochs = 500\n",
    "\n",
    "losses = []\n",
    "\n",
    "model = SiameseNet().to(device)\n",
    "criterion = nn.MarginRankingLoss(margin=margin, size_average=False)\n",
    "optimizer = optim.Adam(model.parameters())"
   ]
  },
  {
   "cell_type": "code",
   "execution_count": 7,
   "metadata": {},
   "outputs": [
    {
     "name": "stdout",
     "output_type": "stream",
     "text": [
      "Finished Epoch 0\n",
      "Finished Epoch 50\n",
      "Finished Epoch 100\n",
      "Finished Epoch 150\n",
      "Finished Epoch 200\n",
      "Finished Epoch 250\n",
      "Finished Epoch 300\n",
      "Finished Epoch 350\n",
      "Finished Epoch 400\n",
      "Finished Epoch 450\n"
     ]
    }
   ],
   "source": [
    "for epoch in range(n_epochs):\n",
    "    total_loss = 0\n",
    "    for i, (anchor, positive, negative) in enumerate(fdataloader):\n",
    "\n",
    "        positive_distance, negative_distance = model(anchor, positive, negative)\n",
    "        target = torch.FloatTensor(positive_distance.size()).fill_(1).to(device)\n",
    "        loss = criterion(negative_distance, positive_distance, target)\n",
    "\n",
    "        total_loss += loss.item()\n",
    "        optimizer.zero_grad()\n",
    "        loss.backward()\n",
    "        optimizer.step()\n",
    "    if epoch % 50 == 0:\n",
    "        print(\"Finished Epoch {0}\".format(epoch))\n",
    "    losses.append(total_loss / len(fdataloader))"
   ]
  },
  {
   "cell_type": "code",
   "execution_count": 8,
   "metadata": {},
   "outputs": [
    {
     "data": {
      "text/plain": [
       "[<matplotlib.lines.Line2D at 0x7fe7c8065d68>]"
      ]
     },
     "execution_count": 8,
     "metadata": {},
     "output_type": "execute_result"
    },
    {
     "data": {
      "image/png": "[encoded data removed]",
      "text/plain": [
       "<matplotlib.figure.Figure at 0x7fe7d79bfa58>"
      ]
     },
     "metadata": {},
     "output_type": "display_data"
    }
   ],
   "source": [
    "plt.plot(losses)"
   ]
  },
  {
   "cell_type": "markdown",
   "metadata": {},
   "source": [
    "## Process All Images"
   ]
  },
  {
   "cell_type": "code",
   "execution_count": 9,
   "metadata": {},
   "outputs": [],
   "source": [
    "image_paths = []\n",
    "for root, directories, filenames in os.walk(image_directory):\n",
    "    for filename in filenames: \n",
    "        path = os.path.join(root,filename)\n",
    "        if path.endswith(\"png\"):\n",
    "            image_paths.append(path)"
   ]
  },
  {
   "cell_type": "code",
   "execution_count": 10,
   "metadata": {},
   "outputs": [],
   "source": [
    "all_embeddings = np.zeros((len(image_paths), 128))\n",
    "groups = []\n",
    "for i, path in enumerate(image_paths):\n",
    "    embedding = model.forward_once(fdata.process_image(path).unsqueeze(0))\n",
    "    group = os.path.normpath(path).split(os.sep)[-2]\n",
    "    groups.append(group)\n",
    "    all_embeddings[i] = embedding.detach().cpu().numpy()"
   ]
  },
  {
   "cell_type": "code",
   "execution_count": 11,
   "metadata": {},
   "outputs": [],
   "source": [
    "tsne = manifold.TSNE(n_components=2, init='random', perplexity=10)\n",
    "Y = tsne.fit_transform(all_embeddings)"
   ]
  },
  {
   "cell_type": "code",
   "execution_count": 12,
   "metadata": {},
   "outputs": [],
   "source": [
    "group_to_index = {g:i for i, g in enumerate(set(groups))}\n",
    "group_indexes = [group_to_index[g] for g in groups]"
   ]
  },
  {
   "cell_type": "code",
   "execution_count": 13,
   "metadata": {},
   "outputs": [
    {
     "data": {
      "text/plain": [
       "<matplotlib.collections.PathCollection at 0x7fe770071eb8>"
      ]
     },
     "execution_count": 13,
     "metadata": {},
     "output_type": "execute_result"
    },
    {
     "data": {
      "image/png": "[encoded data removed]",
      "text/plain": [
       "<matplotlib.figure.Figure at 0x7fe7a69c2358>"
      ]
     },
     "metadata": {},
     "output_type": "display_data"
    }
   ],
   "source": [
    "plt.scatter(Y[:, 0], Y[:, 1], c=group_indexes, cmap=plt.cm.viridis)"
   ]
  },
  {
   "cell_type": "code",
   "execution_count": 35,
   "metadata": {},
   "outputs": [],
   "source": [
    "cosine_sim = cosine_similarity(all_embeddings, all_embeddings)\n",
    "np.fill_diagonal(cosine_sim, -1)"
   ]
  },
  {
   "cell_type": "code",
   "execution_count": 43,
   "metadata": {},
   "outputs": [],
   "source": [
    "def find_closest(index):\n",
    "    closest = np.argmax(cosine_sim[index])\n",
    "    \n",
    "    print(\"Group of input: {}\".format(groups[index]))\n",
    "    print(\"Group of Closest: {}\".format(groups[closest]))\n",
    "    print(\"Filename of input: {}\".format(image_paths[index]))\n",
    "    print(\"Filename of Closest: {}\".format(image_paths[closest]))"
   ]
  },
  {
   "cell_type": "code",
   "execution_count": 47,
   "metadata": {},
   "outputs": [
    {
     "name": "stdout",
     "output_type": "stream",
     "text": [
      "Group of input: s7\n",
      "Group of Closest: s7\n",
      "Filename of input: /home/tyler/data/image/att_faces/s7/5.pgm.png\n",
      "Filename of Closest: /home/tyler/data/image/att_faces/s7/10.pgm.png\n"
     ]
    }
   ],
   "source": [
    "find_closest(247)"
   ]
  },
  {
   "cell_type": "code",
   "execution_count": null,
   "metadata": {},
   "outputs": [],
   "source": []
  }
 ],
 "metadata": {
  "kernelspec": {
   "display_name": "Python 3",
   "language": "python",
   "name": "python3"
  },
  "language_info": {
   "codemirror_mode": {
    "name": "ipython",
    "version": 3
   },
   "file_extension": ".py",
   "mimetype": "text/x-python",
   "name": "python",
   "nbconvert_exporter": "python",
   "pygments_lexer": "ipython3",
   "version": "3.6.1"
  }
 },
 "nbformat": 4,
 "nbformat_minor": 2
}
