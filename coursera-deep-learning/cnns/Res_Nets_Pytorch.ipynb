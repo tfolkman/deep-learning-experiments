{
 "cells": [
  {
   "cell_type": "code",
   "execution_count": 1,
   "metadata": {},
   "outputs": [
    {
     "name": "stderr",
     "output_type": "stream",
     "text": [
      "/home/tyler/anaconda3/lib/python3.6/site-packages/h5py/__init__.py:34: FutureWarning: Conversion of the second argument of issubdtype from `float` to `np.floating` is deprecated. In future, it will be treated as `np.float64 == np.dtype(float).type`.\n",
      "  from ._conv import register_converters as _register_converters\n"
     ]
    }
   ],
   "source": [
    "import numpy as np\n",
    "from IPython.display import SVG\n",
    "import scipy.misc\n",
    "from matplotlib.pyplot import imshow\n",
    "import torch\n",
    "from torch import nn\n",
    "from torch.nn import functional\n",
    "import math\n",
    "from torch.utils import data\n",
    "from resnets_utils import load_dataset\n",
    "import matplotlib.pyplot as plt\n",
    "%matplotlib inline"
   ]
  },
  {
   "cell_type": "code",
   "execution_count": 2,
   "metadata": {},
   "outputs": [],
   "source": [
    "class IdentityBlock(nn.Module):\n",
    "    def __init__(self, in_channel, out_channels, f, in_size, conv_block=False,\n",
    "                s=2):\n",
    "        super(IdentityBlock, self).__init__()\n",
    "        if conv_block:\n",
    "            self.conv1 = nn.Conv2d(in_channel, out_channels[0], 1, s)\n",
    "            out1_size = int(((in_size - 1) / s) + 1)\n",
    "        else:\n",
    "            self.conv1 = nn.Conv2d(in_channel, out_channels[0], 1)\n",
    "            out1_size = int(((in_size - 1) / 1) + 1)\n",
    "        self.bn1 = nn.BatchNorm2d(out_channels[0])\n",
    "        ## we want same padding here\n",
    "        conv2_padding = int((f-1)/2)\n",
    "        self.conv2 = nn.Conv2d(out_channels[0], out_channels[1], f, \n",
    "                               padding=conv2_padding)\n",
    "        self.bn2 = nn.BatchNorm2d(out_channels[1])\n",
    "        self.conv3 = nn.Conv2d(out_channels[1], out_channels[2], 1)\n",
    "        self.bn3 = nn.BatchNorm2d(out_channels[2])\n",
    "        \n",
    "        #if conv block need some additional layers\n",
    "        self.conv_block = conv_block\n",
    "        if self.conv_block:\n",
    "            self.shortcut_conv = nn.Conv2d(in_channel, out_channels[2], 1, stride=s)\n",
    "            self.shortcut_bn = nn.BatchNorm2d(out_channels[2])\n",
    "        \n",
    "    def forward(self, x):\n",
    "        conv1_out = functional.relu(self.bn1(self.conv1(x)))\n",
    "        conv2_out = functional.relu(self.bn2(self.conv2(conv1_out)))\n",
    "        conv3_out = self.bn3(self.conv3(conv2_out))\n",
    "        if self.conv_block:\n",
    "            shortcut = self.shortcut_bn(self.shortcut_conv(x))\n",
    "        else:\n",
    "            shortcut = x\n",
    "        return functional.relu(shortcut + conv3_out)\n",
    "    \n",
    "class ResNet50(nn.Module):\n",
    "    def __init__(self, classes):\n",
    "        super(ResNet50, self).__init__()\n",
    "        \n",
    "        #stage 1\n",
    "        self.conv1 = nn.Conv2d(3, 64, 7, 2, 3)\n",
    "        self.bn1 = nn.BatchNorm2d(64)\n",
    "        self.mp1 = nn.MaxPool2d(3, stride=2)\n",
    "        \n",
    "        #stage 2\n",
    "        self.conv_block1 = IdentityBlock(64, [64,64,256], 3, 15,\n",
    "                                         conv_block=True, s=1)\n",
    "        self.id_block1 = IdentityBlock(256, [64,64,256], 3, 15)\n",
    "        self.id_block2 = IdentityBlock(256, [64,64,256], 3, 15)\n",
    "        \n",
    "        #stage 3\n",
    "        self.conv_block2 = IdentityBlock(256, [128,128,512], 3, 15,\n",
    "                                         conv_block=True, s=2)\n",
    "        self.id_block3 = IdentityBlock(512, [128,128,512], 3, 15)\n",
    "        self.id_block4 = IdentityBlock(512, [128,128,512], 3, 15)\n",
    "        self.id_block5 = IdentityBlock(512, [128,128,512], 3, 15)\n",
    "        \n",
    "        #stage 4\n",
    "        self.conv_block3 = IdentityBlock(512, [256, 256, 1024], 3, 8,\n",
    "                                         conv_block=True, s=2)\n",
    "        self.id_block6 = IdentityBlock(1024, [256, 256, 1024], 3, 8)\n",
    "        self.id_block7 = IdentityBlock(1024, [256, 256, 1024], 3, 8)\n",
    "        self.id_block8 = IdentityBlock(1024, [256, 256, 1024], 3, 8)\n",
    "        self.id_block9 = IdentityBlock(1024, [256, 256, 1024], 3, 8)\n",
    "        self.id_block10 = IdentityBlock(1024, [256, 256, 1024], 3, 8)\n",
    "        \n",
    "        #stage 5\n",
    "        self.conv_block4 = IdentityBlock(1024, [512, 512, 2048], 3, 4,\n",
    "                                         conv_block=True, s=2)\n",
    "        self.id_block11 = IdentityBlock(2048, [512, 512, 2048], 3, 4)\n",
    "        self.id_block12 = IdentityBlock(2048, [512, 512, 2048], 3, 4)\n",
    "        \n",
    "        #stage 6\n",
    "        self.ap = nn.AvgPool2d(2)\n",
    "        self.linear = nn.Linear(2048, classes)\n",
    "        \n",
    "    def forward(self, x):\n",
    "        batch_size = x.shape[0]\n",
    "        x = self.mp1(functional.relu(self.bn1(self.conv1(x))))\n",
    "        x = self.conv_block1(x)\n",
    "        x = self.id_block2(self.id_block1(x))\n",
    "        x = self.id_block5(self.id_block4(self.id_block3(self.conv_block2(x))))\n",
    "        x = self.id_block8(self.id_block7(self.id_block6(self.conv_block3(x))))\n",
    "        x = self.id_block10(self.id_block9(x))\n",
    "        x = self.id_block12(self.id_block11(self.conv_block4(x)))\n",
    "        x = self.ap(x).view(batch_size, -1)\n",
    "        x = functional.log_softmax(self.linear(x), dim=1)\n",
    "        return x"
   ]
  },
  {
   "cell_type": "code",
   "execution_count": 3,
   "metadata": {
    "scrolled": true
   },
   "outputs": [
    {
     "name": "stdout",
     "output_type": "stream",
     "text": [
      "number of training examples = 1080\n",
      "number of test examples = 120\n",
      "X_train shape: (1080, 64, 64, 3)\n",
      "Y_train shape: (1, 1080)\n",
      "X_test shape: (120, 64, 64, 3)\n",
      "Y_test shape: (1, 120)\n"
     ]
    }
   ],
   "source": [
    "X_train_orig, Y_train, X_test_orig, Y_test, classes = load_dataset()\n",
    "\n",
    "# Normalize image vectors\n",
    "X_train = X_train_orig/255.\n",
    "X_test = X_test_orig/255.\n",
    "\n",
    "print (\"number of training examples = \" + str(X_train.shape[0]))\n",
    "print (\"number of test examples = \" + str(X_test.shape[0]))\n",
    "print (\"X_train shape: \" + str(X_train.shape))\n",
    "print (\"Y_train shape: \" + str(Y_train.shape))\n",
    "print (\"X_test shape: \" + str(X_test.shape))\n",
    "print (\"Y_test shape: \" + str(Y_test.shape))"
   ]
  },
  {
   "cell_type": "code",
   "execution_count": 4,
   "metadata": {},
   "outputs": [],
   "source": [
    "n_epochs = 20\n",
    "bs = 128\n",
    "\n",
    "device = 'cuda' if torch.cuda.is_available() else 'cpu'\n",
    "resnet = ResNet50(6).to(device)\n",
    "optimizer = torch.optim.Adam(resnet.parameters())\n",
    "criterion = nn.NLLLoss()\n",
    "\n",
    "train_dataset = data.TensorDataset(torch.FloatTensor(X_train).to(device), \n",
    "                                   torch.LongTensor(Y_train).to(device).view(1080,1))\n",
    "train_loader = data.DataLoader(train_dataset, batch_size=bs, shuffle=True)\n",
    "test_dataset = data.TensorDataset(torch.FloatTensor(X_test).to(device), \n",
    "                                  torch.LongTensor(Y_test).to(device).view(120,1))\n",
    "test_loader = data.DataLoader(test_dataset, batch_size=bs, shuffle=False)"
   ]
  },
  {
   "cell_type": "code",
   "execution_count": 5,
   "metadata": {},
   "outputs": [
    {
     "name": "stdout",
     "output_type": "stream",
     "text": [
      "0\n",
      "1\n",
      "2\n",
      "3\n",
      "4\n",
      "5\n",
      "6\n",
      "7\n",
      "8\n",
      "9\n",
      "10\n",
      "11\n",
      "12\n",
      "13\n",
      "14\n",
      "15\n",
      "16\n",
      "17\n",
      "18\n",
      "19\n"
     ]
    }
   ],
   "source": [
    "size_loader = len(train_loader)\n",
    "losses = []\n",
    "for epoch in range(n_epochs):\n",
    "    print(epoch)\n",
    "    epoch_loss = 0\n",
    "    for i, (x,y) in enumerate(train_loader):\n",
    "        \n",
    "        optimizer.zero_grad()\n",
    "        \n",
    "        predictions = resnet(x.view(-1,3,64,64))\n",
    "                \n",
    "        loss = criterion(predictions, y.squeeze(-1))\n",
    "        epoch_loss += loss.item()\n",
    "        \n",
    "        loss.backward()\n",
    "        \n",
    "        optimizer.step()\n",
    "    \n",
    "    losses.append(epoch_loss / size_loader)"
   ]
  },
  {
   "cell_type": "code",
   "execution_count": 6,
   "metadata": {},
   "outputs": [
    {
     "data": {
      "text/plain": [
       "[<matplotlib.lines.Line2D at 0x7f113c0445f8>]"
      ]
     },
     "execution_count": 6,
     "metadata": {},
     "output_type": "execute_result"
    },
    {
     "data": {
      "image/png": "[encoded data removed]",
      "text/plain": [
       "<matplotlib.figure.Figure at 0x7f114e42d518>"
      ]
     },
     "metadata": {},
     "output_type": "display_data"
    }
   ],
   "source": [
    "plt.plot(losses)"
   ]
  },
  {
   "cell_type": "code",
   "execution_count": 7,
   "metadata": {},
   "outputs": [
    {
     "name": "stdout",
     "output_type": "stream",
     "text": [
      "Test accuracy: 0.8166666666666667\n"
     ]
    }
   ],
   "source": [
    "resnet.eval()\n",
    "match = 0\n",
    "cnt = 0\n",
    "for x, y in test_loader:\n",
    "    predictions = resnet(x.view(-1,3,64,64))\n",
    "    argmax_preds = predictions.argmax(dim=1)\n",
    "    y = y.squeeze(-1)\n",
    "    match += (argmax_preds == y).sum().item()\n",
    "    cnt += y.shape[0]\n",
    "accuracy = match / cnt\n",
    "print(\"Test accuracy: {}\".format(accuracy))"
   ]
  }
 ],
 "metadata": {
  "coursera": {
   "course_slug": "convolutional-neural-networks",
   "graded_item_id": "OEpi5",
   "launcher_item_id": "jK9EQ"
  },
  "kernelspec": {
   "display_name": "Python 3",
   "language": "python",
   "name": "python3"
  },
  "language_info": {
   "codemirror_mode": {
    "name": "ipython",
    "version": 3
   },
   "file_extension": ".py",
   "mimetype": "text/x-python",
   "name": "python",
   "nbconvert_exporter": "python",
   "pygments_lexer": "ipython3",
   "version": "3.6.1"
  }
 },
 "nbformat": 4,
 "nbformat_minor": 2
}
