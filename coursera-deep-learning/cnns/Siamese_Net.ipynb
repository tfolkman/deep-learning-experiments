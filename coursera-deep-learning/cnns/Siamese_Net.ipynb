{
 "cells": [
  {
   "cell_type": "code",
   "execution_count": 1,
   "metadata": {},
   "outputs": [],
   "source": [
    "from torch.utils.data import DataLoader,Dataset\n",
    "import torchvision.datasets as dset\n",
    "import numpy as np\n",
    "from PIL import Image\n",
    "import random\n",
    "import torch\n",
    "from torch import nn\n",
    "from torch.nn import functional"
   ]
  },
  {
   "cell_type": "code",
   "execution_count": 2,
   "metadata": {},
   "outputs": [],
   "source": [
    "class  FacesDataset(Dataset):\n",
    "    \n",
    "    def __init__(self,imageFolderDataset):\n",
    "        self.imageFolderDataset = imageFolderDataset\n",
    "        self.base_url = \"./data/orl_faces/\"\n",
    "        \n",
    "    def __getitem__(self, index):\n",
    "        anchor_path, anchor_class = random.choice(self.imageFolderDataset.imgs)\n",
    "        anchor_split_path = anchor_path.split(\".\")[1].split(\"/\")\n",
    "        anchor_number = anchor_split_path[-1]\n",
    "        anchor_path_class = anchor_split_path[-2]\n",
    "        positive_number = anchor_number\n",
    "        while positive_number == anchor_number:\n",
    "            positive_number = np.random.randint(11)\n",
    "        positive_path = self.base_url + anchor_path_class + \"/\" + str(positive_number) + \".pgm.png\"\n",
    "        negative_class = anchor_class\n",
    "        while negative_class == anchor_class:\n",
    "            negative_class = np.random.randint(40)\n",
    "        negative_id = np.random.randint(11)\n",
    "        negative_class_text = ''\n",
    "        for text_class, int_class in self.imageFolderDataset.class_to_idx.items():\n",
    "            if int_class == negative_class:\n",
    "                negative_class_text = text_class\n",
    "        negative_path = self.base_url + negative_class_text + \"/\" + str(negative_id) + \".pgm.png\"\n",
    "        \n",
    "        anchor_image = Image.open(anchor_path)\n",
    "        anchor_image = torch.FloatTensor(np.array(anchor_image.convert(\"L\"))).unsqueeze(0)\n",
    "        positive_image = Image.open(positive_path)\n",
    "        positive_image = torch.FloatTensor(np.array(positive_image.convert(\"L\"))).unsqueeze(0)\n",
    "        negative_image = Image.open(negative_path)\n",
    "        negative_image = torch.FloatTensor(np.array(negative_image.convert(\"L\"))).unsqueeze(0)\n",
    "        \n",
    "        return anchor_image, positive_image, negative_image\n",
    "    \n",
    "    def __len__(self):\n",
    "        return len(self.imageFolderDataset.imgs)"
   ]
  },
  {
   "cell_type": "code",
   "execution_count": 3,
   "metadata": {},
   "outputs": [],
   "source": [
    "folder_dataset = dset.ImageFolder(\"./data/orl_faces/\")\n",
    "fdata = FacesDataset(folder_dataset)\n",
    "fdataloader  = DataLoader(fdata,\n",
    "                        shuffle=True,\n",
    "                        num_workers=1,\n",
    "                        batch_size=1)"
   ]
  },
  {
   "cell_type": "code",
   "execution_count": 84,
   "metadata": {},
   "outputs": [],
   "source": [
    "class SiameseNet(nn.Module):\n",
    "    def __init__(self):\n",
    "        super(SiameseNet, self).__init__()\n",
    "        self.cnn1 = nn.Conv2d(in_channels=1, out_channels=64, kernel_size=5, stride=3)\n",
    "        self.cnn2 = nn.Conv2d(in_channels=64, out_channels=32, kernel_size=5, stride=3)\n",
    "        self.bn1 = nn.BatchNorm2d(32)\n",
    "        self.fc1 = nn.Linear(11*9*32, 128)\n",
    "        \n",
    "    def forward_once(self, x):\n",
    "        x = self.cnn1(x)\n",
    "        x = self.cnn2(x)\n",
    "        x = functional.relu(x)\n",
    "        x = self.bn1(x)\n",
    "        x = functional.dropout2d(x)\n",
    "        x = self.fc1(x.view(-1, 11*9*32))\n",
    "        return x\n",
    "        \n",
    "    def forward(self, anchor, positive, negative):\n",
    "        anchor_embedding = self.forward_once(x)\n",
    "        positive_embedding = self.forward_once(positive)\n",
    "        negative_embedding = self.forward_once(negative)\n",
    "        positive_distance = functional.pairwise_distance(anchor_embedding, positive_embedding)\n",
    "        negative_distance = functional.pairwise_distance(anchor_embedding, negative_embedding)\n",
    "        return positive_distance"
   ]
  },
  {
   "cell_type": "code",
   "execution_count": 85,
   "metadata": {},
   "outputs": [],
   "source": [
    "device = \"cuda\" if torch.cuda.is_available() else \"cpu\"\n",
    "model = SiameseNet().to(device)"
   ]
  },
  {
   "cell_type": "code",
   "execution_count": 86,
   "metadata": {},
   "outputs": [
    {
     "name": "stdout",
     "output_type": "stream",
     "text": [
      "torch.Size([1, 32, 11, 9])\n",
      "torch.Size([1, 128])\n"
     ]
    },
    {
     "ename": "FileNotFoundError",
     "evalue": "Traceback (most recent call last):\n  File \"/Users/tfolkman/anaconda3/lib/python3.5/site-packages/torch/utils/data/dataloader.py\", line 57, in _worker_loop\n    samples = collate_fn([dataset[i] for i in batch_indices])\n  File \"/Users/tfolkman/anaconda3/lib/python3.5/site-packages/torch/utils/data/dataloader.py\", line 57, in <listcomp>\n    samples = collate_fn([dataset[i] for i in batch_indices])\n  File \"<ipython-input-58-a9590caf23f0>\", line 30, in __getitem__\n    negative_image = Image.open(negative_path)\n  File \"/Users/tfolkman/anaconda3/lib/python3.5/site-packages/PIL/Image.py\", line 2477, in open\n    fp = builtins.open(filename, \"rb\")\nFileNotFoundError: [Errno 2] No such file or directory: './data/orl_faces/s21/0.pgm.png'\n",
     "output_type": "error",
     "traceback": [
      "\u001b[0;31m---------------------------------------------------------------------------\u001b[0m",
      "\u001b[0;31mFileNotFoundError\u001b[0m                         Traceback (most recent call last)",
      "\u001b[0;32m<ipython-input-86-d29315d2f48e>\u001b[0m in \u001b[0;36m<module>\u001b[0;34m()\u001b[0m\n\u001b[0;32m----> 1\u001b[0;31m \u001b[0;32mfor\u001b[0m \u001b[0mi\u001b[0m\u001b[0;34m,\u001b[0m \u001b[0;34m(\u001b[0m\u001b[0manchor\u001b[0m\u001b[0;34m,\u001b[0m \u001b[0mpositive\u001b[0m\u001b[0;34m,\u001b[0m \u001b[0mnegative\u001b[0m\u001b[0;34m)\u001b[0m \u001b[0;32min\u001b[0m \u001b[0menumerate\u001b[0m\u001b[0;34m(\u001b[0m\u001b[0mfdataloader\u001b[0m\u001b[0;34m)\u001b[0m\u001b[0;34m:\u001b[0m\u001b[0;34m\u001b[0m\u001b[0m\n\u001b[0m\u001b[1;32m      2\u001b[0m     \u001b[0mmodel\u001b[0m\u001b[0;34m.\u001b[0m\u001b[0mforward_once\u001b[0m\u001b[0;34m(\u001b[0m\u001b[0manchor\u001b[0m\u001b[0;34m)\u001b[0m\u001b[0;34m\u001b[0m\u001b[0m\n",
      "\u001b[0;32m/Users/tfolkman/anaconda3/lib/python3.5/site-packages/torch/utils/data/dataloader.py\u001b[0m in \u001b[0;36m__next__\u001b[0;34m(self)\u001b[0m\n\u001b[1;32m    284\u001b[0m                 \u001b[0mself\u001b[0m\u001b[0;34m.\u001b[0m\u001b[0mreorder_dict\u001b[0m\u001b[0;34m[\u001b[0m\u001b[0midx\u001b[0m\u001b[0;34m]\u001b[0m \u001b[0;34m=\u001b[0m \u001b[0mbatch\u001b[0m\u001b[0;34m\u001b[0m\u001b[0m\n\u001b[1;32m    285\u001b[0m                 \u001b[0;32mcontinue\u001b[0m\u001b[0;34m\u001b[0m\u001b[0m\n\u001b[0;32m--> 286\u001b[0;31m             \u001b[0;32mreturn\u001b[0m \u001b[0mself\u001b[0m\u001b[0;34m.\u001b[0m\u001b[0m_process_next_batch\u001b[0m\u001b[0;34m(\u001b[0m\u001b[0mbatch\u001b[0m\u001b[0;34m)\u001b[0m\u001b[0;34m\u001b[0m\u001b[0m\n\u001b[0m\u001b[1;32m    287\u001b[0m \u001b[0;34m\u001b[0m\u001b[0m\n\u001b[1;32m    288\u001b[0m     \u001b[0mnext\u001b[0m \u001b[0;34m=\u001b[0m \u001b[0m__next__\u001b[0m  \u001b[0;31m# Python 2 compatibility\u001b[0m\u001b[0;34m\u001b[0m\u001b[0m\n",
      "\u001b[0;32m/Users/tfolkman/anaconda3/lib/python3.5/site-packages/torch/utils/data/dataloader.py\u001b[0m in \u001b[0;36m_process_next_batch\u001b[0;34m(self, batch)\u001b[0m\n\u001b[1;32m    305\u001b[0m         \u001b[0mself\u001b[0m\u001b[0;34m.\u001b[0m\u001b[0m_put_indices\u001b[0m\u001b[0;34m(\u001b[0m\u001b[0;34m)\u001b[0m\u001b[0;34m\u001b[0m\u001b[0m\n\u001b[1;32m    306\u001b[0m         \u001b[0;32mif\u001b[0m \u001b[0misinstance\u001b[0m\u001b[0;34m(\u001b[0m\u001b[0mbatch\u001b[0m\u001b[0;34m,\u001b[0m \u001b[0mExceptionWrapper\u001b[0m\u001b[0;34m)\u001b[0m\u001b[0;34m:\u001b[0m\u001b[0;34m\u001b[0m\u001b[0m\n\u001b[0;32m--> 307\u001b[0;31m             \u001b[0;32mraise\u001b[0m \u001b[0mbatch\u001b[0m\u001b[0;34m.\u001b[0m\u001b[0mexc_type\u001b[0m\u001b[0;34m(\u001b[0m\u001b[0mbatch\u001b[0m\u001b[0;34m.\u001b[0m\u001b[0mexc_msg\u001b[0m\u001b[0;34m)\u001b[0m\u001b[0;34m\u001b[0m\u001b[0m\n\u001b[0m\u001b[1;32m    308\u001b[0m         \u001b[0;32mreturn\u001b[0m \u001b[0mbatch\u001b[0m\u001b[0;34m\u001b[0m\u001b[0m\n\u001b[1;32m    309\u001b[0m \u001b[0;34m\u001b[0m\u001b[0m\n",
      "\u001b[0;31mFileNotFoundError\u001b[0m: Traceback (most recent call last):\n  File \"/Users/tfolkman/anaconda3/lib/python3.5/site-packages/torch/utils/data/dataloader.py\", line 57, in _worker_loop\n    samples = collate_fn([dataset[i] for i in batch_indices])\n  File \"/Users/tfolkman/anaconda3/lib/python3.5/site-packages/torch/utils/data/dataloader.py\", line 57, in <listcomp>\n    samples = collate_fn([dataset[i] for i in batch_indices])\n  File \"<ipython-input-58-a9590caf23f0>\", line 30, in __getitem__\n    negative_image = Image.open(negative_path)\n  File \"/Users/tfolkman/anaconda3/lib/python3.5/site-packages/PIL/Image.py\", line 2477, in open\n    fp = builtins.open(filename, \"rb\")\nFileNotFoundError: [Errno 2] No such file or directory: './data/orl_faces/s21/0.pgm.png'\n"
     ]
    }
   ],
   "source": [
    "for i, (anchor, positive, negative) in enumerate(fdataloader):\n",
    "    model.forward_once(anchor)"
   ]
  },
  {
   "cell_type": "code",
   "execution_count": null,
   "metadata": {},
   "outputs": [],
   "source": []
  },
  {
   "cell_type": "code",
   "execution_count": null,
   "metadata": {},
   "outputs": [],
   "source": []
  }
 ],
 "metadata": {
  "kernelspec": {
   "display_name": "Python 3",
   "language": "python",
   "name": "python3"
  },
  "language_info": {
   "codemirror_mode": {
    "name": "ipython",
    "version": 3
   },
   "file_extension": ".py",
   "mimetype": "text/x-python",
   "name": "python",
   "nbconvert_exporter": "python",
   "pygments_lexer": "ipython3",
   "version": "3.5.3"
  }
 },
 "nbformat": 4,
 "nbformat_minor": 2
}
