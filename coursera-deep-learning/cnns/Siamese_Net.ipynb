{
 "cells": [
  {
   "cell_type": "code",
   "execution_count": 1,
   "metadata": {},
   "outputs": [],
   "source": [
    "from torch.utils.data import DataLoader,Dataset\n",
    "import torchvision.datasets as dset\n",
    "import numpy as np\n",
    "from PIL import Image\n",
    "import random\n",
    "import torch\n",
    "from torch import nn\n",
    "from torch.nn import functional\n",
    "from torch import optim\n",
    "import matplotlib.pyplot as plt\n",
    "%matplotlib inline"
   ]
  },
  {
   "cell_type": "code",
   "execution_count": 2,
   "metadata": {},
   "outputs": [],
   "source": [
    "image_directory = \"/home/tyler/data/image/att_faces/\""
   ]
  },
  {
   "cell_type": "code",
   "execution_count": 3,
   "metadata": {},
   "outputs": [],
   "source": [
    "class  FacesDataset(Dataset):\n",
    "    \n",
    "    def __init__(self,imageFolderDataset, base_url, device):\n",
    "        self.imageFolderDataset = imageFolderDataset\n",
    "        self.base_url = base_url\n",
    "        \n",
    "    def __getitem__(self, index):\n",
    "        anchor_path, anchor_class = random.choice(self.imageFolderDataset.imgs)\n",
    "        anchor_split_path = anchor_path.split(\".\")[0].split(\"/\")\n",
    "        anchor_number = anchor_split_path[-1]\n",
    "        anchor_path_class = anchor_split_path[-2]\n",
    "        positive_number = anchor_number\n",
    "        while positive_number == anchor_number:\n",
    "            positive_number = np.random.randint(1, 11)\n",
    "        positive_path = self.base_url + anchor_path_class + \"/\" + str(positive_number) + \".pgm.png\"\n",
    "        negative_class = anchor_class\n",
    "        while negative_class == anchor_class:\n",
    "            negative_class = np.random.randint(40)\n",
    "        negative_id = np.random.randint(1, 11)\n",
    "        negative_class_text = ''\n",
    "        for text_class, int_class in self.imageFolderDataset.class_to_idx.items():\n",
    "            if int_class == negative_class:\n",
    "                negative_class_text = text_class\n",
    "        negative_path = self.base_url + negative_class_text + \"/\" + str(negative_id) + \".pgm.png\"\n",
    "        \n",
    "        \n",
    "        anchor_image = Image.open(anchor_path)\n",
    "        anchor_image = torch.FloatTensor(np.array(\n",
    "            anchor_image.convert(\"L\"))).unsqueeze(0)\n",
    "        positive_image = Image.open(positive_path)\n",
    "        positive_image = torch.FloatTensor(np.array(\n",
    "            positive_image.convert(\"L\"))).unsqueeze(0)\n",
    "        negative_image = Image.open(negative_path)\n",
    "        negative_image = torch.FloatTensor(np.array(\n",
    "            negative_image.convert(\"L\"))).unsqueeze(0)\n",
    "        \n",
    "        return anchor_image.to(device), positive_image.to(device), negative_image.to(device)\n",
    "    \n",
    "    def __len__(self):\n",
    "        return len(self.imageFolderDataset.imgs)"
   ]
  },
  {
   "cell_type": "code",
   "execution_count": 4,
   "metadata": {},
   "outputs": [],
   "source": [
    "folder_dataset = dset.ImageFolder(image_directory)\n",
    "device = \"cuda\" if torch.cuda.is_available() else \"cpu\"\n",
    "fdata = FacesDataset(folder_dataset, image_directory, device)\n",
    "fdataloader  = DataLoader(fdata,\n",
    "                        shuffle=True,\n",
    "                        num_workers=0,\n",
    "                        batch_size=32)"
   ]
  },
  {
   "cell_type": "code",
   "execution_count": 5,
   "metadata": {},
   "outputs": [],
   "source": [
    "class SiameseNet(nn.Module):\n",
    "    def __init__(self):\n",
    "        super(SiameseNet, self).__init__()\n",
    "        self.cnn1 = nn.Conv2d(in_channels=1, out_channels=64, kernel_size=5, stride=3)\n",
    "        self.cnn2 = nn.Conv2d(in_channels=64, out_channels=32, kernel_size=5, stride=3)\n",
    "        self.bn1 = nn.BatchNorm2d(32)\n",
    "        self.fc1 = nn.Linear(11*9*32, 128)\n",
    "        \n",
    "    def forward_once(self, x):\n",
    "        x = self.cnn1(x)\n",
    "        x = self.cnn2(x)\n",
    "        x = functional.relu(x)\n",
    "        x = self.bn1(x)\n",
    "        x = functional.dropout2d(x)\n",
    "        x = self.fc1(x.view(-1, 11*9*32))\n",
    "        return x\n",
    "        \n",
    "    def forward(self, anchor, positive, negative):\n",
    "        anchor_embedding = self.forward_once(anchor)\n",
    "        positive_embedding = self.forward_once(positive)\n",
    "        negative_embedding = self.forward_once(negative)\n",
    "        positive_distance = functional.pairwise_distance(anchor_embedding, positive_embedding)\n",
    "        negative_distance = functional.pairwise_distance(anchor_embedding, negative_embedding)\n",
    "        return positive_distance.unsqueeze(-1), negative_distance.unsqueeze(-1)"
   ]
  },
  {
   "cell_type": "code",
   "execution_count": 6,
   "metadata": {},
   "outputs": [],
   "source": [
    "margin = 0.5\n",
    "n_epochs = 100\n",
    "\n",
    "losses = []\n",
    "\n",
    "model = SiameseNet().to(device)\n",
    "criterion = nn.MarginRankingLoss(margin=margin, size_average=False)\n",
    "optimizer = optim.Adam(model.parameters())"
   ]
  },
  {
   "cell_type": "code",
   "execution_count": 7,
   "metadata": {},
   "outputs": [
    {
     "name": "stdout",
     "output_type": "stream",
     "text": [
      "Finished Epoch 0\n",
      "Finished Epoch 1\n",
      "Finished Epoch 2\n",
      "Finished Epoch 3\n",
      "Finished Epoch 4\n",
      "Finished Epoch 5\n",
      "Finished Epoch 6\n",
      "Finished Epoch 7\n",
      "Finished Epoch 8\n",
      "Finished Epoch 9\n",
      "Finished Epoch 10\n",
      "Finished Epoch 11\n",
      "Finished Epoch 12\n",
      "Finished Epoch 13\n",
      "Finished Epoch 14\n",
      "Finished Epoch 15\n",
      "Finished Epoch 16\n",
      "Finished Epoch 17\n",
      "Finished Epoch 18\n",
      "Finished Epoch 19\n",
      "Finished Epoch 20\n",
      "Finished Epoch 21\n",
      "Finished Epoch 22\n",
      "Finished Epoch 23\n",
      "Finished Epoch 24\n",
      "Finished Epoch 25\n",
      "Finished Epoch 26\n",
      "Finished Epoch 27\n",
      "Finished Epoch 28\n",
      "Finished Epoch 29\n",
      "Finished Epoch 30\n",
      "Finished Epoch 31\n",
      "Finished Epoch 32\n",
      "Finished Epoch 33\n",
      "Finished Epoch 34\n",
      "Finished Epoch 35\n",
      "Finished Epoch 36\n",
      "Finished Epoch 37\n",
      "Finished Epoch 38\n",
      "Finished Epoch 39\n",
      "Finished Epoch 40\n",
      "Finished Epoch 41\n",
      "Finished Epoch 42\n",
      "Finished Epoch 43\n",
      "Finished Epoch 44\n",
      "Finished Epoch 45\n",
      "Finished Epoch 46\n",
      "Finished Epoch 47\n",
      "Finished Epoch 48\n",
      "Finished Epoch 49\n",
      "Finished Epoch 50\n",
      "Finished Epoch 51\n",
      "Finished Epoch 52\n",
      "Finished Epoch 53\n",
      "Finished Epoch 54\n",
      "Finished Epoch 55\n",
      "Finished Epoch 56\n",
      "Finished Epoch 57\n",
      "Finished Epoch 58\n",
      "Finished Epoch 59\n",
      "Finished Epoch 60\n",
      "Finished Epoch 61\n",
      "Finished Epoch 62\n",
      "Finished Epoch 63\n",
      "Finished Epoch 64\n",
      "Finished Epoch 65\n",
      "Finished Epoch 66\n",
      "Finished Epoch 67\n",
      "Finished Epoch 68\n",
      "Finished Epoch 69\n",
      "Finished Epoch 70\n",
      "Finished Epoch 71\n",
      "Finished Epoch 72\n",
      "Finished Epoch 73\n",
      "Finished Epoch 74\n",
      "Finished Epoch 75\n",
      "Finished Epoch 76\n",
      "Finished Epoch 77\n",
      "Finished Epoch 78\n",
      "Finished Epoch 79\n",
      "Finished Epoch 80\n",
      "Finished Epoch 81\n",
      "Finished Epoch 82\n",
      "Finished Epoch 83\n",
      "Finished Epoch 84\n",
      "Finished Epoch 85\n",
      "Finished Epoch 86\n",
      "Finished Epoch 87\n",
      "Finished Epoch 88\n",
      "Finished Epoch 89\n",
      "Finished Epoch 90\n",
      "Finished Epoch 91\n",
      "Finished Epoch 92\n",
      "Finished Epoch 93\n",
      "Finished Epoch 94\n",
      "Finished Epoch 95\n",
      "Finished Epoch 96\n",
      "Finished Epoch 97\n",
      "Finished Epoch 98\n",
      "Finished Epoch 99\n"
     ]
    }
   ],
   "source": [
    "for epoch in range(n_epochs):\n",
    "    total_loss = 0\n",
    "    for i, (anchor, positive, negative) in enumerate(fdataloader):\n",
    "\n",
    "        positive_distance, negative_distance = model(anchor, positive, negative)\n",
    "        target = torch.FloatTensor(positive_distance.size()).fill_(1).to(device)\n",
    "        loss = criterion(negative_distance, positive_distance, target)\n",
    "\n",
    "        total_loss += loss.item()\n",
    "        optimizer.zero_grad()\n",
    "        loss.backward()\n",
    "        optimizer.step()\n",
    "    \n",
    "    print(\"Finished Epoch {0}\".format(epoch))\n",
    "    losses.append(total_loss / len(fdataloader))"
   ]
  },
  {
   "cell_type": "code",
   "execution_count": 8,
   "metadata": {},
   "outputs": [
    {
     "data": {
      "text/plain": [
       "[<matplotlib.lines.Line2D at 0x7f6f740553c8>]"
      ]
     },
     "execution_count": 8,
     "metadata": {},
     "output_type": "execute_result"
    },
    {
     "data": {
      "image/png": "[encoded data removed]",
      "text/plain": [
       "<matplotlib.figure.Figure at 0x7f6f85604048>"
      ]
     },
     "metadata": {},
     "output_type": "display_data"
    }
   ],
   "source": [
    "plt.plot(losses)"
   ]
  },
  {
   "cell_type": "code",
   "execution_count": null,
   "metadata": {},
   "outputs": [],
   "source": []
  }
 ],
 "metadata": {
  "kernelspec": {
   "display_name": "Python 3",
   "language": "python",
   "name": "python3"
  },
  "language_info": {
   "codemirror_mode": {
    "name": "ipython",
    "version": 3
   },
   "file_extension": ".py",
   "mimetype": "text/x-python",
   "name": "python",
   "nbconvert_exporter": "python",
   "pygments_lexer": "ipython3",
   "version": "3.6.1"
  }
 },
 "nbformat": 4,
 "nbformat_minor": 2
}
