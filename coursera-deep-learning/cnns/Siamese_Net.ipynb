{
 "cells": [
  {
   "cell_type": "code",
   "execution_count": 91,
   "metadata": {},
   "outputs": [],
   "source": [
    "from torch.utils.data import DataLoader,Dataset\n",
    "import torchvision.datasets as dset\n",
    "import numpy as np\n",
    "from PIL import Image\n",
    "import random"
   ]
  },
  {
   "cell_type": "code",
   "execution_count": 92,
   "metadata": {},
   "outputs": [],
   "source": [
    "class  FacesDataset(Dataset):\n",
    "    \n",
    "    def __init__(self,imageFolderDataset):\n",
    "        self.imageFolderDataset = imageFolderDataset\n",
    "        self.base_url = \"./data/orl_faces/\"\n",
    "        \n",
    "    def __getitem__(self, index):\n",
    "        anchor_path, anchor_class = random.choice(self.imageFolderDataset.imgs)\n",
    "        anchor_split_path = anchor_path.split(\".\")[1].split(\"/\")\n",
    "        anchor_number = anchor_split_path[-1]\n",
    "        anchor_path_class = anchor_split_path[-2]\n",
    "        positive_number = anchor_number\n",
    "        while positive_number == anchor_number:\n",
    "            positive_number = np.random.randint(11)\n",
    "        positive_path = self.base_url + anchor_path_class + \"/\" + str(positive_number) + \".pgm.png\"\n",
    "        negative_class = anchor_class\n",
    "        while negative_class == anchor_class:\n",
    "            negative_class = np.random.randint(40)\n",
    "        negative_id = np.random.randint(11)\n",
    "        negative_class_text = ''\n",
    "        for text_class, int_class in self.imageFolderDataset.class_to_idx.items():\n",
    "            if int_class == negative_class:\n",
    "                negative_class_text = text_class\n",
    "        negative_path = self.base_url + negative_class_text + \"/\" + str(negative_id) + \".pgm.png\"\n",
    "        \n",
    "        anchor_image = Image.open(anchor_path)\n",
    "        anchor_image = anchor_image.convert(\"L\")\n",
    "        \n",
    "        return img0\n",
    "    \n",
    "    def __len__(self):\n",
    "        return len(self.imageFolderDataset.imgs)"
   ]
  },
  {
   "cell_type": "code",
   "execution_count": 93,
   "metadata": {},
   "outputs": [],
   "source": [
    "folder_dataset = dset.ImageFolder(\"./data/orl_faces/\")\n",
    "fdata = FacesDataset(folder_dataset)\n",
    "fdataloader  = DataLoader(fdata,\n",
    "                        shuffle=True,\n",
    "                        num_workers=1,\n",
    "                        batch_size=1)"
   ]
  },
  {
   "cell_type": "code",
   "execution_count": 94,
   "metadata": {},
   "outputs": [
    {
     "ename": "NameError",
     "evalue": "Traceback (most recent call last):\n  File \"/Users/tfolkman/anaconda3/lib/python3.5/site-packages/torch/utils/data/dataloader.py\", line 57, in _worker_loop\n    samples = collate_fn([dataset[i] for i in batch_indices])\n  File \"/Users/tfolkman/anaconda3/lib/python3.5/site-packages/torch/utils/data/dataloader.py\", line 57, in <listcomp>\n    samples = collate_fn([dataset[i] for i in batch_indices])\n  File \"<ipython-input-92-53eae7e3439f>\", line 29, in __getitem__\n    return img0\nNameError: name 'img0' is not defined\n",
     "output_type": "error",
     "traceback": [
      "\u001b[0;31m---------------------------------------------------------------------------\u001b[0m",
      "\u001b[0;31mNameError\u001b[0m                                 Traceback (most recent call last)",
      "\u001b[0;32m<ipython-input-94-d304efe92498>\u001b[0m in \u001b[0;36m<module>\u001b[0;34m()\u001b[0m\n\u001b[1;32m      1\u001b[0m \u001b[0mdataiter\u001b[0m \u001b[0;34m=\u001b[0m \u001b[0miter\u001b[0m\u001b[0;34m(\u001b[0m\u001b[0mfdataloader\u001b[0m\u001b[0;34m)\u001b[0m\u001b[0;34m\u001b[0m\u001b[0m\n\u001b[0;32m----> 2\u001b[0;31m \u001b[0mexample_batch\u001b[0m \u001b[0;34m=\u001b[0m \u001b[0mnext\u001b[0m\u001b[0;34m(\u001b[0m\u001b[0mdataiter\u001b[0m\u001b[0;34m)\u001b[0m\u001b[0;34m\u001b[0m\u001b[0m\n\u001b[0m",
      "\u001b[0;32m/Users/tfolkman/anaconda3/lib/python3.5/site-packages/torch/utils/data/dataloader.py\u001b[0m in \u001b[0;36m__next__\u001b[0;34m(self)\u001b[0m\n\u001b[1;32m    284\u001b[0m                 \u001b[0mself\u001b[0m\u001b[0;34m.\u001b[0m\u001b[0mreorder_dict\u001b[0m\u001b[0;34m[\u001b[0m\u001b[0midx\u001b[0m\u001b[0;34m]\u001b[0m \u001b[0;34m=\u001b[0m \u001b[0mbatch\u001b[0m\u001b[0;34m\u001b[0m\u001b[0m\n\u001b[1;32m    285\u001b[0m                 \u001b[0;32mcontinue\u001b[0m\u001b[0;34m\u001b[0m\u001b[0m\n\u001b[0;32m--> 286\u001b[0;31m             \u001b[0;32mreturn\u001b[0m \u001b[0mself\u001b[0m\u001b[0;34m.\u001b[0m\u001b[0m_process_next_batch\u001b[0m\u001b[0;34m(\u001b[0m\u001b[0mbatch\u001b[0m\u001b[0;34m)\u001b[0m\u001b[0;34m\u001b[0m\u001b[0m\n\u001b[0m\u001b[1;32m    287\u001b[0m \u001b[0;34m\u001b[0m\u001b[0m\n\u001b[1;32m    288\u001b[0m     \u001b[0mnext\u001b[0m \u001b[0;34m=\u001b[0m \u001b[0m__next__\u001b[0m  \u001b[0;31m# Python 2 compatibility\u001b[0m\u001b[0;34m\u001b[0m\u001b[0m\n",
      "\u001b[0;32m/Users/tfolkman/anaconda3/lib/python3.5/site-packages/torch/utils/data/dataloader.py\u001b[0m in \u001b[0;36m_process_next_batch\u001b[0;34m(self, batch)\u001b[0m\n\u001b[1;32m    305\u001b[0m         \u001b[0mself\u001b[0m\u001b[0;34m.\u001b[0m\u001b[0m_put_indices\u001b[0m\u001b[0;34m(\u001b[0m\u001b[0;34m)\u001b[0m\u001b[0;34m\u001b[0m\u001b[0m\n\u001b[1;32m    306\u001b[0m         \u001b[0;32mif\u001b[0m \u001b[0misinstance\u001b[0m\u001b[0;34m(\u001b[0m\u001b[0mbatch\u001b[0m\u001b[0;34m,\u001b[0m \u001b[0mExceptionWrapper\u001b[0m\u001b[0;34m)\u001b[0m\u001b[0;34m:\u001b[0m\u001b[0;34m\u001b[0m\u001b[0m\n\u001b[0;32m--> 307\u001b[0;31m             \u001b[0;32mraise\u001b[0m \u001b[0mbatch\u001b[0m\u001b[0;34m.\u001b[0m\u001b[0mexc_type\u001b[0m\u001b[0;34m(\u001b[0m\u001b[0mbatch\u001b[0m\u001b[0;34m.\u001b[0m\u001b[0mexc_msg\u001b[0m\u001b[0;34m)\u001b[0m\u001b[0;34m\u001b[0m\u001b[0m\n\u001b[0m\u001b[1;32m    308\u001b[0m         \u001b[0;32mreturn\u001b[0m \u001b[0mbatch\u001b[0m\u001b[0;34m\u001b[0m\u001b[0m\n\u001b[1;32m    309\u001b[0m \u001b[0;34m\u001b[0m\u001b[0m\n",
      "\u001b[0;31mNameError\u001b[0m: Traceback (most recent call last):\n  File \"/Users/tfolkman/anaconda3/lib/python3.5/site-packages/torch/utils/data/dataloader.py\", line 57, in _worker_loop\n    samples = collate_fn([dataset[i] for i in batch_indices])\n  File \"/Users/tfolkman/anaconda3/lib/python3.5/site-packages/torch/utils/data/dataloader.py\", line 57, in <listcomp>\n    samples = collate_fn([dataset[i] for i in batch_indices])\n  File \"<ipython-input-92-53eae7e3439f>\", line 29, in __getitem__\n    return img0\nNameError: name 'img0' is not defined\n"
     ]
    }
   ],
   "source": [
    "dataiter = iter(fdataloader)\n",
    "example_batch = next(dataiter)"
   ]
  },
  {
   "cell_type": "code",
   "execution_count": 50,
   "metadata": {},
   "outputs": [
    {
     "data": {
      "text/plain": [
       "{'s1': 0,\n",
       " 's10': 1,\n",
       " 's11': 2,\n",
       " 's12': 3,\n",
       " 's13': 4,\n",
       " 's14': 5,\n",
       " 's15': 6,\n",
       " 's16': 7,\n",
       " 's17': 8,\n",
       " 's18': 9,\n",
       " 's19': 10,\n",
       " 's2': 11,\n",
       " 's20': 12,\n",
       " 's21': 13,\n",
       " 's22': 14,\n",
       " 's23': 15,\n",
       " 's24': 16,\n",
       " 's25': 17,\n",
       " 's26': 18,\n",
       " 's27': 19,\n",
       " 's28': 20,\n",
       " 's29': 21,\n",
       " 's3': 22,\n",
       " 's30': 23,\n",
       " 's31': 24,\n",
       " 's32': 25,\n",
       " 's33': 26,\n",
       " 's34': 27,\n",
       " 's35': 28,\n",
       " 's36': 29,\n",
       " 's37': 30,\n",
       " 's38': 31,\n",
       " 's39': 32,\n",
       " 's4': 33,\n",
       " 's40': 34,\n",
       " 's5': 35,\n",
       " 's6': 36,\n",
       " 's7': 37,\n",
       " 's8': 38,\n",
       " 's9': 39}"
      ]
     },
     "execution_count": 50,
     "metadata": {},
     "output_type": "execute_result"
    }
   ],
   "source": [
    "folder_dataset.class_to_idx"
   ]
  },
  {
   "cell_type": "code",
   "execution_count": null,
   "metadata": {},
   "outputs": [],
   "source": []
  }
 ],
 "metadata": {
  "kernelspec": {
   "display_name": "Python 3",
   "language": "python",
   "name": "python3"
  },
  "language_info": {
   "codemirror_mode": {
    "name": "ipython",
    "version": 3
   },
   "file_extension": ".py",
   "mimetype": "text/x-python",
   "name": "python",
   "nbconvert_exporter": "python",
   "pygments_lexer": "ipython3",
   "version": "3.5.3"
  }
 },
 "nbformat": 4,
 "nbformat_minor": 2
}
