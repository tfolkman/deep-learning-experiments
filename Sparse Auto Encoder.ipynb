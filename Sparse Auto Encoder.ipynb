{
 "cells": [
  {
   "cell_type": "code",
   "execution_count": 1,
   "metadata": {},
   "outputs": [],
   "source": [
    "%matplotlib inline\n",
    "\n",
    "import torch\n",
    "\n",
    "from torch.autograd import Variable\n",
    "from torch.nn.init import xavier_normal\n",
    "\n",
    "import torch.nn as nn\n",
    "import torch.nn.functional as F\n",
    "\n",
    "import torch.optim as optim\n",
    "\n",
    "import torchvision\n",
    "import torchvision.transforms as transforms\n",
    "\n",
    "import matplotlib.pyplot as plt\n",
    "import numpy as np\n",
    "import time\n",
    "import math"
   ]
  },
  {
   "cell_type": "code",
   "execution_count": 2,
   "metadata": {},
   "outputs": [],
   "source": [
    "BATCH_SIZE = 64\n",
    "\n",
    "transform = transforms.ToTensor()\n",
    "\n",
    "# Load and transform data\n",
    "trainset = torchvision.datasets.MNIST('/tmp', train=True, download=True, transform=transform)\n",
    "trainloader = torch.utils.data.DataLoader(trainset, batch_size=BATCH_SIZE,\n",
    "                                          shuffle=True, num_workers=2)\n",
    "\n",
    "testset = torchvision.datasets.MNIST('/tmp', train=False, download=True, transform=transform)\n",
    "testloader = torch.utils.data.DataLoader(testset, batch_size=BATCH_SIZE,\n",
    "                                         shuffle=False, num_workers=2)"
   ]
  },
  {
   "cell_type": "code",
   "execution_count": 45,
   "metadata": {},
   "outputs": [],
   "source": [
    "class StackedAutoEncoder(nn.Module):\n",
    "    \"\"\"\n",
    "    Stacked Auto Encoder With Tied Weights\n",
    "    \"\"\"\n",
    "    def __init__(self, input_size, hidden_size=300, coding_size=150):\n",
    "        super(StackedAutoEncoder, self).__init__()\n",
    "        self.hidden1 = nn.Linear(input_size, hidden_size)\n",
    "        self.hidden2 = nn.Linear(hidden_size, coding_size)\n",
    "        self.dropout = nn.Dropout(p=0.3)\n",
    "        self.sigmoid = nn.Sigmoid()\n",
    "        \n",
    "    def kl_divergence(self, p, q): \n",
    "        return p*torch.log(p/q)+(1-p)*torch.log((1-p)/(1-q))\n",
    "        \n",
    "    def forward(self, x):\n",
    "        hidden1_output = F.elu(self.hidden1(x))\n",
    "        hidden2_output = self.sigmoid(self.hidden2(hidden1_output))\n",
    "        hidden3_output = F.elu(F.linear(hidden2_output,\n",
    "                                       weight=self.hidden2.weight.transpose(0,1)))\n",
    "        output = F.linear(hidden3_output, weight=self.hidden1.weight.transpose(0,1))\n",
    "        return output, torch.mean(hidden2_output, dim=0)"
   ]
  },
  {
   "cell_type": "code",
   "execution_count": 46,
   "metadata": {},
   "outputs": [],
   "source": [
    "sae = StackedAutoEncoder(input_size=28*28)"
   ]
  },
  {
   "cell_type": "code",
   "execution_count": 47,
   "metadata": {},
   "outputs": [],
   "source": [
    "criterion = nn.MSELoss()\n",
    "optimizer = optim.Adam(sae.parameters())"
   ]
  },
  {
   "cell_type": "code",
   "execution_count": 48,
   "metadata": {},
   "outputs": [],
   "source": [
    "def timeSince(since):\n",
    "    now = time.time()\n",
    "    s = now - since\n",
    "    m = math.floor(s / 60)\n",
    "    s -= m * 60\n",
    "    return '%dm %ds' % (m, s)"
   ]
  },
  {
   "cell_type": "code",
   "execution_count": 59,
   "metadata": {},
   "outputs": [
    {
     "name": "stdout",
     "output_type": "stream",
     "text": [
      "0m 2s (312 3%) 5.3467\n",
      "0m 4s (624 6%) 3.3219\n",
      "0m 6s (936 9%) 2.9262\n",
      "0m 8s (1248 13%) 1.3905\n",
      "0m 11s (1560 16%) 1.0633\n",
      "0m 13s (1872 19%) 0.6970\n",
      "0m 16s (2184 23%) 0.7743\n",
      "0m 18s (2496 26%) 0.8816\n",
      "0m 21s (2808 29%) 2.3691\n",
      "0m 23s (3120 33%) 0.4395\n",
      "0m 25s (3432 36%) 0.3318\n",
      "0m 28s (3744 39%) 1.7241\n",
      "0m 30s (4056 43%) 0.7907\n",
      "0m 33s (4368 46%) 0.7017\n",
      "0m 35s (4680 49%) 0.3017\n",
      "0m 38s (4992 53%) 0.3146\n",
      "0m 40s (5304 56%) 0.5094\n",
      "0m 42s (5616 59%) 0.2891\n",
      "0m 45s (5928 63%) 0.4550\n",
      "0m 47s (6240 66%) 0.1931\n",
      "0m 50s (6552 69%) 0.2951\n",
      "0m 52s (6864 73%) 0.1792\n",
      "0m 55s (7176 76%) 0.2283\n",
      "0m 57s (7488 79%) 0.3160\n",
      "1m 0s (7800 83%) 0.4096\n",
      "1m 2s (8112 86%) 0.1480\n",
      "1m 5s (8424 89%) 0.2195\n",
      "1m 7s (8736 93%) 0.1846\n",
      "1m 10s (9048 96%) 0.3247\n",
      "1m 12s (9360 99%) 2.1601\n"
     ]
    }
   ],
   "source": [
    "N_EPOCHS = 10\n",
    "total_loss = 0\n",
    "print_every = 20000 // BATCH_SIZE\n",
    "plot_every = 1000 // BATCH_SIZE\n",
    "all_losses = []\n",
    "sparsity_target = 0.1\n",
    "sparsity_weight = 100\n",
    "iter = 1\n",
    "\n",
    "start = time.time()\n",
    "\n",
    "for e in range(N_EPOCHS):\n",
    "    for i_batch, batch in enumerate(trainloader):\n",
    "        image = batch[0]\n",
    "        label = batch[1]\n",
    "        image = Variable(image.view(-1, 1, 28*28))\n",
    "        \n",
    "        sae.zero_grad()\n",
    "        output, coding = sae(image)\n",
    "        sparsity = torch.sum(sae.kl_divergence(sparsity_target, coding))\n",
    "        loss = criterion(output, image) + sparsity_weight * sparsity\n",
    "        loss.backward()\n",
    "        optimizer.step()\n",
    "        \n",
    "        total_loss += loss.data\n",
    "        \n",
    "        if iter % print_every == 0:\n",
    "            print('%s (%d %d%%) %.4f' % (timeSince(start), iter, iter / (len(trainloader) * N_EPOCHS) * 100, loss))\n",
    "\n",
    "        if iter % plot_every == 0:\n",
    "            all_losses.append(total_loss / plot_every)\n",
    "            total_loss = 0\n",
    "        \n",
    "        iter = iter + 1"
   ]
  },
  {
   "cell_type": "code",
   "execution_count": 60,
   "metadata": {},
   "outputs": [
    {
     "name": "stdout",
     "output_type": "stream",
     "text": [
      "Variable containing:\n",
      "1.00000e-03 *\n",
      "  9.8246\n",
      "[torch.FloatTensor of size 1]\n",
      "\n"
     ]
    }
   ],
   "source": [
    "print(sparsity)"
   ]
  },
  {
   "cell_type": "code",
   "execution_count": 61,
   "metadata": {},
   "outputs": [
    {
     "data": {
      "text/plain": [
       "[<matplotlib.lines.Line2D at 0x1198bd400>]"
      ]
     },
     "execution_count": 61,
     "metadata": {},
     "output_type": "execute_result"
    },
    {
     "data": {
      "image/png": "[encoded data removed]",
      "text/plain": [
       "<Figure size 600x400 with 1 Axes>"
      ]
     },
     "metadata": {},
     "output_type": "display_data"
    }
   ],
   "source": [
    "plt.plot(all_losses)"
   ]
  },
  {
   "cell_type": "code",
   "execution_count": 62,
   "metadata": {},
   "outputs": [],
   "source": [
    "n = 1\n",
    "for i, batch in enumerate(testloader):\n",
    "    if i >= n:\n",
    "        break\n",
    "    image = batch[0]\n",
    "    label = batch[1]\n",
    "    image = Variable(image.view(-1, 1, 28*28))\n",
    "    output, coding = sae(image)\n",
    "    outputs = output.data.cpu().numpy()"
   ]
  },
  {
   "cell_type": "code",
   "execution_count": 63,
   "metadata": {},
   "outputs": [
    {
     "data": {
      "text/plain": [
       "Text(0.5,1,'Actual')"
      ]
     },
     "execution_count": 63,
     "metadata": {},
     "output_type": "execute_result"
    },
    {
     "data": {
      "image/png": "[encoded data removed]",
      "text/plain": [
       "<Figure size 600x400 with 1 Axes>"
      ]
     },
     "metadata": {},
     "output_type": "display_data"
    }
   ],
   "source": [
    "index = 15\n",
    "plt.imshow(image[index].data.cpu().numpy().reshape(28,28),\n",
    "          cmap=\"Greys\", interpolation=\"nearest\")\n",
    "plt.title(\"Actual\")"
   ]
  },
  {
   "cell_type": "code",
   "execution_count": 64,
   "metadata": {},
   "outputs": [
    {
     "data": {
      "text/plain": [
       "Text(0.5,1,'Reconstructed')"
      ]
     },
     "execution_count": 64,
     "metadata": {},
     "output_type": "execute_result"
    },
    {
     "data": {
      "image/png": "[encoded data removed]",
      "text/plain": [
       "<Figure size 600x400 with 1 Axes>"
      ]
     },
     "metadata": {},
     "output_type": "display_data"
    }
   ],
   "source": [
    "plt.imshow(outputs[index].reshape(28,28),cmap=\"Greys\")\n",
    "plt.title(\"Reconstructed\")"
   ]
  },
  {
   "cell_type": "markdown",
   "metadata": {},
   "source": [
    "## Visualizing Features"
   ]
  },
  {
   "cell_type": "code",
   "execution_count": 65,
   "metadata": {},
   "outputs": [],
   "source": [
    "hidden1_weights = sae.hidden1.weight.data.cpu().numpy()"
   ]
  },
  {
   "cell_type": "code",
   "execution_count": 69,
   "metadata": {},
   "outputs": [
    {
     "data": {
      "text/plain": [
       "<matplotlib.image.AxesImage at 0x1168eb8d0>"
      ]
     },
     "execution_count": 69,
     "metadata": {},
     "output_type": "execute_result"
    },
    {
     "data": {
      "image/png": "[encoded data removed]",
      "text/plain": [
       "<Figure size 600x400 with 1 Axes>"
      ]
     },
     "metadata": {},
     "output_type": "display_data"
    }
   ],
   "source": [
    "neuron = 115\n",
    "plt.imshow(hidden1_weights[neuron].reshape([28,28]),\n",
    "           cmap='Greys')"
   ]
  },
  {
   "cell_type": "code",
   "execution_count": null,
   "metadata": {},
   "outputs": [],
   "source": []
  }
 ],
 "metadata": {
  "kernelspec": {
   "display_name": "Python 3",
   "language": "python",
   "name": "python3"
  },
  "language_info": {
   "codemirror_mode": {
    "name": "ipython",
    "version": 3
   },
   "file_extension": ".py",
   "mimetype": "text/x-python",
   "name": "python",
   "nbconvert_exporter": "python",
   "pygments_lexer": "ipython3",
   "version": "3.5.3"
  }
 },
 "nbformat": 4,
 "nbformat_minor": 2
}
