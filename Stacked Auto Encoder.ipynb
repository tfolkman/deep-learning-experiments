{
 "cells": [
  {
   "cell_type": "code",
   "execution_count": 1,
   "metadata": {},
   "outputs": [],
   "source": [
    "%matplotlib inline\n",
    "\n",
    "import torch\n",
    "\n",
    "from torch.autograd import Variable\n",
    "from torch.nn.init import xavier_normal\n",
    "\n",
    "import torch.nn as nn\n",
    "import torch.nn.functional as F\n",
    "\n",
    "import torch.optim as optim\n",
    "\n",
    "import torchvision\n",
    "import torchvision.transforms as transforms\n",
    "\n",
    "import matplotlib.pyplot as plt\n",
    "import numpy as np\n",
    "import time\n",
    "import math"
   ]
  },
  {
   "cell_type": "code",
   "execution_count": 2,
   "metadata": {},
   "outputs": [
    {
     "name": "stdout",
     "output_type": "stream",
     "text": [
      "Downloading http://yann.lecun.com/exdb/mnist/train-images-idx3-ubyte.gz\n",
      "Downloading http://yann.lecun.com/exdb/mnist/train-labels-idx1-ubyte.gz\n",
      "Downloading http://yann.lecun.com/exdb/mnist/t10k-images-idx3-ubyte.gz\n",
      "Downloading http://yann.lecun.com/exdb/mnist/t10k-labels-idx1-ubyte.gz\n",
      "Processing...\n",
      "Done!\n"
     ]
    }
   ],
   "source": [
    "BATCH_SIZE = 150\n",
    "\n",
    "transform = transforms.ToTensor()\n",
    "\n",
    "# Load and transform data\n",
    "trainset = torchvision.datasets.MNIST('/tmp', train=True, download=True, transform=transform)\n",
    "trainloader = torch.utils.data.DataLoader(trainset, batch_size=BATCH_SIZE,\n",
    "                                          shuffle=True, num_workers=2)\n",
    "\n",
    "testset = torchvision.datasets.MNIST('/tmp', train=False, download=True, transform=transform)\n",
    "testloader = torch.utils.data.DataLoader(testset, batch_size=BATCH_SIZE,\n",
    "                                         shuffle=False, num_workers=2)"
   ]
  },
  {
   "cell_type": "code",
   "execution_count": 66,
   "metadata": {},
   "outputs": [],
   "source": [
    "class StackedAutoEncoder(nn.Module):\n",
    "    \"\"\"\n",
    "    Stacked Auto Encoder With Tied Weights\n",
    "    \"\"\"\n",
    "    def __init__(self, input_size, hidden_size=300, coding_size=150):\n",
    "        super(StackedAutoEncoder, self).__init__()\n",
    "        self.hidden1 = nn.Linear(input_size, hidden_size)\n",
    "        self.hidden2 = nn.Linear(hidden_size, coding_size)\n",
    "        \n",
    "    def forward(self, x):\n",
    "        hidden1_output = F.elu(self.hidden1(x))\n",
    "        hidden2_output = F.elu(self.hidden2(hidden1_output))\n",
    "        hidden3_output = F.elu(F.linear(hidden2_output,\n",
    "                                       weight=self.hidden2.weight.transpose(0,1)))\n",
    "        output = F.linear(hidden3_output, weight=self.hidden1.weight.transpose(0,1))\n",
    "        return output, hidden2_output"
   ]
  },
  {
   "cell_type": "code",
   "execution_count": 111,
   "metadata": {},
   "outputs": [],
   "source": [
    "sae = StackedAutoEncoder(input_size=28*28)\n",
    "sae = sae.cuda()"
   ]
  },
  {
   "cell_type": "code",
   "execution_count": 126,
   "metadata": {},
   "outputs": [],
   "source": [
    "criterion = nn.MSELoss()\n",
    "optimizer = optim.Adam(sae.parameters(), weight_decay=1e-5)"
   ]
  },
  {
   "cell_type": "code",
   "execution_count": 127,
   "metadata": {},
   "outputs": [],
   "source": [
    "def timeSince(since):\n",
    "    now = time.time()\n",
    "    s = now - since\n",
    "    m = math.floor(s / 60)\n",
    "    s -= m * 60\n",
    "    return '%dm %ds' % (m, s)"
   ]
  },
  {
   "cell_type": "code",
   "execution_count": 128,
   "metadata": {},
   "outputs": [
    {
     "name": "stdout",
     "output_type": "stream",
     "text": [
      "0m 0s (133 6%) 0.0047\n",
      "0m 1s (266 13%) 0.0044\n",
      "0m 2s (399 19%) 0.0042\n",
      "0m 2s (532 26%) 0.0044\n",
      "0m 3s (665 33%) 0.0041\n",
      "0m 4s (798 39%) 0.0043\n",
      "0m 4s (931 46%) 0.0041\n",
      "0m 5s (1064 53%) 0.0042\n",
      "0m 6s (1197 59%) 0.0043\n",
      "0m 6s (1330 66%) 0.0042\n",
      "0m 7s (1463 73%) 0.0041\n",
      "0m 8s (1596 79%) 0.0041\n",
      "0m 8s (1729 86%) 0.0041\n",
      "0m 9s (1862 93%) 0.0043\n",
      "0m 10s (1995 99%) 0.0042\n"
     ]
    }
   ],
   "source": [
    "N_EPOCHS = 5\n",
    "total_loss = 0\n",
    "print_every = 20000 // BATCH_SIZE\n",
    "plot_every = 1000 // BATCH_SIZE\n",
    "all_losses = []\n",
    "iter = 1\n",
    "\n",
    "start = time.time()\n",
    "\n",
    "for e in range(N_EPOCHS):\n",
    "    for i_batch, batch in enumerate(trainloader):\n",
    "        image = batch[0]\n",
    "        label = batch[1]\n",
    "        image = Variable(image.view(-1, 1, 28*28))\n",
    "        image = image.cuda()\n",
    "        \n",
    "        sae.zero_grad()\n",
    "        output, coding = sae(image)\n",
    "        loss = criterion(output, image)\n",
    "        loss.backward()\n",
    "        optimizer.step()\n",
    "        \n",
    "        total_loss += loss.data\n",
    "        \n",
    "        if iter % print_every == 0:\n",
    "            print('%s (%d %d%%) %.4f' % (timeSince(start), iter, iter / (len(trainloader) * N_EPOCHS) * 100, loss))\n",
    "\n",
    "        if iter % plot_every == 0:\n",
    "            all_losses.append(total_loss / plot_every)\n",
    "            total_loss = 0\n",
    "        \n",
    "        iter = iter + 1"
   ]
  },
  {
   "cell_type": "code",
   "execution_count": 129,
   "metadata": {},
   "outputs": [
    {
     "data": {
      "text/plain": [
       "[<matplotlib.lines.Line2D at 0x7fe29ee37d30>]"
      ]
     },
     "execution_count": 129,
     "metadata": {},
     "output_type": "execute_result"
    },
    {
     "data": {
      "image/png": "[encoded data removed]",
      "text/plain": [
       "<matplotlib.figure.Figure at 0x7fe29eeec240>"
      ]
     },
     "metadata": {},
     "output_type": "display_data"
    }
   ],
   "source": [
    "plt.plot(all_losses)"
   ]
  },
  {
   "cell_type": "code",
   "execution_count": 130,
   "metadata": {},
   "outputs": [],
   "source": [
    "n = 1\n",
    "for i, batch in enumerate(testloader):\n",
    "    if i >= n:\n",
    "        break\n",
    "    image = batch[0]\n",
    "    label = batch[1]\n",
    "    image = Variable(image.view(-1, 1, 28*28))\n",
    "    image = image.cuda()\n",
    "    output, coding = sae(image)\n",
    "    outputs = output.data.cpu().numpy()"
   ]
  },
  {
   "cell_type": "code",
   "execution_count": 131,
   "metadata": {},
   "outputs": [
    {
     "data": {
      "text/plain": [
       "<matplotlib.text.Text at 0x7fe29eda75c0>"
      ]
     },
     "execution_count": 131,
     "metadata": {},
     "output_type": "execute_result"
    },
    {
     "data": {
      "image/png": "[encoded data removed]",
      "text/plain": [
       "<matplotlib.figure.Figure at 0x7fe29f0b5c18>"
      ]
     },
     "metadata": {},
     "output_type": "display_data"
    }
   ],
   "source": [
    "index = 1\n",
    "plt.imshow(image[index].data.cpu().numpy().reshape(28,28),\n",
    "          cmap=\"Greys\", interpolation=\"nearest\")\n",
    "plt.title(\"Actual\")"
   ]
  },
  {
   "cell_type": "code",
   "execution_count": 132,
   "metadata": {},
   "outputs": [
    {
     "data": {
      "text/plain": [
       "<matplotlib.text.Text at 0x7fe29ea8cd68>"
      ]
     },
     "execution_count": 132,
     "metadata": {},
     "output_type": "execute_result"
    },
    {
     "data": {
      "image/png": "[encoded data removed]",
      "text/plain": [
       "<matplotlib.figure.Figure at 0x7fe29ee74438>"
      ]
     },
     "metadata": {},
     "output_type": "display_data"
    }
   ],
   "source": [
    "plt.imshow(outputs[index].reshape(28,28),cmap=\"Greys\")\n",
    "plt.title(\"Reconstructed\")"
   ]
  },
  {
   "cell_type": "markdown",
   "metadata": {},
   "source": [
    "## Visualizing Features"
   ]
  },
  {
   "cell_type": "code",
   "execution_count": 136,
   "metadata": {},
   "outputs": [],
   "source": [
    "hidden1_weights = sae.hidden1.weight.data.cpu().numpy()"
   ]
  },
  {
   "cell_type": "code",
   "execution_count": 153,
   "metadata": {},
   "outputs": [
    {
     "data": {
      "text/plain": [
       "<matplotlib.image.AxesImage at 0x7fe29de24cf8>"
      ]
     },
     "execution_count": 153,
     "metadata": {},
     "output_type": "execute_result"
    },
    {
     "data": {
      "image/png": "[encoded data removed]",
      "text/plain": [
       "<matplotlib.figure.Figure at 0x7fe29de3b908>"
      ]
     },
     "metadata": {},
     "output_type": "display_data"
    }
   ],
   "source": [
    "neuron = 3\n",
    "plt.imshow(hidden1_weights[neuron].reshape([28,28]),\n",
    "           cmap='Greys')"
   ]
  }
 ],
 "metadata": {
  "kernelspec": {
   "display_name": "Python 3",
   "language": "python",
   "name": "python3"
  },
  "language_info": {
   "codemirror_mode": {
    "name": "ipython",
    "version": 3
   },
   "file_extension": ".py",
   "mimetype": "text/x-python",
   "name": "python",
   "nbconvert_exporter": "python",
   "pygments_lexer": "ipython3",
   "version": "3.6.1"
  }
 },
 "nbformat": 4,
 "nbformat_minor": 2
}
