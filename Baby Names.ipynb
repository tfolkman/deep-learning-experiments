{
 "cells": [
  {
   "cell_type": "markdown",
   "metadata": {},
   "source": [
    "## Goal\n",
    "\n",
    "Generate a baby name given the first two charaters\n",
    "\n",
    "### Create data"
   ]
  },
  {
   "cell_type": "code",
   "execution_count": 5,
   "metadata": {},
   "outputs": [],
   "source": [
    "import numpy as np\n",
    "from keras.models import Model, Sequential\n",
    "from keras.layers import Dense, Embedding, LSTM, BatchNormalization, Dropout, Bidirectional, GRU"
   ]
  },
  {
   "cell_type": "code",
   "execution_count": 6,
   "metadata": {
    "collapsed": true
   },
   "outputs": [],
   "source": [
    "## number of characters to use as input\n",
    "input_length = 2\n",
    "## append to all names at the end, so can learn when to stop generating characters\n",
    "end_name_token = \"</name>\""
   ]
  },
  {
   "cell_type": "code",
   "execution_count": 7,
   "metadata": {},
   "outputs": [],
   "source": [
    "## read in data\n",
    "# http://www.cs.cmu.edu/afs/cs/project/ai-repository/ai/areas/nlp/corpora/names/\n",
    "data_set = \"./small_data/baby_names_all.txt\"\n",
    "names = []\n",
    "with open(data_set, \"r\") as f:\n",
    "    for line in f:\n",
    "        names.append(line.lower().strip())"
   ]
  },
  {
   "cell_type": "code",
   "execution_count": 8,
   "metadata": {},
   "outputs": [
    {
     "data": {
      "text/plain": [
       "['abagael', 'abagail', 'abbe', 'abbey', 'abbi']"
      ]
     },
     "execution_count": 8,
     "metadata": {},
     "output_type": "execute_result"
    }
   ],
   "source": [
    "names[:5]"
   ]
  },
  {
   "cell_type": "code",
   "execution_count": 9,
   "metadata": {},
   "outputs": [
    {
     "name": "stdout",
     "output_type": "stream",
     "text": [
      "7944\n"
     ]
    }
   ],
   "source": [
    "print(len(names))"
   ]
  },
  {
   "cell_type": "code",
   "execution_count": 10,
   "metadata": {
    "collapsed": true
   },
   "outputs": [],
   "source": [
    "## create lookup dictionaries so each unique character gets a unique number\n",
    "unique_chars = list(set([char for name in names for char in name]))\n",
    "unique_chars = unique_chars + [end_name_token]"
   ]
  },
  {
   "cell_type": "code",
   "execution_count": 11,
   "metadata": {},
   "outputs": [
    {
     "data": {
      "text/plain": [
       "['s', 'p']"
      ]
     },
     "execution_count": 11,
     "metadata": {},
     "output_type": "execute_result"
    }
   ],
   "source": [
    "unique_chars[:2]"
   ]
  },
  {
   "cell_type": "code",
   "execution_count": 12,
   "metadata": {},
   "outputs": [
    {
     "name": "stdout",
     "output_type": "stream",
     "text": [
      "30\n"
     ]
    }
   ],
   "source": [
    "print(len(unique_chars))"
   ]
  },
  {
   "cell_type": "code",
   "execution_count": 13,
   "metadata": {},
   "outputs": [],
   "source": [
    "char2index = {c: i for i, c in enumerate(unique_chars)}\n",
    "index2char = {i: c for i, c in enumerate(unique_chars)}"
   ]
  },
  {
   "cell_type": "code",
   "execution_count": 14,
   "metadata": {
    "collapsed": true
   },
   "outputs": [],
   "source": [
    "## convert names to their index values\n",
    "names_indexes = []\n",
    "for name in names:\n",
    "    index_name = []\n",
    "    for c in name:\n",
    "        index_name.append(char2index[c])\n",
    "    index_name.append(char2index[end_name_token])\n",
    "    names_indexes.append(index_name)"
   ]
  },
  {
   "cell_type": "code",
   "execution_count": 15,
   "metadata": {},
   "outputs": [
    {
     "data": {
      "text/plain": [
       "'abagael'"
      ]
     },
     "execution_count": 15,
     "metadata": {},
     "output_type": "execute_result"
    }
   ],
   "source": [
    "names[0]"
   ]
  },
  {
   "cell_type": "code",
   "execution_count": 16,
   "metadata": {},
   "outputs": [
    {
     "data": {
      "text/plain": [
       "[19, 15, 19, 7, 19, 26, 3, 29]"
      ]
     },
     "execution_count": 16,
     "metadata": {},
     "output_type": "execute_result"
    }
   ],
   "source": [
    "names_indexes[0]"
   ]
  },
  {
   "cell_type": "code",
   "execution_count": 17,
   "metadata": {},
   "outputs": [
    {
     "data": {
      "text/plain": [
       "'abagael</name>'"
      ]
     },
     "execution_count": 17,
     "metadata": {},
     "output_type": "execute_result"
    }
   ],
   "source": [
    "''.join([index2char[i] for i in names_indexes[0]])"
   ]
  },
  {
   "cell_type": "code",
   "execution_count": 18,
   "metadata": {
    "collapsed": true
   },
   "outputs": [],
   "source": [
    "## create X and y data for training\n",
    "X = []\n",
    "y = []\n",
    "for n in names_indexes:\n",
    "    length_name = len(n)\n",
    "    for i in range(0, length_name-input_length):\n",
    "        X.append(n[i:i+input_length])\n",
    "        y.append(n[i+input_length])\n",
    "X = np.array(X)\n",
    "y = np.expand_dims(np.array(y),1)"
   ]
  },
  {
   "cell_type": "code",
   "execution_count": 19,
   "metadata": {},
   "outputs": [
    {
     "data": {
      "text/plain": [
       "(39980, 2)"
      ]
     },
     "execution_count": 19,
     "metadata": {},
     "output_type": "execute_result"
    }
   ],
   "source": [
    "X.shape"
   ]
  },
  {
   "cell_type": "code",
   "execution_count": 20,
   "metadata": {},
   "outputs": [
    {
     "data": {
      "text/plain": [
       "(39980, 1)"
      ]
     },
     "execution_count": 20,
     "metadata": {},
     "output_type": "execute_result"
    }
   ],
   "source": [
    "y.shape"
   ]
  },
  {
   "cell_type": "markdown",
   "metadata": {},
   "source": [
    "## Model"
   ]
  },
  {
   "cell_type": "code",
   "execution_count": 21,
   "metadata": {
    "collapsed": true
   },
   "outputs": [],
   "source": [
    "## we have very little data, so let's make a smalle model\n",
    "vocab_size = len(unique_chars)\n",
    "n_fac = 4\n",
    "n_hidden = 50"
   ]
  },
  {
   "cell_type": "code",
   "execution_count": 23,
   "metadata": {},
   "outputs": [],
   "source": [
    "model=Sequential([\n",
    "        Embedding(vocab_size, n_fac, input_length=input_length),\n",
    "        BatchNormalization(),\n",
    "        LSTM(n_hidden, return_sequences=True),\n",
    "        LSTM(n_hidden),\n",
    "        Dense(vocab_size, activation='softmax'),\n",
    "    ])\n",
    "model.compile(optimizer='adam', loss='sparse_categorical_crossentropy')"
   ]
  },
  {
   "cell_type": "code",
   "execution_count": 24,
   "metadata": {},
   "outputs": [
    {
     "name": "stdout",
     "output_type": "stream",
     "text": [
      "_________________________________________________________________\n",
      "Layer (type)                 Output Shape              Param #   \n",
      "=================================================================\n",
      "embedding_1 (Embedding)      (None, 2, 4)              120       \n",
      "_________________________________________________________________\n",
      "batch_normalization_1 (Batch (None, 2, 4)              16        \n",
      "_________________________________________________________________\n",
      "lstm_1 (LSTM)                (None, 2, 50)             11000     \n",
      "_________________________________________________________________\n",
      "lstm_2 (LSTM)                (None, 50)                20200     \n",
      "_________________________________________________________________\n",
      "dense_1 (Dense)              (None, 30)                1530      \n",
      "=================================================================\n",
      "Total params: 32,866\n",
      "Trainable params: 32,858\n",
      "Non-trainable params: 8\n",
      "_________________________________________________________________\n"
     ]
    }
   ],
   "source": [
    "model.summary()"
   ]
  },
  {
   "cell_type": "code",
   "execution_count": 40,
   "metadata": {},
   "outputs": [
    {
     "name": "stdout",
     "output_type": "stream",
     "text": [
      "Epoch 1/25\n",
      "39980/39980 [==============================] - 2s - loss: 2.1432     \n",
      "Epoch 2/25\n",
      "39980/39980 [==============================] - 2s - loss: 2.1341     \n",
      "Epoch 3/25\n",
      "39980/39980 [==============================] - 2s - loss: 2.1254     \n",
      "Epoch 4/25\n",
      "39980/39980 [==============================] - 2s - loss: 2.1170     \n",
      "Epoch 5/25\n",
      "39980/39980 [==============================] - 2s - loss: 2.1089     \n",
      "Epoch 6/25\n",
      "39980/39980 [==============================] - 2s - loss: 2.1016     \n",
      "Epoch 7/25\n",
      "39980/39980 [==============================] - 2s - loss: 2.0949     \n",
      "Epoch 8/25\n",
      "39980/39980 [==============================] - 2s - loss: 2.0885     \n",
      "Epoch 9/25\n",
      "39980/39980 [==============================] - 2s - loss: 2.0835     \n",
      "Epoch 10/25\n",
      "39980/39980 [==============================] - 2s - loss: 2.0771     \n",
      "Epoch 11/25\n",
      "39980/39980 [==============================] - 2s - loss: 2.0741     \n",
      "Epoch 12/25\n",
      "39980/39980 [==============================] - 2s - loss: 2.0682     \n",
      "Epoch 13/25\n",
      "39980/39980 [==============================] - 2s - loss: 2.0654     \n",
      "Epoch 14/25\n",
      "39980/39980 [==============================] - 2s - loss: 2.0601     \n",
      "Epoch 15/25\n",
      "39980/39980 [==============================] - 2s - loss: 2.0568     \n",
      "Epoch 16/25\n",
      "39980/39980 [==============================] - 2s - loss: 2.0532     \n",
      "Epoch 17/25\n",
      "39980/39980 [==============================] - 2s - loss: 2.0506     \n",
      "Epoch 18/25\n",
      "39980/39980 [==============================] - 2s - loss: 2.0478     \n",
      "Epoch 19/25\n",
      "39980/39980 [==============================] - 2s - loss: 2.0449     \n",
      "Epoch 20/25\n",
      "39980/39980 [==============================] - 2s - loss: 2.0427     \n",
      "Epoch 21/25\n",
      "39980/39980 [==============================] - 2s - loss: 2.0393     \n",
      "Epoch 22/25\n",
      "39980/39980 [==============================] - 2s - loss: 2.0381     \n",
      "Epoch 23/25\n",
      "39980/39980 [==============================] - 2s - loss: 2.0358     \n",
      "Epoch 24/25\n",
      "39980/39980 [==============================] - 2s - loss: 2.0329     \n",
      "Epoch 25/25\n",
      "39980/39980 [==============================] - 2s - loss: 2.0321     \n"
     ]
    },
    {
     "data": {
      "text/plain": [
       "<keras.callbacks.History at 0x7f6b00c25358>"
      ]
     },
     "execution_count": 40,
     "metadata": {},
     "output_type": "execute_result"
    }
   ],
   "source": [
    "model.fit(X, y, batch_size=128, epochs=25)"
   ]
  },
  {
   "cell_type": "code",
   "execution_count": 41,
   "metadata": {},
   "outputs": [],
   "source": [
    "## some helper functions to generate names!\n",
    "\n",
    "def sample(preds, temperature=1.0):\n",
    "    # helper function to sample an index from a probability array\n",
    "    preds = np.asarray(preds).astype('float64')\n",
    "    preds = np.log(preds) / temperature\n",
    "    exp_preds = np.exp(preds)\n",
    "    preds = exp_preds / np.sum(exp_preds)\n",
    "    probas = np.random.multinomial(1, preds, 1)\n",
    "    return np.argmax(probas)\n",
    "\n",
    "def name_from_two_starting_letters(two_char_string, temperature=1.0):\n",
    "    two_chars_indexes = []\n",
    "    generated_name = two_char_string\n",
    "    for c in two_char_string:\n",
    "        two_chars_indexes.append(char2index[c])\n",
    "    predict_input_array = np.array([two_chars_indexes])\n",
    "    predicted_index = -1\n",
    "    while (predicted_index != char2index[end_name_token]):\n",
    "        predicted_index = sample(model.predict(predict_input_array)[0], temperature)\n",
    "        if predicted_index != char2index[end_name_token]:\n",
    "            generated_name = generated_name + index2char[predicted_index]\n",
    "            predict_input_array = np.array([[predict_input_array[0][1]] + [predicted_index]])\n",
    "    return generated_name"
   ]
  },
  {
   "cell_type": "code",
   "execution_count": 42,
   "metadata": {},
   "outputs": [
    {
     "data": {
      "text/plain": [
       "'emer'"
      ]
     },
     "execution_count": 42,
     "metadata": {},
     "output_type": "execute_result"
    }
   ],
   "source": [
    "name_from_two_starting_letters('em', temperature=0.5)"
   ]
  },
  {
   "cell_type": "code",
   "execution_count": 43,
   "metadata": {},
   "outputs": [],
   "source": [
    "def generate_n_random_names(n, possible_starts=['ab', 'ma', 'as', 'ch', 'em', 'cl'],\n",
    "                           possible_temperatures = [0.2, 0.5, 1.0, 1.2]):\n",
    "    random_names = []\n",
    "    for _ in range(n):\n",
    "        temperatue = np.random.choice(possible_temperatures, 1)\n",
    "        starting_chars = ''.join(np.random.choice(possible_starts,1))\n",
    "        random_names.append(name_from_two_starting_letters(starting_chars, temperatue))\n",
    "    return random_names"
   ]
  },
  {
   "cell_type": "code",
   "execution_count": 47,
   "metadata": {},
   "outputs": [
    {
     "name": "stdout",
     "output_type": "stream",
     "text": [
      "azel\n",
      "azie\n",
      "azola\n",
      "az\n",
      "azie\n",
      "azakim\n",
      "azo\n",
      "azebe\n",
      "az\n",
      "azi\n"
     ]
    }
   ],
   "source": [
    "random_names = generate_n_random_names(10, ['az'], [0.5])\n",
    "for name in random_names:\n",
    "    print(name)"
   ]
  },
  {
   "cell_type": "code",
   "execution_count": null,
   "metadata": {
    "collapsed": true
   },
   "outputs": [],
   "source": []
  }
 ],
 "metadata": {
  "kernelspec": {
   "display_name": "Python 3",
   "language": "python",
   "name": "python3"
  },
  "language_info": {
   "codemirror_mode": {
    "name": "ipython",
    "version": 3
   },
   "file_extension": ".py",
   "mimetype": "text/x-python",
   "name": "python",
   "nbconvert_exporter": "python",
   "pygments_lexer": "ipython3",
   "version": "3.6.1"
  }
 },
 "nbformat": 4,
 "nbformat_minor": 1
}
