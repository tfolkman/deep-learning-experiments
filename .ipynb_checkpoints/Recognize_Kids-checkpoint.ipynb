{
 "cells": [
  {
   "cell_type": "code",
   "execution_count": 1,
   "metadata": {},
   "outputs": [],
   "source": [
    "import torch\n",
    "import torch.nn as nn\n",
    "import torch.optim as optim\n",
    "from torch.optim import lr_scheduler\n",
    "import numpy as np\n",
    "import torchvision\n",
    "from torchvision import datasets, models, transforms\n",
    "import matplotlib.pyplot as plt\n",
    "import time\n",
    "import os\n",
    "import copy\n",
    "import PIL\n",
    "%matplotlib inline"
   ]
  },
  {
   "cell_type": "code",
   "execution_count": 2,
   "metadata": {},
   "outputs": [],
   "source": [
    "data_transforms = {\n",
    "    'train': transforms.Compose([\n",
    "        transforms.Resize((224,224)),\n",
    "        transforms.ColorJitter(hue=.05, saturation=.05),\n",
    "        transforms.RandomHorizontalFlip(),\n",
    "        transforms.RandomRotation(20, resample=PIL.Image.BILINEAR),\n",
    "        transforms.ToTensor(),\n",
    "        transforms.Normalize([0.485, 0.456, 0.406], [0.229, 0.224, 0.225])\n",
    "    ]),\n",
    "    'val': transforms.Compose([\n",
    "        transforms.Resize((224,224)),\n",
    "        transforms.ToTensor(),\n",
    "        transforms.Normalize([0.485, 0.456, 0.406], [0.229, 0.224, 0.225])\n",
    "    ]),\n",
    "}"
   ]
  },
  {
   "cell_type": "code",
   "execution_count": 3,
   "metadata": {},
   "outputs": [],
   "source": [
    "data_dir = \"/home/tyler/data/image/kids/\"\n",
    "\n",
    "kids_dataset = datasets.ImageFolder(root=data_dir, transform=data_transforms['train'])\n",
    "dataset_loader = torch.utils.data.DataLoader(kids_dataset,\n",
    "                                             batch_size=8, shuffle=True,\n",
    "                                             num_workers=8)\n",
    "\n",
    "device = torch.device(\"cuda\" if torch.cuda.is_available() else \"cpu\")"
   ]
  },
  {
   "cell_type": "code",
   "execution_count": 4,
   "metadata": {},
   "outputs": [],
   "source": [
    "model_ft = models.resnet50(pretrained=True)\n",
    "num_ftrs = model_ft.fc.in_features\n",
    "model_ft.fc = nn.Linear(num_ftrs, len(kids_dataset.classes))\n",
    "\n",
    "\n",
    "ct = 0\n",
    "for name, child in model_ft.named_children():\n",
    "    ct += 1\n",
    "    if ct < 10:\n",
    "        for name2, params in child.named_parameters():\n",
    "            params.requires_grad = False\n",
    "\n",
    "model_ft = model_ft.to(device)\n",
    "\n",
    "criterion = nn.CrossEntropyLoss()\n",
    "\n",
    "# Observe that all parameters are being optimized\n",
    "optimizer = optim.Adam(model_ft.parameters(), lr=0.0001)"
   ]
  },
  {
   "cell_type": "code",
   "execution_count": 5,
   "metadata": {
    "scrolled": true
   },
   "outputs": [
    {
     "name": "stdout",
     "output_type": "stream",
     "text": [
      "Epoch 0/24\n",
      "----------\n",
      "1.6130437850952148\n",
      "Epoch 1/24\n",
      "----------\n",
      "1.786604404449463\n",
      "Epoch 2/24\n",
      "----------\n",
      "1.7896959781646729\n",
      "Epoch 3/24\n",
      "----------\n",
      "1.2975730895996094\n",
      "Epoch 4/24\n",
      "----------\n",
      "1.7832658290863037\n",
      "Epoch 5/24\n",
      "----------\n",
      "1.2379672527313232\n",
      "Epoch 6/24\n",
      "----------\n",
      "1.7093944549560547\n",
      "Epoch 7/24\n",
      "----------\n",
      "1.367185354232788\n",
      "Epoch 8/24\n",
      "----------\n",
      "1.2654507160186768\n",
      "Epoch 9/24\n",
      "----------\n",
      "1.5360976457595825\n",
      "Epoch 10/24\n",
      "----------\n",
      "1.1561788320541382\n",
      "Epoch 11/24\n",
      "----------\n",
      "1.3117225170135498\n",
      "Epoch 12/24\n",
      "----------\n",
      "1.1920171976089478\n",
      "Epoch 13/24\n",
      "----------\n",
      "1.1076421737670898\n",
      "Epoch 14/24\n",
      "----------\n",
      "1.4584388732910156\n",
      "Epoch 15/24\n",
      "----------\n",
      "1.8369073867797852\n",
      "Epoch 16/24\n",
      "----------\n",
      "1.2652087211608887\n",
      "Epoch 17/24\n",
      "----------\n",
      "1.4837459325790405\n",
      "Epoch 18/24\n",
      "----------\n",
      "1.2842156887054443\n",
      "Epoch 19/24\n",
      "----------\n",
      "1.6492934226989746\n",
      "Epoch 20/24\n",
      "----------\n",
      "1.3790892362594604\n",
      "Epoch 21/24\n",
      "----------\n",
      "1.0445863008499146\n",
      "Epoch 22/24\n",
      "----------\n",
      "1.5649816989898682\n",
      "Epoch 23/24\n",
      "----------\n",
      "1.458467721939087\n",
      "Epoch 24/24\n",
      "----------\n",
      "1.2467457056045532\n"
     ]
    }
   ],
   "source": [
    "num_epochs = 25\n",
    "losses = []\n",
    "\n",
    "for epoch in range(num_epochs):\n",
    "    print('Epoch {}/{}'.format(epoch, num_epochs - 1))\n",
    "    print('-' * 10)\n",
    "\n",
    "    model_ft.train() \n",
    "\n",
    "\n",
    "    # Iterate over data.\n",
    "    for inputs, labels in dataset_loader:\n",
    "        inputs = inputs.to(device)\n",
    "        labels = labels.to(device)\n",
    "\n",
    "        # zero the parameter gradients\n",
    "        optimizer.zero_grad()\n",
    "\n",
    "        # forward\n",
    "        # track history if only in train\n",
    "        outputs = model_ft(inputs)\n",
    "        _, preds = torch.max(outputs, 1)\n",
    "        loss = criterion(outputs, labels)\n",
    "        losses.append(loss)\n",
    "\n",
    "        # backward + optimize only if in training phase\n",
    "        loss.backward()\n",
    "        optimizer.step()\n",
    "    print(loss.item())"
   ]
  },
  {
   "cell_type": "code",
   "execution_count": 6,
   "metadata": {},
   "outputs": [
    {
     "data": {
      "text/plain": [
       "[<matplotlib.lines.Line2D at 0x7fc48d7ba860>]"
      ]
     },
     "execution_count": 6,
     "metadata": {},
     "output_type": "execute_result"
    },
    {
     "data": {
      "image/png": "[encoded data removed]",
      "text/plain": [
       "<Figure size 432x288 with 1 Axes>"
      ]
     },
     "metadata": {},
     "output_type": "display_data"
    }
   ],
   "source": [
    "plt.plot(losses)"
   ]
  },
  {
   "cell_type": "code",
   "execution_count": 19,
   "metadata": {},
   "outputs": [],
   "source": [
    "test_image = PIL.Image.open(\"/home/tyler/Downloads/aiden.jpg\")"
   ]
  },
  {
   "cell_type": "code",
   "execution_count": 20,
   "metadata": {},
   "outputs": [],
   "source": [
    "trn_image = data_transforms['val'](test_image)\n",
    "trn_image = trn_image.unsqueeze(0).to(device)"
   ]
  },
  {
   "cell_type": "code",
   "execution_count": 21,
   "metadata": {},
   "outputs": [
    {
     "data": {
      "text/plain": [
       "'clara'"
      ]
     },
     "execution_count": 21,
     "metadata": {},
     "output_type": "execute_result"
    }
   ],
   "source": [
    "model_ft.eval()\n",
    "kids_dataset.classes[torch.argmax(model_ft(trn_image)).item()]"
   ]
  },
  {
   "cell_type": "code",
   "execution_count": 22,
   "metadata": {},
   "outputs": [
    {
     "data": {
      "text/plain": [
       "tensor([[-0.5217,  0.1382,  0.3707, -1.0108, -1.1767]], device='cuda:0',\n",
       "       grad_fn=<AddmmBackward>)"
      ]
     },
     "execution_count": 22,
     "metadata": {},
     "output_type": "execute_result"
    }
   ],
   "source": [
    "model_ft(trn_image)"
   ]
  },
  {
   "cell_type": "code",
   "execution_count": 17,
   "metadata": {},
   "outputs": [
    {
     "data": {
      "text/plain": [
       "['aiden', 'cheryl', 'clara', 'emery', 'tyler']"
      ]
     },
     "execution_count": 17,
     "metadata": {},
     "output_type": "execute_result"
    }
   ],
   "source": [
    "kids_dataset.classes"
   ]
  },
  {
   "cell_type": "markdown",
   "metadata": {},
   "source": [
    "## Save for Production"
   ]
  },
  {
   "cell_type": "code",
   "execution_count": 12,
   "metadata": {},
   "outputs": [],
   "source": [
    "torch.save(model_ft, \"./models/kids.pkl\")"
   ]
  }
 ],
 "metadata": {
  "kernelspec": {
   "display_name": "Python 3",
   "language": "python",
   "name": "python3"
  },
  "language_info": {
   "codemirror_mode": {
    "name": "ipython",
    "version": 3
   },
   "file_extension": ".py",
   "mimetype": "text/x-python",
   "name": "python",
   "nbconvert_exporter": "python",
   "pygments_lexer": "ipython3",
   "version": "3.6.6"
  }
 },
 "nbformat": 4,
 "nbformat_minor": 2
}
