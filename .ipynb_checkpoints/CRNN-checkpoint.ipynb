{
 "cells": [
  {
   "cell_type": "code",
   "execution_count": 1,
   "metadata": {},
   "outputs": [],
   "source": [
    "import torch\n",
    "import torch.nn as nn\n",
    "from torch.autograd import Variable\n",
    "import numpy as np\n",
    "import time\n",
    "import math\n",
    "import matplotlib.pyplot as plt\n",
    "import torch.optim as optim\n",
    "from collections import defaultdict\n",
    "import torch.distributions as distributions\n",
    "import pandas as pd\n",
    "from collections import Counter\n",
    "import os\n",
    "import torch.nn.functional as F\n",
    "%matplotlib inline"
   ]
  },
  {
   "cell_type": "markdown",
   "metadata": {},
   "source": [
    "## Example of RNN and LSTM using pytorch\n",
    "\n",
    "Source: http://pytorch.org/tutorials/intermediate/char_rnn_generation_tutorial.html#sphx-glr-intermediate-char-rnn-generation-tutorial-py"
   ]
  },
  {
   "cell_type": "code",
   "execution_count": 2,
   "metadata": {},
   "outputs": [],
   "source": [
    "input_directory = \"/Users/tfolkman/projects/elder_folkman/content/post/\""
   ]
  },
  {
   "cell_type": "code",
   "execution_count": 3,
   "metadata": {},
   "outputs": [],
   "source": [
    "all_lines = \"\"\n",
    "for file in os.listdir(input_directory):\n",
    "    if file == \"Contact.md\":\n",
    "        continue\n",
    "    with open(input_directory + file, \"r\") as f:\n",
    "        meta_counter = 0\n",
    "        for i, line in enumerate(f):\n",
    "            if \"+++\" in line:\n",
    "                meta_counter += 1\n",
    "                continue\n",
    "            elif meta_counter > 1:\n",
    "                clean_line = line.strip().lower()\n",
    "                if len(clean_line) == 0:\n",
    "                    all_lines += \"\\n\"\n",
    "                else:\n",
    "                    all_lines = all_lines + \" \" + clean_line"
   ]
  },
  {
   "cell_type": "code",
   "execution_count": 4,
   "metadata": {},
   "outputs": [
    {
     "data": {
      "text/plain": [
       "325408"
      ]
     },
     "execution_count": 4,
     "metadata": {},
     "output_type": "execute_result"
    }
   ],
   "source": [
    "len(all_lines)"
   ]
  },
  {
   "cell_type": "code",
   "execution_count": 5,
   "metadata": {},
   "outputs": [],
   "source": [
    "class LSTM(nn.Module):\n",
    "    def __init__(self, input_size, hidden_size, output_size, embedding_dim, n_layers=2, bs=1):\n",
    "        super(LSTM, self).__init__()\n",
    "        self.hidden_size = hidden_size\n",
    "        self.n_layers = n_layers\n",
    "        self.bs = bs\n",
    "        self.word_embeddings = nn.Embedding(input_size, embedding_dim)\n",
    "        self.lstm = nn.LSTM(embedding_dim, hidden_size, n_layers, dropout=0.5)\n",
    "        self.hidden2tag = nn.Linear(hidden_size, output_size)\n",
    "        self.hidden = self.initHidden()\n",
    "\n",
    "    def forward(self, input):\n",
    "        embeds = self.word_embeddings(input)\n",
    "        lstm_out, self.hidden = self.lstm(\n",
    "            embeds.view(len(input), 1, -1), self.hidden)\n",
    "        last_lstm = lstm_out[-1]\n",
    "        tag_space = self.hidden2tag(last_lstm)\n",
    "        tag_scores = F.log_softmax(tag_space, dim=1)\n",
    "        return tag_scores\n",
    "\n",
    "    def initHidden(self):\n",
    "        return (torch.zeros(self.n_layers, self.bs, self.hidden_size),\n",
    "                torch.zeros(self.n_layers, self.bs, self.hidden_size))"
   ]
  },
  {
   "cell_type": "code",
   "execution_count": 6,
   "metadata": {},
   "outputs": [],
   "source": [
    "letters = set([c.lower() for word in all_lines for c in word])\n",
    "letters_to_index = {l:i for i,l in enumerate(letters)}\n",
    "index_to_letter = {i:l for l, i in letters_to_index.items()}"
   ]
  },
  {
   "cell_type": "code",
   "execution_count": 7,
   "metadata": {},
   "outputs": [],
   "source": [
    "n_letters = len(letters)"
   ]
  },
  {
   "cell_type": "code",
   "execution_count": 15,
   "metadata": {},
   "outputs": [],
   "source": [
    "sequence_length = 50\n",
    "batch_size = 1\n",
    "\n",
    "def inputTensor(line):\n",
    "    return torch.LongTensor([letters_to_index[letter] for letter in line[:-1]])\n",
    "\n",
    "def targetTensor(line):\n",
    "    return torch.LongTensor([letters_to_index[line[-1]]])\n",
    "\n",
    "def randomTrainingPair():\n",
    "    starting_position = np.random.randint(len(all_lines)-(sequence_length+1))\n",
    "    return all_lines[starting_position:starting_position+(sequence_length+1)]\n",
    "\n",
    "def randomTrainingExample():\n",
    "    line = randomTrainingPair()\n",
    "    input_line_tensor = inputTensor(line)\n",
    "    target_line_tensor = targetTensor(line)\n",
    "    return input_line_tensor, target_line_tensor, line\n",
    "\n",
    "def timeSince(since):\n",
    "    now = time.time()\n",
    "    s = now - since\n",
    "    m = math.floor(s / 60)\n",
    "    s -= m * 60\n",
    "    return '%dm %ds' % (m, s)"
   ]
  },
  {
   "cell_type": "code",
   "execution_count": 9,
   "metadata": {},
   "outputs": [],
   "source": [
    "criterion = nn.NLLLoss()\n",
    "lstm = LSTM(n_letters, 64, n_letters, 64)\n",
    "\n",
    "optimizer = optim.Adam(lstm.parameters(), lr=.001)\n",
    "\n",
    "def train(input_line_tensor, target_line_tensor):\n",
    "\n",
    "    optimizer.zero_grad()\n",
    "\n",
    "    output = lstm(input_line_tensor)\n",
    "    loss = criterion(output, target_line_tensor)\n",
    "\n",
    "    loss.backward(retain_graph=True)\n",
    "\n",
    "    optimizer.step()\n",
    "\n",
    "    return output, loss.data.item() / input_line_tensor.size()[0]"
   ]
  },
  {
   "cell_type": "code",
   "execution_count": 10,
   "metadata": {},
   "outputs": [
    {
     "name": "stdout",
     "output_type": "stream",
     "text": [
      "0m 1s (10 5%) 0.0826\n",
      "0m 4s (20 10%) 0.0825\n",
      "0m 9s (30 15%) 0.0822\n",
      "0m 15s (40 20%) 0.0895\n",
      "0m 23s (50 25%) 0.0544\n",
      "0m 32s (60 30%) 0.0559\n",
      "0m 43s (70 35%) 0.0740\n",
      "0m 56s (80 40%) 0.0738\n",
      "1m 11s (90 45%) 0.0291\n",
      "1m 28s (100 50%) 0.0667\n",
      "1m 46s (110 55%) 0.0386\n",
      "2m 6s (120 60%) 0.0653\n",
      "2m 28s (130 65%) 0.0595\n",
      "2m 52s (140 70%) 0.1056\n",
      "3m 17s (150 75%) 0.0609\n",
      "3m 44s (160 80%) 0.0769\n",
      "4m 12s (170 85%) 0.0649\n",
      "4m 42s (180 90%) 0.0537\n",
      "5m 15s (190 95%) 0.0551\n",
      "5m 49s (200 100%) 0.0372\n"
     ]
    }
   ],
   "source": [
    "n_iters = 200\n",
    "print_every = 10\n",
    "plot_every = 1\n",
    "all_losses = []\n",
    "total_loss = 0 # Reset every plot_every iters\n",
    "\n",
    "start = time.time()\n",
    "\n",
    "for iter in range(1, n_iters + 1):\n",
    "    input_t, target_t = randomTrainingExample()\n",
    "    output, loss = train(input_t, target_t)\n",
    "    total_loss += loss\n",
    "\n",
    "    if iter % print_every == 0:\n",
    "        print('%s (%d %d%%) %.4f' % (timeSince(start), iter, iter / n_iters * 100, loss))\n",
    "\n",
    "    if iter % plot_every == 0:\n",
    "        all_losses.append(total_loss / plot_every)\n",
    "        total_loss = 0"
   ]
  },
  {
   "cell_type": "code",
   "execution_count": 11,
   "metadata": {},
   "outputs": [
    {
     "data": {
      "text/plain": [
       "[<matplotlib.lines.Line2D at 0x11a7419b0>]"
      ]
     },
     "execution_count": 11,
     "metadata": {},
     "output_type": "execute_result"
    },
    {
     "data": {
      "image/png": "[encoded data removed]",
      "text/plain": [
       "<Figure size 600x400 with 1 Axes>"
      ]
     },
     "metadata": {},
     "output_type": "display_data"
    }
   ],
   "source": [
    "plt.plot(all_losses)"
   ]
  },
  {
   "cell_type": "code",
   "execution_count": 24,
   "metadata": {},
   "outputs": [],
   "source": [
    "max_length = 100\n",
    "\n",
    "# Sample from a category and starting letter\n",
    "def sample(start_letter='\\n'):\n",
    "    output_name = \"\"\n",
    "    input, _, line = randomTrainingExample()\n",
    "    output_name += line\n",
    "    \n",
    "    for i in range(max_length):\n",
    "        output = lstm(input)\n",
    "        output = output.detach().cpu().numpy()\n",
    "        topi = [np.random.choice(n_letters, p=np.exp(l)) for l in output]\n",
    "        letters = \"\".join([index_to_letter[indx] for indx in topi])\n",
    "        output_name += letters\n",
    "        input = inputTensor(output_name[-100:])\n",
    "\n",
    "    return output_name"
   ]
  },
  {
   "cell_type": "code",
   "execution_count": 25,
   "metadata": {},
   "outputs": [
    {
     "data": {
      "text/plain": [
       "\"rtant covenant with their heavenly father! and javioeehwh dol   itr e ahyieeeertei,sel!nn e mt.’eaa'  iehe! eelsvmtvshhetyi amrsoh eaigydúpo! eh wm  ae\""
      ]
     },
     "execution_count": 25,
     "metadata": {},
     "output_type": "execute_result"
    }
   ],
   "source": [
    "sample()"
   ]
  },
  {
   "cell_type": "code",
   "execution_count": null,
   "metadata": {},
   "outputs": [],
   "source": []
  }
 ],
 "metadata": {
  "kernelspec": {
   "display_name": "Python 3",
   "language": "python",
   "name": "python3"
  },
  "language_info": {
   "codemirror_mode": {
    "name": "ipython",
    "version": 3
   },
   "file_extension": ".py",
   "mimetype": "text/x-python",
   "name": "python",
   "nbconvert_exporter": "python",
   "pygments_lexer": "ipython3",
   "version": "3.5.3"
  }
 },
 "nbformat": 4,
 "nbformat_minor": 2
}
