{
 "cells": [
  {
   "cell_type": "code",
   "execution_count": 2,
   "metadata": {
    "collapsed": true
   },
   "outputs": [],
   "source": [
    "import tensorflow as tf\n",
    "from tensorflow.examples.tutorials.mnist import input_data"
   ]
  },
  {
   "cell_type": "code",
   "execution_count": 3,
   "metadata": {},
   "outputs": [
    {
     "name": "stdout",
     "output_type": "stream",
     "text": [
      "Successfully downloaded train-images-idx3-ubyte.gz 9912422 bytes.\n",
      "Extracting MNIST_data/train-images-idx3-ubyte.gz\n",
      "Successfully downloaded train-labels-idx1-ubyte.gz 28881 bytes.\n",
      "Extracting MNIST_data/train-labels-idx1-ubyte.gz\n",
      "Successfully downloaded t10k-images-idx3-ubyte.gz 1648877 bytes.\n",
      "Extracting MNIST_data/t10k-images-idx3-ubyte.gz\n",
      "Successfully downloaded t10k-labels-idx1-ubyte.gz 4542 bytes.\n",
      "Extracting MNIST_data/t10k-labels-idx1-ubyte.gz\n"
     ]
    }
   ],
   "source": [
    "mnist = input_data.read_data_sets('MNIST_data', one_hot=True)"
   ]
  },
  {
   "cell_type": "code",
   "execution_count": 16,
   "metadata": {
    "collapsed": true
   },
   "outputs": [],
   "source": [
    "sess = tf.InteractiveSession()"
   ]
  },
  {
   "cell_type": "code",
   "execution_count": 17,
   "metadata": {
    "collapsed": true
   },
   "outputs": [],
   "source": [
    "x = tf.placeholder(tf.float32, [None, 784])\n",
    "y_ = tf.placeholder(tf.float32, [None, 10])"
   ]
  },
  {
   "cell_type": "code",
   "execution_count": 18,
   "metadata": {
    "collapsed": true
   },
   "outputs": [],
   "source": [
    "def weight_variable(shape):\n",
    "    initial = tf.truncated_normal(shape, stddev=0.1)\n",
    "    return tf.Variable(initial)\n",
    "\n",
    "def bias_variable(shape):\n",
    "    initial = tf.constant(0.1, shape=shape)\n",
    "    return tf.Variable(initial)\n",
    "\n",
    "def conv2d(x, W):\n",
    "    return tf.nn.conv2d(x, W, strides=[1,1,1,1], padding='SAME')\n",
    "\n",
    "def maxpool(x):\n",
    "    return tf.nn.max_pool(x, ksize=[1,2,2,1], strides=[1,2,2,1], padding='SAME')"
   ]
  },
  {
   "cell_type": "markdown",
   "metadata": {},
   "source": [
    "### Conv Math\n",
    "\n",
    "#### Same Padding\n",
    "\n",
    "out_height = ceil(float(in_height) / float(strides[1]))\n",
    "\n",
    "out_width  = ceil(float(in_width) / float(strides[2]))\n",
    "\n",
    "#### Valid Padding\n",
    "\n",
    "out_height = ceil(float(in_height - filter_height + 1) / float(strides[1]))\n",
    "\n",
    "out_width  = ceil(float(in_width - filter_width + 1) / float(strides[2]))\n",
    "\n",
    "### Pooling Math\n",
    "\n",
    "Accepts a volume of size W1×H1×D1\n",
    "\n",
    "Requires two hyperparameters:\n",
    "\n",
    "their spatial extent F,\n",
    "\n",
    "the stride S,\n",
    "\n",
    "Produces a volume of size W2×H2×D2W2×H2×D2 where:\n",
    "\n",
    "W2=(W1−F)/S+1\n",
    "\n",
    "H2=(H1−F)/S+1\n",
    "\n",
    "D2=D1"
   ]
  },
  {
   "cell_type": "code",
   "execution_count": 40,
   "metadata": {},
   "outputs": [],
   "source": [
    "# stride x, stride y, # channels, # filters\n",
    "W_conv1 = weight_variable([5,5,1,32])\n",
    "b_conv1 = bias_variable([32])\n",
    "\n",
    "# batch, height, width, channels\n",
    "x_image = tf.reshape(x, [-1, 28, 28, 1])\n",
    "\n",
    "###first conv layer\n",
    "h_conv1 = tf.nn.relu(conv2d(x_image, W_conv1) + b_conv1)\n",
    "h_maxpool1 = maxpool(h_conv1)\n",
    "\n",
    "W_conv2 = weight_variable([5, 5, 32, 128])\n",
    "b_conv2 = bias_variable([128])\n",
    "\n",
    "###second conv layer\n",
    "h_conv2 = tf.nn.relu(conv2d(h_maxpool1, W_conv2) + b_conv2)\n",
    "h_maxpool2 = maxpool(h_conv2)\n",
    "\n",
    "\n",
    "###dense layer\n",
    "W_dense1 = weight_variable([7*7*128, 512])\n",
    "b_dense1 = bias_variable([512])\n",
    "\n",
    "h_maxpool2_flat = tf.reshape(h_maxpool2, [-1, 7*7*128])\n",
    "h_fc1 = tf.nn.relu(tf.matmul(h_maxpool2_flat, W_dense1) + b_dense1)\n",
    "\n",
    "###dense layer\n",
    "W_dense2 = weight_variable([512, 1024])\n",
    "b_dense2 = bias_variable([1024])\n",
    "\n",
    "h_fc2 = tf.nn.relu(tf.matmul(h_fc1, W_dense2) + b_dense2)\n",
    "\n",
    "###final dense layer\n",
    "W_fc3 = weight_variable([1024, 10])\n",
    "b_fc3 = bias_variable([10])\n",
    "\n",
    "y_conv = tf.matmul(h_fc2, W_fc3) + b_fc3"
   ]
  },
  {
   "cell_type": "code",
   "execution_count": 41,
   "metadata": {},
   "outputs": [
    {
     "name": "stdout",
     "output_type": "stream",
     "text": [
      "step 0, training accuracy 0.14\n",
      "test accuracy 0.0942\n",
      "test accuracy 0.0657\n",
      "step 2, training accuracy 0.06\n",
      "test accuracy 0.0922\n",
      "test accuracy 0.1283\n",
      "step 4, training accuracy 0.18\n",
      "test accuracy 0.1243\n"
     ]
    }
   ],
   "source": [
    "cross_entropy = tf.reduce_mean(\n",
    "    tf.nn.softmax_cross_entropy_with_logits(labels=y_, logits=y_conv))\n",
    "train_step = tf.train.AdamOptimizer(1e-4).minimize(cross_entropy)\n",
    "correct_prediction = tf.equal(tf.argmax(y_conv, 1), tf.argmax(y_, 1))\n",
    "accuracy = tf.reduce_mean(tf.cast(correct_prediction, tf.float32))\n",
    "\n",
    "with tf.Session() as sess:\n",
    "    sess.run(tf.global_variables_initializer())\n",
    "    for i in range(5):\n",
    "        batch = mnist.train.next_batch(50)\n",
    "        if i % 2 == 0:\n",
    "            train_accuracy = accuracy.eval(feed_dict={\n",
    "              x: batch[0], y_: batch[1]})\n",
    "            print('step %d, training accuracy %g' % (i, train_accuracy))\n",
    "        train_step.run(feed_dict={x: batch[0], y_: batch[1]})\n",
    "\n",
    "        print('test accuracy %g' % accuracy.eval(feed_dict={\n",
    "          x: mnist.test.images, y_: mnist.test.labels}))"
   ]
  },
  {
   "cell_type": "code",
   "execution_count": null,
   "metadata": {
    "collapsed": true
   },
   "outputs": [],
   "source": []
  }
 ],
 "metadata": {
  "kernelspec": {
   "display_name": "Python 3",
   "language": "python",
   "name": "python3"
  },
  "language_info": {
   "codemirror_mode": {
    "name": "ipython",
    "version": 3
   },
   "file_extension": ".py",
   "mimetype": "text/x-python",
   "name": "python",
   "nbconvert_exporter": "python",
   "pygments_lexer": "ipython3",
   "version": "3.6.1"
  }
 },
 "nbformat": 4,
 "nbformat_minor": 2
}
