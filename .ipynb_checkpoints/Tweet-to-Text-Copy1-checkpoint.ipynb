{
 "cells": [
  {
   "cell_type": "code",
   "execution_count": 1,
   "metadata": {},
   "outputs": [],
   "source": [
    "import tweepy\n",
    "import csv\n",
    "import time\n",
    "\n",
    "# Generate at https://apps.twitter.com/app\n",
    "CONSUMER_KEY = 'IVaf7RQIknSTczbMV5kB2onis'\n",
    "CONSUMER_SECRET = 'FJAPeipzPlgbBz5vuYxZ83N5YjAC5aySW43sX0djxN7VNiQKft'\n",
    "OAUTH_TOKEN = '823299052813090817-3WBWGzjiSEAiSLAFLZxteQSATfGEmsB'\n",
    "OAUTH_TOKEN_SECRET = 'I73ZKWPkz3NIHVZMetEGfBvR9Hxq92e3gRELNJjrWUGyt'\n",
    "\n",
    "auth = tweepy.OAuthHandler(CONSUMER_KEY, CONSUMER_SECRET)\n",
    "auth.set_access_token(OAUTH_TOKEN, OAUTH_TOKEN_SECRET)\n",
    "api = tweepy.API(auth,wait_on_rate_limit=True)\n",
    "\n",
    "tweet_text = []\n",
    "\n",
    "for i, status in enumerate(tweepy.Cursor(api.search,q=\"#datascience\",count=100,\n",
    "                           lang=\"en\",\n",
    "                           since=\"2018-10-01\",\n",
    "                           tweet_mode='extended').items()):\n",
    "    if i > 15000:\n",
    "        break\n",
    "        \n",
    "    if hasattr(status, 'retweeted_status'):\n",
    "        try:\n",
    "            tweet = status.retweeted_status.full_text\n",
    "        except:\n",
    "            tweet = status.retweeted_status.text\n",
    "    else:\n",
    "        try:\n",
    "            tweet = status.full_text\n",
    "        except AttributeError:\n",
    "            tweet = status.text\n",
    "    tweet_text.append(tweet)"
   ]
  },
  {
   "cell_type": "code",
   "execution_count": 3,
   "metadata": {},
   "outputs": [],
   "source": [
    "import pandas as pd"
   ]
  },
  {
   "cell_type": "code",
   "execution_count": 4,
   "metadata": {},
   "outputs": [],
   "source": [
    "df = pd.DataFrame(tweet_text)"
   ]
  },
  {
   "cell_type": "code",
   "execution_count": 5,
   "metadata": {},
   "outputs": [
    {
     "data": {
      "text/html": [
       "<div>\n",
       "<style scoped>\n",
       "    .dataframe tbody tr th:only-of-type {\n",
       "        vertical-align: middle;\n",
       "    }\n",
       "\n",
       "    .dataframe tbody tr th {\n",
       "        vertical-align: top;\n",
       "    }\n",
       "\n",
       "    .dataframe thead th {\n",
       "        text-align: right;\n",
       "    }\n",
       "</style>\n",
       "<table border=\"1\" class=\"dataframe\">\n",
       "  <thead>\n",
       "    <tr style=\"text-align: right;\">\n",
       "      <th></th>\n",
       "      <th>0</th>\n",
       "    </tr>\n",
       "  </thead>\n",
       "  <tbody>\n",
       "    <tr>\n",
       "      <th>0</th>\n",
       "      <td>UltraSoC extends tools offering with integrate...</td>\n",
       "    </tr>\n",
       "    <tr>\n",
       "      <th>1</th>\n",
       "      <td>Lots of Free Open Source Datasets to Make Your...</td>\n",
       "    </tr>\n",
       "    <tr>\n",
       "      <th>2</th>\n",
       "      <td>UltraSoC announces integrated multi-core debug...</td>\n",
       "    </tr>\n",
       "    <tr>\n",
       "      <th>3</th>\n",
       "      <td>With $1 billion in funding, @MIT will create a...</td>\n",
       "    </tr>\n",
       "    <tr>\n",
       "      <th>4</th>\n",
       "      <td>Over 50,000 positions in Data Science and Mach...</td>\n",
       "    </tr>\n",
       "  </tbody>\n",
       "</table>\n",
       "</div>"
      ],
      "text/plain": [
       "                                                   0\n",
       "0  UltraSoC extends tools offering with integrate...\n",
       "1  Lots of Free Open Source Datasets to Make Your...\n",
       "2  UltraSoC announces integrated multi-core debug...\n",
       "3  With $1 billion in funding, @MIT will create a...\n",
       "4  Over 50,000 positions in Data Science and Mach..."
      ]
     },
     "execution_count": 5,
     "metadata": {},
     "output_type": "execute_result"
    }
   ],
   "source": [
    "df.head()"
   ]
  },
  {
   "cell_type": "code",
   "execution_count": 6,
   "metadata": {},
   "outputs": [],
   "source": [
    "df.to_csv(\"ds_tweets.csv\", index=False)"
   ]
  },
  {
   "cell_type": "code",
   "execution_count": null,
   "metadata": {},
   "outputs": [],
   "source": []
  }
 ],
 "metadata": {
  "kernelspec": {
   "display_name": "Python 3",
   "language": "python",
   "name": "python3"
  },
  "language_info": {
   "codemirror_mode": {
    "name": "ipython",
    "version": 3
   },
   "file_extension": ".py",
   "mimetype": "text/x-python",
   "name": "python",
   "nbconvert_exporter": "python",
   "pygments_lexer": "ipython3",
   "version": "3.6.6"
  }
 },
 "nbformat": 4,
 "nbformat_minor": 2
}
