{
 "cells": [
  {
   "cell_type": "code",
   "execution_count": 1,
   "metadata": {},
   "outputs": [],
   "source": [
    "%matplotlib inline\n",
    "\n",
    "import torch\n",
    "\n",
    "from torch.autograd import Variable\n",
    "from torch.nn.init import xavier_normal\n",
    "\n",
    "import torch.nn as nn\n",
    "import torch.nn.functional as F\n",
    "\n",
    "import torch.optim as optim\n",
    "\n",
    "import torchvision\n",
    "import torchvision.transforms as transforms\n",
    "\n",
    "import matplotlib.pyplot as plt\n",
    "import numpy as np\n",
    "import time\n",
    "import math"
   ]
  },
  {
   "cell_type": "code",
   "execution_count": 2,
   "metadata": {},
   "outputs": [],
   "source": [
    "BATCH_SIZE = 150\n",
    "\n",
    "transform = transforms.ToTensor()\n",
    "\n",
    "# Load and transform data\n",
    "trainset = torchvision.datasets.MNIST('/tmp', train=True, download=True, transform=transform)\n",
    "trainloader = torch.utils.data.DataLoader(trainset, batch_size=BATCH_SIZE,\n",
    "                                          shuffle=True, num_workers=2)\n",
    "\n",
    "testset = torchvision.datasets.MNIST('/tmp', train=False, download=True, transform=transform)\n",
    "testloader = torch.utils.data.DataLoader(testset, batch_size=BATCH_SIZE,\n",
    "                                         shuffle=False, num_workers=2)"
   ]
  },
  {
   "cell_type": "code",
   "execution_count": 3,
   "metadata": {},
   "outputs": [],
   "source": [
    "class StackedAutoEncoder(nn.Module):\n",
    "    def __init__(self, input_size, hidden_size=300, coding_size=150):\n",
    "        super(StackedAutoEncoder, self).__init__()\n",
    "        self.hidden1 = nn.Linear(input_size, hidden_size)\n",
    "        self.hidden2 = nn.Linear(hidden_size, coding_size)\n",
    "        self.hidden3 = nn.Linear(coding_size, hidden_size)\n",
    "        self.output = nn.Linear(hidden_size, input_size)\n",
    "        \n",
    "    def forward(self, x):\n",
    "        hidden1_output = F.elu(self.hidden1(x))\n",
    "        hidden2_output = F.elu(self.hidden2(hidden1_output))\n",
    "        hidden3_output = F.elu(self.hidden3(hidden2_output))\n",
    "        output = self.output(hidden3_output)\n",
    "        return output, hidden2_output"
   ]
  },
  {
   "cell_type": "code",
   "execution_count": 4,
   "metadata": {},
   "outputs": [],
   "source": [
    "sae = StackedAutoEncoder(input_size=28*28)"
   ]
  },
  {
   "cell_type": "code",
   "execution_count": 5,
   "metadata": {},
   "outputs": [],
   "source": [
    "criterion = nn.MSELoss()\n",
    "optimizer = optim.Adam(sae.parameters(), weight_decay=1e-5)"
   ]
  },
  {
   "cell_type": "code",
   "execution_count": 6,
   "metadata": {},
   "outputs": [],
   "source": [
    "def timeSince(since):\n",
    "    now = time.time()\n",
    "    s = now - since\n",
    "    m = math.floor(s / 60)\n",
    "    s -= m * 60\n",
    "    return '%dm %ds' % (m, s)"
   ]
  },
  {
   "cell_type": "code",
   "execution_count": 7,
   "metadata": {},
   "outputs": [
    {
     "name": "stdout",
     "output_type": "stream",
     "text": [
      "0m 0s (33 1%) 0.0396\n",
      "0m 0s (66 3%) 0.0274\n",
      "0m 1s (99 4%) 0.0198\n",
      "0m 1s (132 6%) 0.0157\n",
      "0m 1s (165 8%) 0.0136\n",
      "0m 2s (198 9%) 0.0115\n",
      "0m 2s (231 11%) 0.0113\n",
      "0m 2s (264 13%) 0.0102\n",
      "0m 3s (297 14%) 0.0096\n",
      "0m 3s (330 16%) 0.0087\n",
      "0m 3s (363 18%) 0.0087\n",
      "0m 4s (396 19%) 0.0081\n",
      "0m 4s (429 21%) 0.0079\n",
      "0m 4s (462 23%) 0.0080\n",
      "0m 5s (495 24%) 0.0078\n",
      "0m 5s (528 26%) 0.0073\n",
      "0m 5s (561 28%) 0.0073\n",
      "0m 6s (594 29%) 0.0072\n",
      "0m 6s (627 31%) 0.0067\n",
      "0m 7s (660 33%) 0.0066\n",
      "0m 7s (693 34%) 0.0065\n",
      "0m 7s (726 36%) 0.0067\n",
      "0m 8s (759 37%) 0.0067\n",
      "0m 8s (792 39%) 0.0064\n",
      "0m 8s (825 41%) 0.0062\n",
      "0m 9s (858 42%) 0.0063\n",
      "0m 9s (891 44%) 0.0062\n",
      "0m 9s (924 46%) 0.0061\n",
      "0m 10s (957 47%) 0.0062\n",
      "0m 10s (990 49%) 0.0060\n",
      "0m 10s (1023 51%) 0.0060\n",
      "0m 11s (1056 52%) 0.0064\n",
      "0m 11s (1089 54%) 0.0059\n",
      "0m 11s (1122 56%) 0.0059\n",
      "0m 12s (1155 57%) 0.0059\n",
      "0m 12s (1188 59%) 0.0056\n",
      "0m 12s (1221 61%) 0.0055\n",
      "0m 13s (1254 62%) 0.0059\n",
      "0m 13s (1287 64%) 0.0054\n",
      "0m 14s (1320 66%) 0.0057\n",
      "0m 14s (1353 67%) 0.0059\n",
      "0m 15s (1386 69%) 0.0057\n",
      "0m 15s (1419 70%) 0.0059\n",
      "0m 15s (1452 72%) 0.0059\n",
      "0m 16s (1485 74%) 0.0055\n",
      "0m 16s (1518 75%) 0.0057\n",
      "0m 17s (1551 77%) 0.0058\n",
      "0m 17s (1584 79%) 0.0051\n",
      "0m 17s (1617 80%) 0.0057\n",
      "0m 18s (1650 82%) 0.0053\n",
      "0m 18s (1683 84%) 0.0054\n",
      "0m 19s (1716 85%) 0.0055\n",
      "0m 19s (1749 87%) 0.0054\n",
      "0m 19s (1782 89%) 0.0053\n",
      "0m 20s (1815 90%) 0.0053\n",
      "0m 20s (1848 92%) 0.0054\n",
      "0m 21s (1881 94%) 0.0054\n",
      "0m 21s (1914 95%) 0.0051\n",
      "0m 21s (1947 97%) 0.0053\n",
      "0m 22s (1980 99%) 0.0055\n"
     ]
    }
   ],
   "source": [
    "N_EPOCHS = 5 \n",
    "total_loss = 0\n",
    "print_every = 5000 // BATCH_SIZE\n",
    "plot_every = 500 // BATCH_SIZE\n",
    "all_losses = []\n",
    "iter = 1\n",
    "\n",
    "start = time.time()\n",
    "\n",
    "for e in range(N_EPOCHS):\n",
    "    for i_batch, batch in enumerate(trainloader):\n",
    "        image = batch[0]\n",
    "        label = batch[1]\n",
    "        image = Variable(image.view(-1, 1, 28*28))\n",
    "        \n",
    "        sae.zero_grad()\n",
    "        output, coding = sae(image)\n",
    "        loss = criterion(output, image)\n",
    "        loss.backward()\n",
    "        optimizer.step()\n",
    "        \n",
    "        total_loss += loss.data\n",
    "        \n",
    "        if iter % print_every == 0:\n",
    "            print('%s (%d %d%%) %.4f' % (timeSince(start), iter, iter / (len(trainloader) * N_EPOCHS) * 100, loss))\n",
    "\n",
    "        if iter % plot_every == 0:\n",
    "            all_losses.append(total_loss / plot_every)\n",
    "            total_loss = 0\n",
    "        \n",
    "        iter = iter + 1"
   ]
  },
  {
   "cell_type": "code",
   "execution_count": 8,
   "metadata": {},
   "outputs": [
    {
     "data": {
      "text/plain": [
       "[<matplotlib.lines.Line2D at 0x7f103f2beb70>]"
      ]
     },
     "execution_count": 8,
     "metadata": {},
     "output_type": "execute_result"
    },
    {
     "data": {
      "image/png": "[encoded data removed]",
      "text/plain": [
       "<matplotlib.figure.Figure at 0x7f103f379f60>"
      ]
     },
     "metadata": {},
     "output_type": "display_data"
    }
   ],
   "source": [
    "plt.plot(all_losses)"
   ]
  }
 ],
 "metadata": {
  "kernelspec": {
   "display_name": "Python 3",
   "language": "python",
   "name": "python3"
  },
  "language_info": {
   "codemirror_mode": {
    "name": "ipython",
    "version": 3
   },
   "file_extension": ".py",
   "mimetype": "text/x-python",
   "name": "python",
   "nbconvert_exporter": "python",
   "pygments_lexer": "ipython3",
   "version": "3.6.1"
  }
 },
 "nbformat": 4,
 "nbformat_minor": 2
}
