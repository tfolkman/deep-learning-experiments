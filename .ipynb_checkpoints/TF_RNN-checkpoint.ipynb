{
 "cells": [
  {
   "cell_type": "code",
   "execution_count": 64,
   "metadata": {
    "collapsed": true
   },
   "outputs": [],
   "source": [
    "import tensorflow as tf\n",
    "import numpy as np\n",
    "import pandas as pd\n",
    "import matplotlib.pyplot as plt"
   ]
  },
  {
   "cell_type": "code",
   "execution_count": 2,
   "metadata": {
    "collapsed": true
   },
   "outputs": [],
   "source": [
    "n_inputs = 3\n",
    "n_neurons = 5 "
   ]
  },
  {
   "cell_type": "code",
   "execution_count": null,
   "metadata": {
    "collapsed": true
   },
   "outputs": [],
   "source": [
    "X0 = tf.placeholder(tf.float32, [None, n_inputs])\n",
    "X1 = tf.placeholder(tf.float32, [None, n_inputs])\n",
    "\n",
    "Wx = tf.get_variable(\"Wx\", shape=[n_inputs, n_neurons],\n",
    "           initializer=tf.contrib.layers.xavier_initializer())\n",
    "Wh = tf.get_variable(\"Wh\", shape=[n_neurons, n_neurons],\n",
    "           initializer=tf.contrib.layers.xavier_initializer())\n",
    "b = tf.Variable(tf.zeros([1, n_neurons]), dtype=tf.float32)\n",
    "\n",
    "H0 = tf.tanh(tf.matmul(X0, Wx) + b)\n",
    "H1 = tf.tanh(tf.matmul(H0, Wh) + tf.matmul(X1, Wx) + b)\n",
    "\n",
    "init = tf.global_variables_initializer()"
   ]
  },
  {
   "cell_type": "code",
   "execution_count": null,
   "metadata": {
    "collapsed": true
   },
   "outputs": [],
   "source": [
    "X0_batch = np.array([[0,1,2], [3,4,5], [6,7,8], [9,1,0]])\n",
    "X1_batch = np.array([[9,8,7], [0,0,0], [6,5,4], [3,2,1]])"
   ]
  },
  {
   "cell_type": "code",
   "execution_count": null,
   "metadata": {
    "collapsed": true
   },
   "outputs": [],
   "source": [
    "with tf.Session() as sess:\n",
    "    init.run()\n",
    "    Y0_val, Y1_val = sess.run([H0,H1], feed_dict={X0: X0_batch, X1: X1_batch})"
   ]
  },
  {
   "cell_type": "code",
   "execution_count": null,
   "metadata": {
    "collapsed": true
   },
   "outputs": [],
   "source": [
    "Y0_val"
   ]
  },
  {
   "cell_type": "markdown",
   "metadata": {},
   "source": [
    "## Dynamic RNN"
   ]
  },
  {
   "cell_type": "code",
   "execution_count": null,
   "metadata": {
    "collapsed": true
   },
   "outputs": [],
   "source": [
    "n_steps = 2"
   ]
  },
  {
   "cell_type": "code",
   "execution_count": null,
   "metadata": {
    "collapsed": true
   },
   "outputs": [],
   "source": [
    "X = tf.placeholder(tf.float32, [None, n_steps, n_inputs])\n",
    "\n",
    "basic_cell = tf.contrib.rnn.BasicRNNCell(num_units=n_neurons)\n",
    "outputs, states = tf.nn.dynamic_rnn(basic_cell, X, dtype=tf.float32)"
   ]
  },
  {
   "cell_type": "code",
   "execution_count": null,
   "metadata": {
    "collapsed": true
   },
   "outputs": [],
   "source": [
    "X_batch = np.array([[[0,1,2], [9,8,7]], [[3,4,5], [0,0,0]], \n",
    "                    [[6,7,8], [6,5,4]], [[9,1,0], [3,2,1]]])"
   ]
  },
  {
   "cell_type": "code",
   "execution_count": null,
   "metadata": {
    "collapsed": true
   },
   "outputs": [],
   "source": [
    "init = tf.global_variables_initializer()"
   ]
  },
  {
   "cell_type": "code",
   "execution_count": null,
   "metadata": {
    "collapsed": true
   },
   "outputs": [],
   "source": [
    "with tf.Session() as sess:\n",
    "    init.run()\n",
    "    outputs_val = outputs.eval(feed_dict={X: X_batch})"
   ]
  },
  {
   "cell_type": "code",
   "execution_count": null,
   "metadata": {
    "collapsed": true
   },
   "outputs": [],
   "source": [
    "outputs_val"
   ]
  },
  {
   "cell_type": "markdown",
   "metadata": {},
   "source": [
    "## MINST - RNN"
   ]
  },
  {
   "cell_type": "code",
   "execution_count": null,
   "metadata": {
    "collapsed": true
   },
   "outputs": [],
   "source": [
    "n_neurons = 150\n",
    "n_steps = 28\n",
    "n_inputs = 28\n",
    "n_outputs = 10\n",
    "learning_rate = 0.001"
   ]
  },
  {
   "cell_type": "code",
   "execution_count": null,
   "metadata": {
    "collapsed": true
   },
   "outputs": [],
   "source": [
    "X = tf.placeholder(tf.float32, [None, n_steps, n_inputs])\n",
    "y = tf.placeholder(tf.int32, [None])\n",
    "\n",
    "basic_cell = tf.contrib.rnn.BasicRNNCell(num_units=n_neurons)\n",
    "outputs, states = tf.nn.dynamic_rnn(basic_cell, X, dtype=tf.float32)\n",
    "logits = tf.layers.dense(states, n_outputs)\n",
    "xentropy = tf.nn.sparse_softmax_cross_entropy_with_logits(labels = y, logits=logits)\n",
    "loss = tf.reduce_mean(xentropy)\n",
    "optimizer = tf.train.AdamOptimizer(learning_rate=learning_rate)\n",
    "train_op = optimizer.minimize(loss)\n",
    "correct = tf.nn.in_top_k(logits, y, 1)\n",
    "accuracy = tf.reduce_mean(tf.cast(correct, tf.float32))\n",
    "\n",
    "init = tf.global_variables_initializer()"
   ]
  },
  {
   "cell_type": "code",
   "execution_count": null,
   "metadata": {
    "collapsed": true
   },
   "outputs": [],
   "source": [
    "from tensorflow.examples.tutorials.mnist import input_data"
   ]
  },
  {
   "cell_type": "code",
   "execution_count": null,
   "metadata": {
    "collapsed": true
   },
   "outputs": [],
   "source": [
    "mnist = input_data.read_data_sets(\"/tmp/data/\")\n",
    "X_test = mnist.test.images.reshape((-1, n_steps, n_inputs))\n",
    "y_test = mnist.test.labels"
   ]
  },
  {
   "cell_type": "code",
   "execution_count": null,
   "metadata": {
    "collapsed": true
   },
   "outputs": [],
   "source": [
    "n_epochs = 100\n",
    "batch_size = 150"
   ]
  },
  {
   "cell_type": "code",
   "execution_count": null,
   "metadata": {
    "collapsed": true
   },
   "outputs": [],
   "source": [
    "with tf.Session() as sess:\n",
    "    init.run()\n",
    "    for epoch in range(n_epochs):\n",
    "        for iteration in range(mnist.train.num_examples // batch_size):\n",
    "            X_batch, y_batch = mnist.train.next_batch(batch_size)\n",
    "            X_batch = X_batch.reshape((-1, n_steps, n_inputs))\n",
    "            sess.run(train_op, feed_dict={X: X_batch, y: y_batch})\n",
    "        acc_train = accuracy.eval(feed_dict={X: X_batch, y: y_batch})\n",
    "        acc_test = accuracy.eval(feed_dict={X: X_test, y: y_test})\n",
    "        print(\"Epoch: {}, Train Acc: {}, Test Acc: {}\".format(epoch, acc_train, acc_test))"
   ]
  },
  {
   "cell_type": "markdown",
   "metadata": {},
   "source": [
    "## Time Series Prediction"
   ]
  },
  {
   "cell_type": "markdown",
   "metadata": {},
   "source": [
    "### Get Data"
   ]
  },
  {
   "cell_type": "code",
   "execution_count": 34,
   "metadata": {},
   "outputs": [],
   "source": [
    "import pandas_datareader as pdr\n",
    "import numpy as np\n",
    "%matplotlib inline"
   ]
  },
  {
   "cell_type": "code",
   "execution_count": 35,
   "metadata": {
    "collapsed": true
   },
   "outputs": [],
   "source": [
    "amz_data = pdr.get_data_google(\"amzn\")"
   ]
  },
  {
   "cell_type": "code",
   "execution_count": 36,
   "metadata": {},
   "outputs": [
    {
     "data": {
      "image/png": "[encoded data removed]",
      "text/plain": [
       "<matplotlib.figure.Figure at 0x121143cc0>"
      ]
     },
     "metadata": {},
     "output_type": "display_data"
    }
   ],
   "source": [
    "amz_data['Open'].plot()\n",
    "amzn_open = amz_data.Open.values"
   ]
  },
  {
   "cell_type": "code",
   "execution_count": 100,
   "metadata": {
    "collapsed": true
   },
   "outputs": [],
   "source": [
    "n_steps = 20\n",
    "n_inputs = 1\n",
    "n_neurons = 100\n",
    "n_outputs = 1\n",
    "learning_rate = 0.001"
   ]
  },
  {
   "cell_type": "code",
   "execution_count": 101,
   "metadata": {},
   "outputs": [
    {
     "data": {
      "text/plain": [
       "array([ 136.25,  133.43,  134.6 ,  132.01,  130.56,  132.62,  128.99,\n",
       "        127.9 ])"
      ]
     },
     "execution_count": 101,
     "metadata": {},
     "output_type": "execute_result"
    }
   ],
   "source": [
    "amzn_open[:8]"
   ]
  },
  {
   "cell_type": "code",
   "execution_count": 102,
   "metadata": {
    "collapsed": true
   },
   "outputs": [],
   "source": [
    "dataX, dataY = [], []\n",
    "for i in range(len(amzn_open)-n_steps-1):\n",
    "    a = amzn_open[i:(i+n_steps)]\n",
    "    dataX.append(a)\n",
    "    dataY.append(amzn_open[i+1:(i+n_steps+1)])\n",
    "dataX = np.array(dataX)\n",
    "dataY = np.array(dataY)"
   ]
  },
  {
   "cell_type": "code",
   "execution_count": 103,
   "metadata": {
    "collapsed": true
   },
   "outputs": [],
   "source": [
    "tf.reset_default_graph()\n",
    "X = tf.placeholder(tf.float32, [None, n_steps, n_inputs])\n",
    "y = tf.placeholder(tf.float32, [None, n_steps, n_outputs])\n",
    "\n",
    "cell = tf.contrib.rnn.BasicRNNCell(num_units=n_neurons, activation=tf.nn.relu)\n",
    "rnn_outputs, states = tf.nn.dynamic_rnn(cell, X, dtype=tf.float32)\n",
    "\n",
    "stacked_rnn_outputs = tf.reshape(rnn_outputs, [-1, n_neurons])\n",
    "stacked_outputs = tf.layers.dense(stacked_rnn_outputs, n_outputs)\n",
    "outputs = tf.reshape(stacked_outputs, [-1, n_steps, n_outputs])\n",
    "\n",
    "loss = tf.reduce_mean(tf.square(outputs - y))\n",
    "optimizer = tf.train.AdamOptimizer(learning_rate=learning_rate)\n",
    "training_op = optimizer.minimize(loss)\n",
    "\n",
    "init = tf.global_variables_initializer()"
   ]
  },
  {
   "cell_type": "code",
   "execution_count": 104,
   "metadata": {},
   "outputs": [
    {
     "name": "stdout",
     "output_type": "stream",
     "text": [
      "0 \tMSE: 34514.5\n",
      "100 \tMSE: 1695.31\n",
      "200 \tMSE: 362.534\n",
      "300 \tMSE: 45.0658\n",
      "400 \tMSE: 81.3433\n",
      "500 \tMSE: 22.0027\n",
      "600 \tMSE: 50.1151\n",
      "700 \tMSE: 19.4878\n",
      "800 \tMSE: 10.6756\n",
      "900 \tMSE: 265.523\n",
      "1000 \tMSE: 9.44692\n",
      "1100 \tMSE: 30.1498\n",
      "1200 \tMSE: 149.002\n",
      "1300 \tMSE: 19.0225\n",
      "1400 \tMSE: 67.9368\n",
      "1500 \tMSE: 93.441\n",
      "1600 \tMSE: 75.9252\n",
      "1700 \tMSE: 34.3027\n",
      "1800 \tMSE: 18.9873\n",
      "1900 \tMSE: 10.1605\n",
      "2000 \tMSE: 34.7335\n",
      "2100 \tMSE: 113.906\n",
      "2200 \tMSE: 45.6224\n",
      "2300 \tMSE: 11.7076\n",
      "2400 \tMSE: 19.3606\n",
      "2500 \tMSE: 116.251\n",
      "2600 \tMSE: 9.08761\n",
      "2700 \tMSE: 20.3398\n",
      "2800 \tMSE: 165.181\n",
      "2900 \tMSE: 53.9104\n",
      "3000 \tMSE: 13.005\n",
      "3100 \tMSE: 81.4055\n",
      "3200 \tMSE: 11.0433\n",
      "3300 \tMSE: 27.59\n",
      "3400 \tMSE: 31.405\n"
     ]
    }
   ],
   "source": [
    "n_iterations = 3500\n",
    "batch_size = 50\n",
    "saver = tf.train.Saver()\n",
    "\n",
    "with tf.Session() as sess:\n",
    "    init.run()\n",
    "    for i, iteration in enumerate(range(n_iterations)):\n",
    "        i_rnd = np.random.randint(0, len(amzn_open)-n_steps-1)\n",
    "        batch_index = (i_rnd * batch_size) % (len(dataX) - batch_size)\n",
    "        X_batch = dataX[batch_index:batch_index+batch_size].reshape(batch_size, n_steps, n_inputs)\n",
    "        y_batch = dataY[batch_index:batch_index+batch_size].reshape(batch_size, n_steps, n_outputs)\n",
    "        sess.run(training_op, feed_dict={X: X_batch, y: y_batch})\n",
    "        if iteration % 100 == 0:\n",
    "            mse = loss.eval(feed_dict={X: X_batch, y: y_batch})\n",
    "            print(iteration, \"\\tMSE:\", mse)\n",
    "    saver.save(sess, \"./amzn_model\")"
   ]
  },
  {
   "cell_type": "code",
   "execution_count": 105,
   "metadata": {},
   "outputs": [
    {
     "name": "stdout",
     "output_type": "stream",
     "text": [
      "INFO:tensorflow:Restoring parameters from ./amzn_model\n"
     ]
    }
   ],
   "source": [
    "with tf.Session() as sess:                          # not shown in the book\n",
    "    saver.restore(sess, \"./amzn_model\")   # not shown\n",
    "\n",
    "    batch_index = 0\n",
    "    batch_size = 1\n",
    "    sequence = list(dataX[batch_index:batch_index+batch_size].reshape(-1))\n",
    "    for iteration in range(1000):\n",
    "        X_batch = np.array(sequence[-n_steps:]).reshape(1, n_steps, 1)\n",
    "        y_pred = sess.run(outputs, feed_dict={X: X_batch})\n",
    "        sequence.append(y_pred[0, -1, 0])\n",
    "    #y_pred = sess.run(outputs, feed_dict={X: X_new})"
   ]
  },
  {
   "cell_type": "code",
   "execution_count": 106,
   "metadata": {},
   "outputs": [
    {
     "data": {
      "text/plain": [
       "<matplotlib.axes._subplots.AxesSubplot at 0x1242a5908>"
      ]
     },
     "execution_count": 106,
     "metadata": {},
     "output_type": "execute_result"
    },
    {
     "data": {
      "image/png": "[encoded data removed]",
      "text/plain": [
       "<matplotlib.figure.Figure at 0x1241eb1d0>"
      ]
     },
     "metadata": {},
     "output_type": "display_data"
    }
   ],
   "source": [
    "pd.Series(sequence).plot()\n",
    "pd.Series(amz_data['Open'].values).plot()"
   ]
  },
  {
   "cell_type": "code",
   "execution_count": 80,
   "metadata": {},
   "outputs": [
    {
     "data": {
      "text/plain": [
       "[<matplotlib.lines.Line2D at 0x1235c92b0>]"
      ]
     },
     "execution_count": 80,
     "metadata": {},
     "output_type": "execute_result"
    },
    {
     "data": {
      "image/png": "[encoded data removed]",
      "text/plain": [
       "<matplotlib.figure.Figure at 0x1235c9320>"
      ]
     },
     "metadata": {},
     "output_type": "display_data"
    }
   ],
   "source": [
    "plt.plot(list(range(len(X_new.reshape(-1)))), X_new.reshape(-1))\n",
    "plt.plot(list(range(1, len(y_pred.reshape(-1))+1)), y_pred.reshape(-1))"
   ]
  },
  {
   "cell_type": "code",
   "execution_count": 66,
   "metadata": {},
   "outputs": [
    {
     "data": {
      "text/plain": [
       "range(1, 5)"
      ]
     },
     "execution_count": 66,
     "metadata": {},
     "output_type": "execute_result"
    }
   ],
   "source": [
    "range(1,5)"
   ]
  },
  {
   "cell_type": "code",
   "execution_count": 62,
   "metadata": {},
   "outputs": [
    {
     "data": {
      "text/plain": [
       "<matplotlib.axes._subplots.AxesSubplot at 0x12285bd68>"
      ]
     },
     "execution_count": 62,
     "metadata": {},
     "output_type": "execute_result"
    },
    {
     "data": {
      "image/png": "[encoded data removed]",
      "text/plain": [
       "<matplotlib.figure.Figure at 0x1065b82e8>"
      ]
     },
     "metadata": {},
     "output_type": "display_data"
    }
   ],
   "source": [
    "pd.Series(y_pred.reshape(-1)).plot()"
   ]
  },
  {
   "cell_type": "code",
   "execution_count": 30,
   "metadata": {},
   "outputs": [
    {
     "data": {
      "text/plain": [
       "array([[ 2.77966324],\n",
       "       [ 2.12521634],\n",
       "       [ 1.90594672],\n",
       "       [ 2.11244257],\n",
       "       [ 2.62114088],\n",
       "       [ 3.2251938 ],\n",
       "       [ 3.68583005],\n",
       "       [ 3.79163003],\n",
       "       [ 3.41119489],\n",
       "       [ 2.52630612],\n",
       "       [ 1.23744768],\n",
       "       [-0.25967134],\n",
       "       [-1.72085633],\n",
       "       [-2.91199718],\n",
       "       [-3.66514077],\n",
       "       [-3.91835   ],\n",
       "       [-3.72960335],\n",
       "       [-3.26134497],\n",
       "       [-2.73948091],\n",
       "       [-2.39687393]])"
      ]
     },
     "execution_count": 30,
     "metadata": {},
     "output_type": "execute_result"
    }
   ],
   "source": [
    "x[0]"
   ]
  },
  {
   "cell_type": "code",
   "execution_count": 31,
   "metadata": {},
   "outputs": [
    {
     "data": {
      "text/plain": [
       "array([[ 2.12521634],\n",
       "       [ 1.90594672],\n",
       "       [ 2.11244257],\n",
       "       [ 2.62114088],\n",
       "       [ 3.2251938 ],\n",
       "       [ 3.68583005],\n",
       "       [ 3.79163003],\n",
       "       [ 3.41119489],\n",
       "       [ 2.52630612],\n",
       "       [ 1.23744768],\n",
       "       [-0.25967134],\n",
       "       [-1.72085633],\n",
       "       [-2.91199718],\n",
       "       [-3.66514077],\n",
       "       [-3.91835   ],\n",
       "       [-3.72960335],\n",
       "       [-3.26134497],\n",
       "       [-2.73948091],\n",
       "       [-2.39687393],\n",
       "       [-2.41518379]])"
      ]
     },
     "execution_count": 31,
     "metadata": {},
     "output_type": "execute_result"
    }
   ],
   "source": [
    "y[0]"
   ]
  },
  {
   "cell_type": "code",
   "execution_count": 24,
   "metadata": {
    "collapsed": true
   },
   "outputs": [],
   "source": [
    "batch_size = 50\n",
    "t0 = np.random.rand(batch_size, 1) * (t_max - t_min - n_steps * resolution)\n"
   ]
  },
  {
   "cell_type": "code",
   "execution_count": 27,
   "metadata": {},
   "outputs": [],
   "source": [
    "t0.shape\n",
    "Ts = t0 + np.arange(0., n_steps + 1) * resolution"
   ]
  },
  {
   "cell_type": "code",
   "execution_count": 28,
   "metadata": {},
   "outputs": [
    {
     "data": {
      "text/plain": [
       "(50, 8)"
      ]
     },
     "execution_count": 28,
     "metadata": {},
     "output_type": "execute_result"
    }
   ],
   "source": [
    "Ts.shape"
   ]
  },
  {
   "cell_type": "code",
   "execution_count": 29,
   "metadata": {},
   "outputs": [
    {
     "data": {
      "text/plain": [
       "array([[ 11.21100924],\n",
       "       [ 15.13235434],\n",
       "       [ 10.89607364],\n",
       "       [ 16.59349216],\n",
       "       [ 29.24628296],\n",
       "       [  6.84216359],\n",
       "       [ 15.97125274],\n",
       "       [ 15.31758617],\n",
       "       [  5.28069451],\n",
       "       [ 10.87576009],\n",
       "       [ 18.11802786],\n",
       "       [ 14.00406812],\n",
       "       [ 13.21146412],\n",
       "       [ 17.50119306],\n",
       "       [  7.592984  ],\n",
       "       [ 21.57607853],\n",
       "       [  6.4728326 ],\n",
       "       [ 18.80231538],\n",
       "       [ 17.62164751],\n",
       "       [ 28.63171505],\n",
       "       [  3.33553809],\n",
       "       [ 22.06359098],\n",
       "       [ 14.64997688],\n",
       "       [  7.65508144],\n",
       "       [ 21.78430452],\n",
       "       [  2.99640317],\n",
       "       [  2.29251142],\n",
       "       [ 15.04487919],\n",
       "       [  6.0442112 ],\n",
       "       [ 10.33563539],\n",
       "       [  3.74072398],\n",
       "       [ 15.09901731],\n",
       "       [ 12.96042361],\n",
       "       [  5.92586558],\n",
       "       [  9.45294839],\n",
       "       [ 27.37287235],\n",
       "       [ 17.24393291],\n",
       "       [  9.09707113],\n",
       "       [ 23.97008105],\n",
       "       [ 14.98076684],\n",
       "       [ 29.00024309],\n",
       "       [ 27.72145052],\n",
       "       [  7.47561264],\n",
       "       [ 21.05816881],\n",
       "       [ 20.75763239],\n",
       "       [  6.11967052],\n",
       "       [ 15.0365284 ],\n",
       "       [ 23.01978892],\n",
       "       [ 11.14522541],\n",
       "       [ 25.2516107 ]])"
      ]
     },
     "execution_count": 29,
     "metadata": {},
     "output_type": "execute_result"
    }
   ],
   "source": [
    "t0"
   ]
  },
  {
   "cell_type": "code",
   "execution_count": null,
   "metadata": {
    "collapsed": true
   },
   "outputs": [],
   "source": []
  }
 ],
 "metadata": {
  "kernelspec": {
   "display_name": "Python 3",
   "language": "python",
   "name": "python3"
  },
  "language_info": {
   "codemirror_mode": {
    "name": "ipython",
    "version": 3
   },
   "file_extension": ".py",
   "mimetype": "text/x-python",
   "name": "python",
   "nbconvert_exporter": "python",
   "pygments_lexer": "ipython3",
   "version": "3.6.1"
  }
 },
 "nbformat": 4,
 "nbformat_minor": 2
}
