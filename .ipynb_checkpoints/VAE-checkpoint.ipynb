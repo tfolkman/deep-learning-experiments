{
 "cells": [
  {
   "cell_type": "code",
   "execution_count": 1,
   "metadata": {},
   "outputs": [],
   "source": [
    "%matplotlib inline\n",
    "\n",
    "import torch\n",
    "\n",
    "from torch.autograd import Variable\n",
    "from torch.nn.init import xavier_normal\n",
    "\n",
    "import torch.nn as nn\n",
    "import torch.nn.functional as F\n",
    "\n",
    "import torch.optim as optim\n",
    "\n",
    "import torchvision\n",
    "import torchvision.transforms as transforms\n",
    "\n",
    "import matplotlib.pyplot as plt\n",
    "import numpy as np\n",
    "import time\n",
    "import math"
   ]
  },
  {
   "cell_type": "code",
   "execution_count": 2,
   "metadata": {},
   "outputs": [],
   "source": [
    "BATCH_SIZE = 128\n",
    "\n",
    "transform = transforms.ToTensor()\n",
    "\n",
    "# Load and transform data\n",
    "trainset = torchvision.datasets.MNIST('/tmp', train=True, download=True, transform=transform)\n",
    "trainloader = torch.utils.data.DataLoader(trainset, batch_size=BATCH_SIZE,\n",
    "                                          shuffle=True, num_workers=2)\n",
    "\n",
    "testset = torchvision.datasets.MNIST('/tmp', train=False, download=True, transform=transform)\n",
    "testloader = torch.utils.data.DataLoader(testset, batch_size=BATCH_SIZE,\n",
    "                                         shuffle=False, num_workers=2)"
   ]
  },
  {
   "cell_type": "code",
   "execution_count": 3,
   "metadata": {},
   "outputs": [],
   "source": [
    "class VAE(nn.Module):\n",
    "    def __init__(self, input_size, hidden_size=500, coding_size=20):\n",
    "        super(VAE, self).__init__()\n",
    "        self.hidden1 = nn.Linear(input_size, hidden_size)\n",
    "        self.hidden2_mean = nn.Linear(hidden_size, coding_size)\n",
    "        self.hidden2_gamma = nn.Linear(hidden_size, coding_size)\n",
    "        self.hidden3 = nn.Linear(coding_size, hidden_size)\n",
    "        self.output = nn.Linear(hidden_size, input_size)\n",
    "        self.sigmoid = nn.Sigmoid()\n",
    "        self.relu = nn.ReLU()\n",
    "        \n",
    "    def encoder(self, x):\n",
    "        hidden1_output = self.relu(self.hidden1(x))\n",
    "        return self.hidden2_mean(hidden1_output), self.hidden2_gamma(hidden1_output)\n",
    "\n",
    "    def reparameterize(self, mu, logvar):\n",
    "        if self.training:\n",
    "            noise = Variable(logvar.data.new(logvar.size()).normal_())\n",
    "            return mu + torch.exp(0.5 * logvar) * noise\n",
    "        else:\n",
    "            return mu\n",
    "    \n",
    "    def decoder(self, x):\n",
    "        output_value = self.relu(self.hidden3(x))\n",
    "        output_value = self.output(output_value)\n",
    "        return output_value, self.sigmoid(output_value)\n",
    "            \n",
    "    def forward(self, x):\n",
    "        mean, gamma = self.encoder(x)\n",
    "        z = self.reparameterize(mean, gamma)\n",
    "        output, output_sigmoid = self.decoder(z)\n",
    "        return output, output_sigmoid, mean, gamma"
   ]
  },
  {
   "cell_type": "code",
   "execution_count": 4,
   "metadata": {},
   "outputs": [],
   "source": [
    "vae = VAE(input_size=28*28)"
   ]
  },
  {
   "cell_type": "code",
   "execution_count": 5,
   "metadata": {},
   "outputs": [],
   "source": [
    "def custom_loss(recon_x, x, mu, logvar):\n",
    "    ce_loss = F.binary_cross_entropy_with_logits(recon_x, x,\n",
    "                                                size_average=False)\n",
    "    latent_loss = 0.5 * torch.sum(torch.exp(logvar) + mu.pow(2) - 1 - logvar)\n",
    "    return ce_loss + latent_loss\n",
    "\n",
    "optimizer = optim.Adam(vae.parameters(), lr=1e-3)"
   ]
  },
  {
   "cell_type": "code",
   "execution_count": 6,
   "metadata": {},
   "outputs": [],
   "source": [
    "def timeSince(since):\n",
    "    now = time.time()\n",
    "    s = now - since\n",
    "    m = math.floor(s / 60)\n",
    "    s -= m * 60\n",
    "    return '%dm %ds' % (m, s)"
   ]
  },
  {
   "cell_type": "code",
   "execution_count": 41,
   "metadata": {},
   "outputs": [
    {
     "name": "stdout",
     "output_type": "stream",
     "text": [
      "0m 16s (546 1%) 12636.4326\n",
      "0m 35s (1092 2%) 13193.9141\n",
      "0m 53s (1638 3%) 12776.1416\n",
      "1m 12s (2184 4%) 12651.4961\n",
      "1m 31s (2730 5%) 12730.7471\n",
      "1m 49s (3276 6%) 12981.0322\n",
      "2m 8s (3822 8%) 12672.7051\n",
      "2m 26s (4368 9%) 12500.4512\n",
      "2m 45s (4914 10%) 12208.4082\n",
      "3m 4s (5460 11%) 12764.8369\n",
      "3m 22s (6006 12%) 12972.2920\n",
      "3m 41s (6552 13%) 12322.8955\n",
      "4m 0s (7098 15%) 12672.5049\n",
      "4m 18s (7644 16%) 12874.8828\n",
      "4m 37s (8190 17%) 12554.6738\n",
      "4m 56s (8736 18%) 12816.2793\n",
      "5m 15s (9282 19%) 12842.8545\n",
      "5m 34s (9828 20%) 12393.1621\n",
      "5m 52s (10374 22%) 12635.1514\n",
      "6m 11s (10920 23%) 12685.7588\n",
      "6m 30s (11466 24%) 12405.2959\n",
      "6m 49s (12012 25%) 13202.8486\n",
      "7m 8s (12558 26%) 12351.6152\n",
      "7m 27s (13104 27%) 13038.8633\n",
      "7m 46s (13650 29%) 12547.7539\n",
      "8m 5s (14196 30%) 12741.3809\n",
      "8m 24s (14742 31%) 12773.6992\n",
      "8m 42s (15288 32%) 12515.4971\n",
      "9m 1s (15834 33%) 13017.8926\n",
      "9m 20s (16380 34%) 12884.1084\n",
      "9m 39s (16926 36%) 12404.4473\n",
      "9m 58s (17472 37%) 12743.9873\n",
      "10m 17s (18018 38%) 13111.2822\n",
      "10m 36s (18564 39%) 12622.3857\n",
      "10m 54s (19110 40%) 13101.3721\n",
      "11m 13s (19656 41%) 12587.4883\n",
      "11m 32s (20202 43%) 13079.0996\n",
      "11m 51s (20748 44%) 12971.3574\n",
      "12m 10s (21294 45%) 12510.1406\n",
      "12m 29s (21840 46%) 12807.4180\n",
      "12m 48s (22386 47%) 12681.4160\n",
      "13m 7s (22932 48%) 12265.5391\n",
      "13m 26s (23478 50%) 12929.4531\n",
      "13m 44s (24024 51%) 12825.2207\n",
      "14m 3s (24570 52%) 12605.3809\n",
      "14m 22s (25116 53%) 12205.5479\n",
      "14m 41s (25662 54%) 12608.1221\n",
      "15m 1s (26208 55%) 12698.1895\n",
      "15m 20s (26754 57%) 12719.3232\n",
      "15m 39s (27300 58%) 12462.9141\n",
      "15m 58s (27846 59%) 12535.9346\n",
      "16m 18s (28392 60%) 12615.8281\n",
      "16m 37s (28938 61%) 12857.8994\n",
      "16m 56s (29484 62%) 12831.2373\n",
      "17m 16s (30030 64%) 12417.2422\n",
      "17m 36s (30576 65%) 12304.7598\n",
      "17m 55s (31122 66%) 12688.2051\n",
      "18m 16s (31668 67%) 12958.5078\n",
      "18m 36s (32214 68%) 12086.6895\n",
      "18m 56s (32760 69%) 12843.3516\n",
      "32m 19s (33306 71%) 12711.2900\n",
      "32m 38s (33852 72%) 12924.2871\n",
      "33m 0s (34398 73%) 12403.4697\n",
      "33m 21s (34944 74%) 12478.2871\n",
      "33m 42s (35490 75%) 12599.7422\n",
      "34m 3s (36036 76%) 12672.4199\n",
      "34m 24s (36582 78%) 9542.7051\n",
      "34m 46s (37128 79%) 12699.1270\n",
      "35m 7s (37674 80%) 12772.8945\n",
      "35m 29s (38220 81%) 12680.6523\n",
      "35m 50s (38766 82%) 12848.0684\n",
      "36m 13s (39312 83%) 12745.9590\n",
      "36m 35s (39858 84%) 13023.3789\n",
      "36m 57s (40404 86%) 12475.5938\n",
      "37m 20s (40950 87%) 12634.3623\n",
      "37m 42s (41496 88%) 12169.7832\n",
      "38m 6s (42042 89%) 12372.3066\n",
      "38m 28s (42588 90%) 12714.5566\n",
      "38m 51s (43134 91%) 12461.7559\n",
      "39m 14s (43680 93%) 12555.5459\n",
      "39m 37s (44226 94%) 12720.0547\n",
      "39m 59s (44772 95%) 12370.9893\n",
      "40m 22s (45318 96%) 12183.0615\n",
      "40m 44s (45864 97%) 12662.2139\n",
      "41m 7s (46410 98%) 12419.7383\n"
     ]
    }
   ],
   "source": [
    "N_EPOCHS = 100\n",
    "total_loss = 0\n",
    "print_every = 70000 // BATCH_SIZE\n",
    "plot_every = 7000 // BATCH_SIZE\n",
    "all_losses = []\n",
    "iter = 1\n",
    "\n",
    "start = time.time()\n",
    "vae.train()\n",
    "\n",
    "for e in range(N_EPOCHS):\n",
    "    for i_batch, batch in enumerate(trainloader):\n",
    "        image = batch[0]\n",
    "        label = batch[1]\n",
    "        image = Variable(image.view(-1, 1, 28*28))\n",
    "        \n",
    "        vae.zero_grad()\n",
    "        output, output_sigmoid, mean, gamma = vae(image)\n",
    "        loss = custom_loss(output, image, mean, gamma)\n",
    "        loss.backward()\n",
    "        optimizer.step()\n",
    "        \n",
    "        total_loss += loss.data\n",
    "        \n",
    "        if iter % print_every == 0:\n",
    "            print('%s (%d %d%%) %.4f' % (timeSince(start), iter, iter / (len(trainloader) * N_EPOCHS) * 100, loss))\n",
    "\n",
    "        if iter % plot_every == 0:\n",
    "            all_losses.append(total_loss / (plot_every*BATCH_SIZE))\n",
    "            total_loss = 0\n",
    "        \n",
    "        iter = iter + 1"
   ]
  },
  {
   "cell_type": "code",
   "execution_count": 42,
   "metadata": {},
   "outputs": [
    {
     "data": {
      "text/plain": [
       "[<matplotlib.lines.Line2D at 0x12100c898>]"
      ]
     },
     "execution_count": 42,
     "metadata": {},
     "output_type": "execute_result"
    },
    {
     "data": {
      "image/png": "[encoded data removed]",
      "text/plain": [
       "<Figure size 600x400 with 1 Axes>"
      ]
     },
     "metadata": {},
     "output_type": "display_data"
    }
   ],
   "source": [
    "plt.plot(all_losses)"
   ]
  },
  {
   "cell_type": "markdown",
   "metadata": {},
   "source": [
    "## Visualizing Features"
   ]
  },
  {
   "cell_type": "code",
   "execution_count": 43,
   "metadata": {},
   "outputs": [],
   "source": [
    "hidden1_weights = vae.hidden1.weight.data.cpu().numpy()"
   ]
  },
  {
   "cell_type": "code",
   "execution_count": 44,
   "metadata": {},
   "outputs": [
    {
     "data": {
      "text/plain": [
       "<matplotlib.image.AxesImage at 0x124c97b00>"
      ]
     },
     "execution_count": 44,
     "metadata": {},
     "output_type": "execute_result"
    },
    {
     "data": {
      "image/png": "[encoded data removed]",
      "text/plain": [
       "<Figure size 600x400 with 1 Axes>"
      ]
     },
     "metadata": {},
     "output_type": "display_data"
    }
   ],
   "source": [
    "neuron = 0\n",
    "plt.imshow(hidden1_weights[neuron].reshape([28,28]),\n",
    "           cmap='Greys')"
   ]
  },
  {
   "cell_type": "markdown",
   "metadata": {},
   "source": [
    "## Generating Images"
   ]
  },
  {
   "cell_type": "code",
   "execution_count": 45,
   "metadata": {},
   "outputs": [],
   "source": [
    "vae.eval()\n",
    "random = Variable(torch.randn(64, 20))\n",
    "_, sample = vae.decoder(random)"
   ]
  },
  {
   "cell_type": "code",
   "execution_count": 46,
   "metadata": {},
   "outputs": [
    {
     "data": {
      "text/plain": [
       "torch.Size([64, 784])"
      ]
     },
     "execution_count": 46,
     "metadata": {},
     "output_type": "execute_result"
    }
   ],
   "source": [
    "sample.size()"
   ]
  },
  {
   "cell_type": "code",
   "execution_count": 54,
   "metadata": {},
   "outputs": [
    {
     "data": {
      "text/plain": [
       "<matplotlib.image.AxesImage at 0x110e90898>"
      ]
     },
     "execution_count": 54,
     "metadata": {},
     "output_type": "execute_result"
    },
    {
     "data": {
      "image/png": "[encoded data removed]",
      "text/plain": [
       "<Figure size 600x400 with 1 Axes>"
      ]
     },
     "metadata": {},
     "output_type": "display_data"
    }
   ],
   "source": [
    "plt.imshow(sample[58].data.numpy().reshape(28,28),cmap=\"Greys\")"
   ]
  },
  {
   "cell_type": "code",
   "execution_count": null,
   "metadata": {},
   "outputs": [],
   "source": []
  }
 ],
 "metadata": {
  "kernelspec": {
   "display_name": "Python 3",
   "language": "python",
   "name": "python3"
  },
  "language_info": {
   "codemirror_mode": {
    "name": "ipython",
    "version": 3
   },
   "file_extension": ".py",
   "mimetype": "text/x-python",
   "name": "python",
   "nbconvert_exporter": "python",
   "pygments_lexer": "ipython3",
   "version": "3.5.3"
  }
 },
 "nbformat": 4,
 "nbformat_minor": 2
}
