{
 "cells": [
  {
   "cell_type": "markdown",
   "metadata": {},
   "source": [
    "https://bastings.github.io/annotated_encoder_decoder/?utm_campaign=NLP%20News&utm_medium=email&utm_source=Revue%20newsletter"
   ]
  },
  {
   "cell_type": "code",
   "execution_count": 1,
   "metadata": {},
   "outputs": [],
   "source": [
    "%matplotlib inline\n",
    "import numpy as np\n",
    "import torch\n",
    "import torch.nn as nn\n",
    "import torch.nn.functional as F\n",
    "import math, copy, time\n",
    "import matplotlib.pyplot as plt\n",
    "from torch.nn.utils.rnn import pack_padded_sequence, pad_packed_sequence\n",
    "from IPython.core.debugger import set_trace\n",
    "from torchtext import data, datasets\n",
    "import spacy"
   ]
  },
  {
   "cell_type": "code",
   "execution_count": 2,
   "metadata": {},
   "outputs": [
    {
     "name": "stdout",
     "output_type": "stream",
     "text": [
      "CUDA: False\n",
      "cuda:0\n"
     ]
    }
   ],
   "source": [
    "USE_CUDA = torch.cuda.is_available()\n",
    "DEVICE=torch.device('cuda:0') # or set to 'cpu'\n",
    "print(\"CUDA:\", USE_CUDA)\n",
    "print(DEVICE)\n",
    "\n",
    "seed = 42\n",
    "np.random.seed(seed)\n",
    "torch.manual_seed(seed)\n",
    "torch.cuda.manual_seed(seed)"
   ]
  },
  {
   "cell_type": "code",
   "execution_count": 3,
   "metadata": {},
   "outputs": [],
   "source": [
    "class EncoderDecoder(nn.Module):\n",
    "    \"\"\"\n",
    "    Standard Encoder-Decoder\n",
    "    \"\"\"\n",
    "    def __init__(self, encoder, decoder, src_embed, trg_embed, generator):\n",
    "        super(EncoderDecoder, self).__init__()\n",
    "        self.encoder = encoder\n",
    "        self.decoder = decoder\n",
    "        self.src_embed = src_embed\n",
    "        self.trg_embed = trg_embed\n",
    "        self.generator = generator\n",
    "        \n",
    "    def forward(self, src, trg, src_mask, trg_mask, src_lengths, trg_lengths):\n",
    "        encoder_hidden, encoder_final = self.encode(src, src_lengths)\n",
    "        return self.decode(encoder_hidden, encoder_final, src_mask, trg, trg_mask)\n",
    "    \n",
    "    def encode(self, src, src_lengths):\n",
    "        return self.encoder(self.src_embed(src), src_lengths)\n",
    "    \n",
    "    def decode(self, encoder_hidden, encoder_final, src_mask, trg, trg_mask,\n",
    "              decoder_hidden=None):\n",
    "        return self.decoder(self.trg_embed(trg), encoder_hidden, encoder_final,\n",
    "                           src_mask, trg_mask, hidden=decoder_hidden)\n",
    "    \n",
    "class Generator(nn.Module):\n",
    "    \"\"\"Define standard linear + softmax generation step\"\"\"\n",
    "    def __init__(self, hidden_size, vocab_size):\n",
    "        super(Generator, self).__init__()\n",
    "        self.proj = nn.Linear(hidden_size, vocab_size, bias=False)\n",
    "        \n",
    "    def forward(self, x):\n",
    "        return F.log_softmax(self.proj(x), -1)"
   ]
  },
  {
   "cell_type": "markdown",
   "metadata": {},
   "source": [
    "## Encoder\n",
    "\n",
    "Use bi-direction GRU\n",
    "\n",
    "For efficiency, we need to support mini-batches. Sentences may have different lengths, so unroll differently. \n",
    "\n",
    "pack_padded_sequence - Packs a Tensor containing padded sequences of variable length\n",
    "pad_packed_sequence - undoes the pack_padded_sequence"
   ]
  },
  {
   "cell_type": "code",
   "execution_count": 4,
   "metadata": {},
   "outputs": [],
   "source": [
    "class Encoder(nn.Module):\n",
    "    \"\"\"encodes a sequence of word embeddings\"\"\"\n",
    "    def __init__(self, input_size, hidden_size, num_layers=1, dropout=0.):\n",
    "        super(Encoder, self).__init__()\n",
    "        self.num_layers = num_layers\n",
    "        self.rnn = nn.GRU(input_size, hidden_size, num_layers,\n",
    "                         batch_first=True, bidirectional=True, dropout=dropout)\n",
    "        \n",
    "    def forward(self, x, lengths):\n",
    "        \"\"\"\n",
    "        Applies a bi-directional GRU to sequence of embeddings X\n",
    "        The input mini-batch x needs to be sorted by length\n",
    "        x should have dimensions [batch, seq_length, input_size]\n",
    "        \"\"\"\n",
    "        packed = pack_padded_sequence(x, lengths, batch_first=True)\n",
    "        # final shape: (num_layers * num_directions, batch, hidden_size)\n",
    "        # the first dimension will be a multiple of 2 when bi-directional\n",
    "        # for example, with num_layers = 2, then first dimension is 4\n",
    "        # the 0th and 2st rows and the final forwards and\n",
    "        # the 1st and 3rd rows the final backwards \n",
    "        hidden, final = self.rnn(packed)\n",
    "        # also returns the lengths\n",
    "        # shape of hidden: (batch, seq_length, num_directions*hidden size)\n",
    "        hidden, _ = pad_packed_sequence(hidden, batch_first=True)\n",
    "        \n",
    "        #get all final forwards\n",
    "        fwd_final = final[0:final.size(0):2]\n",
    "        #get all final backwards\n",
    "        bwd_final = final[1:final.size(0):2]\n",
    "        # shape of final: (num layers, batch, 2*hidden_size)\n",
    "        final = torch.cat([fwd_final, bwd_final], dim=2)\n",
    "        \n",
    "        return hidden, final"
   ]
  },
  {
   "cell_type": "markdown",
   "metadata": {},
   "source": [
    "## Decoder\n",
    "\n",
    "We will always use teacher forcing\n",
    "\n",
    "Encoder Final is the last hidden state used to initalize first hidden state of decoder"
   ]
  },
  {
   "cell_type": "code",
   "execution_count": 5,
   "metadata": {},
   "outputs": [],
   "source": [
    "class Decoder(nn.Module):\n",
    "    \"\"\"A conditional RNN decoder with attention.\"\"\"\n",
    "    \n",
    "    def __init__(self, emb_size, hidden_size, attention, num_layers=1, dropout=0.5,\n",
    "                 bridge=True):\n",
    "        super(Decoder, self).__init__()\n",
    "        self.hidden_size = hidden_size\n",
    "        self.num_layers = num_layers\n",
    "        self.attention = attention\n",
    "        self.dropout = dropout\n",
    "        \n",
    "        # will concat the previous word embedding with the context\n",
    "        # where the context is the weighted sum of the encoder hidden states\n",
    "        # which has a size of 2 * hidden\n",
    "        self.rnn = nn.GRU(emb_size + 2*hidden_size, hidden_size, num_layers,\n",
    "                         batch_first=True, dropout=dropout)\n",
    "        # to initalize from the final encoder state\n",
    "        # need to project because goes from bi-directional size to one direction\n",
    "        self.bridge = nn.Linear(2*hidden_size, hidden_size, bias=True) if bridge else None\n",
    "        self.dropout_layer = nn.Dropout(p=dropout)\n",
    "        self.pre_output_layer = nn.Linear(hidden_size + 2*hidden_size + emb_size,\n",
    "                                         hidden_size, bias=False)\n",
    "        \n",
    "    def forward_step(self, prev_embed, encoder_hidden, src_mask, proj_key, hidden):\n",
    "        \"\"\"Preform a single decoder step - 1 word\"\"\"\n",
    "        \n",
    "        # this is the hidden state for the decoder\n",
    "        query = hidden[-1].unsqueeze(1) # takes the last layer. shape: [batch, 1, hidden_dimension]\n",
    "        context, _ = self.attention(query=query, proj_key=proj_key,\n",
    "                                            value=encoder_hidden, mask=src_mask)\n",
    "        \n",
    "        # process the concat of the prev_embedding and the context (attention)\n",
    "        rnn_input = torch.cat([prev_embed, context], dim=2)\n",
    "        output, hidden = self.rnn(rnn_input, hidden)\n",
    "        \n",
    "        # use the prev_embed, output from GRU, and context to get final vector of hidden_size\n",
    "        # which will be used to generated probabilities across our vocabulary\n",
    "        pre_output = torch.cat([prev_embed, output, context], dim=2)\n",
    "        pre_output = self.dropout_layer(pre_output)\n",
    "        pre_output = self.pre_output_layer(pre_output)\n",
    "        \n",
    "        return output, hidden, pre_output\n",
    "    \n",
    "    def forward(self, trg_embed, encoder_hidden, encoder_final, src_mask, trg_mask,\n",
    "               hidden=None, max_len=None):\n",
    "        \"\"\"Unroll the encoder 1 step at a time\"\"\"\n",
    "        \n",
    "        if max_len is None:\n",
    "            max_len = trg_mask.size(-1)\n",
    "            \n",
    "        if hidden is None:\n",
    "            hidden = self.init_hidden(encoder_final)\n",
    "            \n",
    "        # pre-compute projected encoder hidden states\n",
    "        # (the \"keys\" for the attention mechanism)\n",
    "        # this is only done for efficiency\n",
    "        # projects them to hidden_dimension size\n",
    "        proj_key = self.attention.key_layer(encoder_hidden)\n",
    "        \n",
    "        decoder_states = []\n",
    "        pre_output_vectors = []\n",
    "    \n",
    "        \n",
    "        for i in range(max_len):\n",
    "            prev_embed = trg_embed[:, i].unsqueeze(1)\n",
    "            output, hidden, pre_output = self.forward_step(prev_embed,\n",
    "                                                          encoder_hidden,\n",
    "                                                          src_mask, proj_key, hidden)\n",
    "            decoder_states.append(output)\n",
    "            pre_output_vectors.append(pre_output)\n",
    "            \n",
    "        decoder_states = torch.cat(decoder_states, dim=1)\n",
    "        pre_output_vectors = torch.cat(pre_output_vectors, dim=1)\n",
    "        # all we really use are the pre_output_vectors\n",
    "        return decoder_states, hidden, pre_output_vectors # [B,N,D]\n",
    "\n",
    "    def init_hidden(self, encoder_final):\n",
    "        \"\"\"Returns the intial decoder state, conditioned on final encoder state\"\"\"\n",
    "        if encoder_final is None:\n",
    "            return None #start with zeros\n",
    "        else:\n",
    "            return torch.tanh(self.bridge(encoder_final))"
   ]
  },
  {
   "cell_type": "markdown",
   "metadata": {},
   "source": [
    "## Attention\n",
    "\n",
    "At every time step, decoder has **ALL** the source word hidden states. Attention allows it to learn which are the most relevant. \n",
    "\n",
    "The state of the decoder is represented by the hidden state.\n",
    "\n",
    "We will use an MLP-based, additive attention with tanh activation.\n",
    "\n",
    "**Decoder state:** is the query\n",
    "**The encoder states:** the key\n",
    "\n",
    "We add the query to all of the keys and pass them through a tanh function then project them to a single number (the **energy**).\n",
    "\n",
    "We then mask out invalid positions and apply softmax to get probability distribution across the words.\n",
    "\n",
    "We then take a weighted sum of the encoder hidden states, where the weights are the probabilities. This is the **context.**"
   ]
  },
  {
   "cell_type": "code",
   "execution_count": 6,
   "metadata": {},
   "outputs": [],
   "source": [
    "class BahdanauAttention(nn.Module):\n",
    "    \"\"\"Implements Bahdanau (MLP) attention\"\"\"\n",
    "    \n",
    "    def __init__(self, hidden_size, key_size=None, query_size=None):\n",
    "        super(BahdanauAttention, self).__init__()\n",
    "        \n",
    "        # assume bi-directional encoder \n",
    "        key_size = 2 * hidden_size if key_size is None else key_size\n",
    "        query_size = hidden_size if query_size is None else query_size\n",
    "        \n",
    "        self.key_layer = nn.Linear(key_size, hidden_size, bias=False)\n",
    "        self.query_layer = nn.Linear(query_size, hidden_size, bias=False)\n",
    "        self.energy_layer = nn.Linear(hidden_size, 1, bias=False)\n",
    "        \n",
    "        self.alphas = None\n",
    "        \n",
    "    def forward(self, query=None, proj_key=None, value=None, mask=None):\n",
    "        assert mask is not None, \"mask is required\"\n",
    "        \n",
    "        # project the query to hidden_size (this already done for keys)\n",
    "        query = self.query_layer(query)\n",
    "        \n",
    "        # Calculate energies\n",
    "        # pytorch broadcasts the query to all the keys with the addition\n",
    "        # shape batch x seq_length x 1\n",
    "        scores = self.energy_layer(torch.tanh(query + proj_key))\n",
    "        # batch x 1 x seq_length\n",
    "        scores = scores.squeeze(2).unsqueeze(1)\n",
    "        \n",
    "        # Mask out invalid positions.\n",
    "        # The mask marks valid positions so we invert it using `mask & 0`.\n",
    "        # the mask is broadcastable b/c it is of size seq_length\n",
    "        # see: https://pytorch.org/docs/stable/notes/broadcasting.html#broadcasting-semantics\n",
    "        # the softmax will set all negative inf values to zero\n",
    "        # thus wont be used in weighted value\n",
    "        # which is appropriate since they are padding values\n",
    "        scores.data.masked_fill_(mask == 0, -float('inf'))\n",
    "        \n",
    "        # turn scores into probabilities\n",
    "        alphas = F.softmax(scores, dim=-1)\n",
    "        self.alphas = alphas\n",
    "        \n",
    "        # context is weighted sum of the values (the original encoder hidden states)\n",
    "        context = torch.bmm(alphas, value)\n",
    "        \n",
    "        # context shape: batch x 1 x key size\n",
    "        # alpha shape: batch x 1 x mask length\n",
    "        return context, alphas"
   ]
  },
  {
   "cell_type": "markdown",
   "metadata": {},
   "source": [
    "## English to French Translation"
   ]
  },
  {
   "cell_type": "code",
   "execution_count": 29,
   "metadata": {},
   "outputs": [],
   "source": [
    "spacy_fr = spacy.load('fr')\n",
    "spacy_en = spacy.load('en')\n",
    "\n",
    "def tokenize_fr(text):\n",
    "    return [tok.text for tok in spacy_fr.tokenizer(text)]\n",
    "\n",
    "def tokenize_en(text):\n",
    "    return [tok.text for tok in spacy_en.tokenizer(text)]\n",
    "\n",
    "UNK_TOKEN = \"<unk>\"\n",
    "PAD_TOKEN = \"<pad>\"    \n",
    "SOS_TOKEN = \"<s>\"\n",
    "EOS_TOKEN = \"</s>\"\n",
    "LOWER = True\n",
    "\n",
    "MAX_LEN = 25\n",
    "MIN_FREQ = 5"
   ]
  },
  {
   "cell_type": "markdown",
   "metadata": {},
   "source": [
    "### Set up fields and load in data"
   ]
  },
  {
   "cell_type": "code",
   "execution_count": 30,
   "metadata": {},
   "outputs": [],
   "source": [
    "SRC = data.Field(tokenize=tokenize_de, batch_first=True, lower=LOWER, \n",
    "                  include_lengths=True, unk_token=UNK_TOKEN, \n",
    "                  pad_token=PAD_TOKEN, init_token=None, eos_token=EOS_TOKEN)\n",
    "    \n",
    "TRG = data.Field(tokenize=tokenize_en, batch_first=True, lower=LOWER, \n",
    "                 include_lengths=True, unk_token=UNK_TOKEN, \n",
    "                 pad_token=PAD_TOKEN, init_token=SOS_TOKEN, eos_token=EOS_TOKEN)"
   ]
  },
  {
   "cell_type": "code",
   "execution_count": 31,
   "metadata": {},
   "outputs": [
    {
     "name": "stdout",
     "output_type": "stream",
     "text": [
      "downloading fr-en.tgz\n"
     ]
    },
    {
     "name": "stderr",
     "output_type": "stream",
     "text": [
      "fr-en.tgz: 100%|██████████| 25.7M/25.7M [00:15<00:00, 1.72MB/s]\n"
     ]
    },
    {
     "name": "stdout",
     "output_type": "stream",
     "text": [
      ".data/iwslt/fr-en/IWSLT16.TED.dev2010.fr-en.en.xml\n",
      ".data/iwslt/fr-en/IWSLT16.TED.tst2012.fr-en.fr.xml\n",
      ".data/iwslt/fr-en/IWSLT16.TED.tst2013.fr-en.en.xml\n",
      ".data/iwslt/fr-en/IWSLT16.TED.tst2010.fr-en.fr.xml\n",
      ".data/iwslt/fr-en/IWSLT16.TED.tst2010.fr-en.en.xml\n",
      ".data/iwslt/fr-en/IWSLT16.TED.tst2014.fr-en.fr.xml\n",
      ".data/iwslt/fr-en/IWSLT16.TED.tst2014.fr-en.en.xml\n",
      ".data/iwslt/fr-en/IWSLT16.TED.dev2010.fr-en.fr.xml\n",
      ".data/iwslt/fr-en/IWSLT16.TED.tst2013.fr-en.fr.xml\n",
      ".data/iwslt/fr-en/IWSLT16.TED.tst2012.fr-en.en.xml\n",
      ".data/iwslt/fr-en/IWSLT16.TED.tst2011.fr-en.fr.xml\n",
      ".data/iwslt/fr-en/IWSLT16.TED.tst2011.fr-en.en.xml\n",
      ".data/iwslt/fr-en/train.tags.fr-en.fr\n",
      ".data/iwslt/fr-en/train.tags.fr-en.en\n"
     ]
    }
   ],
   "source": [
    "def data_filter(x):\n",
    "    len(vars(x)['src']) <= MAX_LEN and len(vars(x)['trg']) <= MAX_LEN\n",
    "\n",
    "train_data, valid_data, test_data = datasets.IWSLT.splits(exts=('.fr', '.en'), \n",
    "                                    fields=(SRC, TRG), \n",
    "                                    filter_pred=lambda x: len(vars(x)['src']) <= MAX_LEN and len(vars(x)['trg']) <= MAX_LEN)"
   ]
  },
  {
   "cell_type": "code",
   "execution_count": 32,
   "metadata": {},
   "outputs": [],
   "source": [
    "SRC.build_vocab(train_data.src, min_freq=MIN_FREQ)\n",
    "TRG.build_vocab(train_data.trg, min_freq=MIN_FREQ)\n",
    "    \n",
    "PAD_INDEX = TRG.vocab.stoi[PAD_TOKEN]"
   ]
  },
  {
   "cell_type": "markdown",
   "metadata": {},
   "source": [
    "### Batching\n",
    "\n",
    "Use bucketIterator which will group sentences by close to same length as possible. For efficiency, pytorch requires batches sorted by length."
   ]
  },
  {
   "cell_type": "code",
   "execution_count": 33,
   "metadata": {},
   "outputs": [],
   "source": [
    "train_iter = data.BucketIterator(train_data, batch_size=64, train=True,\n",
    "                                sort_within_batch=True,\n",
    "                                sort_key=lambda x: (len(x.src), len(x.trg)),\n",
    "                                repeat=False, device=DEVICE)\n",
    "valid_iter = data.Iterator(valid_data, batch_size=1, train=False, sort=False, \n",
    "                           repeat=False, device=DEVICE)"
   ]
  },
  {
   "cell_type": "code",
   "execution_count": 34,
   "metadata": {},
   "outputs": [],
   "source": [
    "class Batch:\n",
    "    \"\"\"\n",
    "    Object for holding a batch of data with mask during training.\n",
    "    Input is a batch from a torch text iterator.\n",
    "    \"\"\"\n",
    "    def __init__(self, src, trg, pad_index=0):\n",
    "        \n",
    "        # the bucket iterator returns a tuple of (src, src_lengths)\n",
    "        # shape of src: bxmax length\n",
    "        # shape of src_lengths: b\n",
    "        src, src_lengths = src\n",
    "        \n",
    "        self.src = src\n",
    "        self.src_lengths = src_lengths\n",
    "        # shape: b x 1 x max_length\n",
    "        self.src_mask = (src != pad_index).unsqueeze(-2)\n",
    "        self.nseqs = src.size(0)\n",
    "        \n",
    "        self.trg = None\n",
    "        self.trg_y = None\n",
    "        self.trg_mask = None\n",
    "        self.trg_lengths = None\n",
    "        self.ntokens = None\n",
    "        \n",
    "        if trg is not None:\n",
    "            trg, trg_lengths = trg\n",
    "            # -1 b/c these are the inputs\n",
    "            self.trg = trg[:,:-1]\n",
    "            self.trg_lengths = trg_lengths\n",
    "            # 1 b/c these the what we will predict\n",
    "            self.trg_y = trg[:, 1:]\n",
    "            # shape: b x max length\n",
    "            self.trg_mask = (self.trg_y != pad_index)\n",
    "            self.ntokens = (self.trg_y != pad_index).data.sum().item()\n",
    "\n",
    "        if USE_CUDA:\n",
    "            self.src = self.src.cuda()\n",
    "            self.src_mask = self.src_mask.cuda()\n",
    "            \n",
    "            if trg is not None:\n",
    "                self.trg = self.trg.cuda()\n",
    "                self.trg_y = self.trg_y.cuda()\n",
    "                self.trg_mask = self.trg_mask.cuda()\n",
    "                \n",
    "def rebatch(pad_idx, batch):\n",
    "    \"\"\"Wrap torchtext batch into our own Batch class for pre-processing\"\"\"\n",
    "    return Batch(batch.src, batch.trg, pad_idx)"
   ]
  },
  {
   "cell_type": "markdown",
   "metadata": {},
   "source": [
    "## Loss\n"
   ]
  },
  {
   "cell_type": "code",
   "execution_count": 35,
   "metadata": {},
   "outputs": [],
   "source": [
    "class SimpleLossCompute:\n",
    "    \n",
    "    def __init__(self, generator, criterion, opt=None):\n",
    "        self.generator = generator\n",
    "        self.criterion = criterion\n",
    "        self.opt = opt\n",
    "        \n",
    "    def __call__(self, x, y, norm):\n",
    "        # get log_softmax over the vocab\n",
    "        # shape x: batch x seq_length x vocab_size\n",
    "        # shape y: batch x seq_length (the truth)\n",
    "        x = self.generator(x)\n",
    "        \n",
    "        # our nllloss expects the x input to be NxC where C is the vocab size\n",
    "        # and y input to be N\n",
    "        # so we flatten them out\n",
    "        loss = self.criterion(x.contiguous().view(-1, x.size(-1)),\n",
    "                              y.contiguous().view(-1))\n",
    "        loss = loss / norm\n",
    "\n",
    "        if self.opt is not None:\n",
    "            loss.backward()          \n",
    "            self.opt.step()\n",
    "            self.opt.zero_grad()\n",
    "\n",
    "        return loss.data.item() * norm"
   ]
  },
  {
   "cell_type": "markdown",
   "metadata": {},
   "source": [
    "## Tracking and Printing"
   ]
  },
  {
   "cell_type": "code",
   "execution_count": 36,
   "metadata": {},
   "outputs": [],
   "source": [
    "def greedy_decode(model, src, src_mask, src_lengths, max_len=100, sos_index=1, eos_index=None):\n",
    "    \"\"\"Greedily decode a sentence.\"\"\"\n",
    "\n",
    "    with torch.no_grad():\n",
    "        # encode the src\n",
    "        encoder_hidden, encoder_final = model.encode(src, src_lengths)\n",
    "        # prev_y starts as sos_index \n",
    "        prev_y = torch.ones(1, 1).fill_(sos_index).type_as(src)\n",
    "        # the target mask is all ones b/c all valid\n",
    "        trg_mask = torch.ones_like(prev_y)\n",
    "\n",
    "    output = []\n",
    "    attention_scores = []\n",
    "    hidden = None\n",
    "\n",
    "    for i in range(max_len):\n",
    "        with torch.no_grad():\n",
    "            out, hidden, pre_output = model.decode(\n",
    "              encoder_hidden, encoder_final, src_mask,\n",
    "              prev_y, trg_mask, hidden)\n",
    "\n",
    "            # we predict from the pre-output layer, which is\n",
    "            # a combination of Decoder state, prev emb, and context\n",
    "            prob = model.generator(pre_output[:, -1])\n",
    "\n",
    "        _, next_word = torch.max(prob, dim=1)\n",
    "        next_word = next_word.data.item()\n",
    "        output.append(next_word)\n",
    "        prev_y = torch.ones(1, 1).type_as(src).fill_(next_word)\n",
    "        attention_scores.append(model.decoder.attention.alphas.cpu().numpy())\n",
    "    \n",
    "    output = np.array(output)\n",
    "        \n",
    "    # cut off everything starting from </s> \n",
    "    # (only when eos_index provided)\n",
    "    if eos_index is not None:\n",
    "        first_eos = np.where(output==eos_index)[0]\n",
    "        if len(first_eos) > 0:\n",
    "            output = output[:first_eos[0]]      \n",
    "    \n",
    "    return output, np.concatenate(attention_scores, axis=1)\n",
    "\n",
    "def lookup_words(x, vocab=None):\n",
    "    if vocab is not None:\n",
    "        x = [vocab.itos[i] for i in x]\n",
    "\n",
    "    return [str(t) for t in x]\n",
    "\n",
    "def print_examples(example_iter, model, n=2, max_len=100, \n",
    "                   sos_index=1, \n",
    "                   src_eos_index=None, \n",
    "                   trg_eos_index=None, \n",
    "                   src_vocab=None, trg_vocab=None):\n",
    "    \"\"\"Prints N examples. Assumes batch size of 1.\"\"\"\n",
    "\n",
    "    model.eval()\n",
    "    count = 0\n",
    "    print()\n",
    "    \n",
    "    if src_vocab is not None and trg_vocab is not None:\n",
    "        src_eos_index = src_vocab.stoi[EOS_TOKEN]\n",
    "        trg_sos_index = trg_vocab.stoi[SOS_TOKEN]\n",
    "        trg_eos_index = trg_vocab.stoi[EOS_TOKEN]\n",
    "    # this will never happen in our use case\n",
    "    else:\n",
    "        src_eos_index = None\n",
    "        trg_sos_index = 1\n",
    "        trg_eos_index = None\n",
    "        \n",
    "    for i, batch in enumerate(example_iter):\n",
    "        \n",
    "        # get numpy versions of tensors\n",
    "        # trg is trg_y b/c that's the truth and already skips the SOS token\n",
    "        src = batch.src.cpu().numpy()[0, :]\n",
    "        trg = batch.trg_y.cpu().numpy()[0, :]\n",
    "\n",
    "        # remove </s> (if it is there)\n",
    "        src = src[:-1] if src[-1] == src_eos_index else src\n",
    "        trg = trg[:-1] if trg[-1] == trg_eos_index else trg      \n",
    "      \n",
    "        result, _ = greedy_decode(\n",
    "          model, batch.src, batch.src_mask, batch.src_lengths,\n",
    "          max_len=max_len, sos_index=trg_sos_index, eos_index=trg_eos_index)\n",
    "        print(\"Example #%d\" % (i+1))\n",
    "        print(\"Src : \", \" \".join(lookup_words(src, vocab=src_vocab)))\n",
    "        print(\"Trg : \", \" \".join(lookup_words(trg, vocab=trg_vocab)))\n",
    "        print(\"Pred: \", \" \".join(lookup_words(result, vocab=trg_vocab)))\n",
    "        print()\n",
    "        \n",
    "        count += 1\n",
    "        if count == n:\n",
    "            break"
   ]
  },
  {
   "cell_type": "markdown",
   "metadata": {},
   "source": [
    "## Training"
   ]
  },
  {
   "cell_type": "code",
   "execution_count": 37,
   "metadata": {},
   "outputs": [],
   "source": [
    "def make_model(src_vocab, tgt_vocab, emb_size=256, hidden_size=512, num_layers=1, dropout=0.1):\n",
    "    \"Helper: Construct a model from hyperparameters.\"\n",
    "\n",
    "    attention = BahdanauAttention(hidden_size)\n",
    "\n",
    "    model = EncoderDecoder(\n",
    "        Encoder(emb_size, hidden_size, num_layers=num_layers, dropout=dropout),\n",
    "        Decoder(emb_size, hidden_size, attention, num_layers=num_layers, dropout=dropout),\n",
    "        nn.Embedding(src_vocab, emb_size),\n",
    "        nn.Embedding(tgt_vocab, emb_size),\n",
    "        Generator(hidden_size, tgt_vocab))\n",
    "\n",
    "    return model.cuda() if USE_CUDA else model\n",
    "\n",
    "\n",
    "def run_epoch(data_iter, model, loss_compute, print_every=50):\n",
    "    \n",
    "    start = time.time()\n",
    "    total_tokens = 0\n",
    "    total_loss = 0\n",
    "    print_tokens = 0\n",
    "    \n",
    "    for i, batch in enumerate(data_iter, 1):\n",
    "        \n",
    "        _, _, pre_output = model.forward(batch.src, batch.trg,\n",
    "                                        batch.src_mask, batch.trg_mask,\n",
    "                                        batch.src_lengths, batch.trg_lengths)\n",
    "        loss = loss_compute(pre_output, batch.trg_y, batch.nseqs)\n",
    "        \n",
    "        total_loss += loss\n",
    "        total_tokens += batch.ntokens\n",
    "        print_tokens += batch.ntokens\n",
    "        \n",
    "        if model.training and i % print_every == 0:\n",
    "            elapsed = time.time() - start\n",
    "            print(\"Epoch Step: %d Loss: %f Tokens per Sec: %f\" %\n",
    "                    (i, loss / batch.nseqs, print_tokens / elapsed))\n",
    "            start = time.time()\n",
    "            print_tokens = 0\n",
    "            \n",
    "    return math.exp(total_loss / float(total_tokens))\n",
    "\n",
    "def train(model, num_epochs=10, lr=0.0003, print_every=100):\n",
    "    \n",
    "    if USE_CUDA:\n",
    "        model.cuda()\n",
    "        \n",
    "    criterion = nn.NLLLoss(reduction=\"sum\", ignore_index=PAD_INDEX)\n",
    "    optim = torch.optim.Adam(model.parameters(), lr=lr)\n",
    "    \n",
    "    dev_perplexities = []\n",
    "    \n",
    "    for epoch in range(num_epochs):\n",
    "        print(\"Epoch\", epoch)\n",
    "        model.train()\n",
    "        # we using () as a generator comprehension\n",
    "        train_perplexity = run_epoch((rebatch(PAD_INDEX, b) for b in train_iter),\n",
    "                                     model,\n",
    "                                     SimpleLossCompute(model.generator,\n",
    "                                                      criterion,\n",
    "                                                      optim),\n",
    "                                     print_every=print_every)\n",
    "        \n",
    "        model.eval()\n",
    "        with torch.no_grad():\n",
    "            print_examples((rebatch(PAD_INDEX, x) for x in valid_iter), \n",
    "                           model, n=3, src_vocab=SRC.vocab, trg_vocab=TRG.vocab)        \n",
    "\n",
    "            dev_perplexity = run_epoch((rebatch(PAD_INDEX, b) for b in valid_iter), \n",
    "                                       model, \n",
    "                                       SimpleLossCompute(model.generator, criterion, None))\n",
    "            print(\"Validation perplexity: %f\" % dev_perplexity)\n",
    "            dev_perplexities.append(dev_perplexity)\n",
    "        \n",
    "    return dev_perplexities"
   ]
  },
  {
   "cell_type": "markdown",
   "metadata": {},
   "source": [
    "## Run everything"
   ]
  },
  {
   "cell_type": "code",
   "execution_count": 38,
   "metadata": {},
   "outputs": [
    {
     "name": "stderr",
     "output_type": "stream",
     "text": [
      "/home/tyler/anaconda3/lib/python3.6/site-packages/torch/nn/modules/rnn.py:38: UserWarning: dropout option adds dropout after all but last recurrent layer, so non-zero dropout expects num_layers greater than 1, but got dropout=0.2 and num_layers=1\n",
      "  \"num_layers={}\".format(dropout, num_layers))\n"
     ]
    },
    {
     "name": "stdout",
     "output_type": "stream",
     "text": [
      "Epoch 0\n",
      "Epoch Step: 500 Loss: 38.328526 Tokens per Sec: 19878.745069\n",
      "Epoch Step: 1000 Loss: 74.257416 Tokens per Sec: 19896.994471\n",
      "Epoch Step: 1500 Loss: 86.251877 Tokens per Sec: 20215.667041\n",
      "Epoch Step: 2000 Loss: 97.226913 Tokens per Sec: 20009.305914\n",
      "\n",
      "Example #1\n",
      "Src :  j'ai travaillé pour une ong italienne et chaque projet que nous avons monté en afrique a échoué .\n",
      "Trg :  i worked for an italian ngo , and every single project that we set up in africa failed .\n",
      "Pred:  i took a <unk> for a <unk> and every single that we 've been in africa .\n",
      "\n",
      "Example #2\n",
      "Src :  et j'étais vraiment bouleversé .\n",
      "Trg :  and i was <unk> .\n",
      "Pred:  and i was really .\n",
      "\n",
      "Example #3\n",
      "Src :  je pensais , à 21 ans , que nous les italiens étions des gens biens et que nous faisions du bon travail en afrique .\n",
      "Trg :  i thought , age 21 , that we italians were good people and we were doing good work in africa .\n",
      "Pred:  i was , i was the <unk> , we 're going to do people who are going to be able to be able to work .\n",
      "\n",
      "Validation perplexity: 24.872736\n",
      "Epoch 1\n",
      "Epoch Step: 500 Loss: 19.933880 Tokens per Sec: 19738.261318\n",
      "Epoch Step: 1000 Loss: 35.622902 Tokens per Sec: 19727.337476\n",
      "Epoch Step: 1500 Loss: 51.796204 Tokens per Sec: 19640.864769\n",
      "Epoch Step: 2000 Loss: 71.215225 Tokens per Sec: 20108.365451\n",
      "\n",
      "Example #1\n",
      "Src :  j'ai travaillé pour une ong italienne et chaque projet que nous avons monté en afrique a échoué .\n",
      "Trg :  i worked for an italian ngo , and every single project that we set up in africa failed .\n",
      "Pred:  i worked for a <unk> and every project that we 've been in africa in africa .\n",
      "\n",
      "Example #2\n",
      "Src :  et j'étais vraiment bouleversé .\n",
      "Trg :  and i was <unk> .\n",
      "Pred:  and i was really absolutely .\n",
      "\n",
      "Example #3\n",
      "Src :  je pensais , à 21 ans , que nous les italiens étions des gens biens et que nous faisions du bon travail en afrique .\n",
      "Trg :  i thought , age 21 , that we italians were good people and we were doing good work in africa .\n",
      "Pred:  i thought , in years , that we were doing people to be people and we 're going to be good at all of africa .\n",
      "\n",
      "Validation perplexity: 14.489458\n",
      "Epoch 2\n",
      "Epoch Step: 500 Loss: 74.837250 Tokens per Sec: 19864.830981\n",
      "Epoch Step: 1000 Loss: 31.026478 Tokens per Sec: 20120.031892\n",
      "Epoch Step: 1500 Loss: 62.885983 Tokens per Sec: 20171.557753\n",
      "Epoch Step: 2000 Loss: 32.911282 Tokens per Sec: 19980.600240\n",
      "\n",
      "Example #1\n",
      "Src :  j'ai travaillé pour une ong italienne et chaque projet que nous avons monté en afrique a échoué .\n",
      "Trg :  i worked for an italian ngo , and every single project that we set up in africa failed .\n",
      "Pred:  i worked for a <unk> and every project that we 've been in africa has failed .\n",
      "\n",
      "Example #2\n",
      "Src :  et j'étais vraiment bouleversé .\n",
      "Trg :  and i was <unk> .\n",
      "Pred:  and i was really just really .\n",
      "\n",
      "Example #3\n",
      "Src :  je pensais , à 21 ans , que nous les italiens étions des gens biens et que nous faisions du bon travail en afrique .\n",
      "Trg :  i thought , age 21 , that we italians were good people and we were doing good work in africa .\n",
      "Pred:  i thought , 21 years , that we were the people of people and we were using good working in africa .\n",
      "\n",
      "Validation perplexity: 11.192585\n",
      "Epoch 3\n",
      "Epoch Step: 500 Loss: 64.837631 Tokens per Sec: 19927.811737\n",
      "Epoch Step: 1000 Loss: 32.400272 Tokens per Sec: 20346.663670\n",
      "Epoch Step: 1500 Loss: 18.542820 Tokens per Sec: 20166.819757\n",
      "Epoch Step: 2000 Loss: 24.065329 Tokens per Sec: 20233.050232\n",
      "\n",
      "Example #1\n",
      "Src :  j'ai travaillé pour une ong italienne et chaque projet que nous avons monté en afrique a échoué .\n",
      "Trg :  i worked for an italian ngo , and every single project that we set up in africa failed .\n",
      "Pred:  i worked for a <unk> and the project that we 've been in africa has failed .\n",
      "\n",
      "Example #2\n",
      "Src :  et j'étais vraiment bouleversé .\n",
      "Trg :  and i was <unk> .\n",
      "Pred:  and i was really just really .\n",
      "\n",
      "Example #3\n",
      "Src :  je pensais , à 21 ans , que nous les italiens étions des gens biens et que nous faisions du bon travail en afrique .\n",
      "Trg :  i thought , age 21 , that we italians were good people and we were doing good work in africa .\n",
      "Pred:  i thought , 21 years , we were sending them to be goods and we 're designing in the work in africa .\n",
      "\n",
      "Validation perplexity: 9.912346\n",
      "Epoch 4\n",
      "Epoch Step: 500 Loss: 50.822777 Tokens per Sec: 20073.770468\n",
      "Epoch Step: 1000 Loss: 47.582600 Tokens per Sec: 20058.012974\n",
      "Epoch Step: 1500 Loss: 51.201717 Tokens per Sec: 20141.705811\n",
      "Epoch Step: 2000 Loss: 51.364258 Tokens per Sec: 19950.952981\n",
      "\n",
      "Example #1\n",
      "Src :  j'ai travaillé pour une ong italienne et chaque projet que nous avons monté en afrique a échoué .\n",
      "Trg :  i worked for an italian ngo , and every single project that we set up in africa failed .\n",
      "Pred:  i worked for a <unk> and every project that we mounted in africa has failed .\n",
      "\n",
      "Example #2\n",
      "Src :  et j'étais vraiment bouleversé .\n",
      "Trg :  and i was <unk> .\n",
      "Pred:  and i was really upset .\n",
      "\n",
      "Example #3\n",
      "Src :  je pensais , à 21 ans , que nous les italiens étions des gens biens et que nous faisions du bon travail en afrique .\n",
      "Trg :  i thought , age 21 , that we italians were good people and we were doing good work in africa .\n",
      "Pred:  i was in the age of years , that we were sending people and they were <unk> in the world .\n",
      "\n",
      "Validation perplexity: 9.312477\n",
      "Epoch 5\n",
      "Epoch Step: 500 Loss: 57.760780 Tokens per Sec: 20059.912840\n",
      "Epoch Step: 1000 Loss: 17.558708 Tokens per Sec: 20200.854723\n",
      "Epoch Step: 1500 Loss: 19.499462 Tokens per Sec: 20325.743300\n",
      "Epoch Step: 2000 Loss: 35.919628 Tokens per Sec: 19909.747066\n",
      "\n",
      "Example #1\n",
      "Src :  j'ai travaillé pour une ong italienne et chaque projet que nous avons monté en afrique a échoué .\n",
      "Trg :  i worked for an italian ngo , and every single project that we set up in africa failed .\n",
      "Pred:  i 've been working for a ngo and the <unk> that we mounted in africa has failed .\n",
      "\n",
      "Example #2\n",
      "Src :  et j'étais vraiment bouleversé .\n",
      "Trg :  and i was <unk> .\n",
      "Pred:  and i was really upset .\n",
      "\n",
      "Example #3\n",
      "Src :  je pensais , à 21 ans , que nous les italiens étions des gens biens et que nous faisions du bon travail en afrique .\n",
      "Trg :  i thought , age 21 , that we italians were good people and we were doing good work in africa .\n",
      "Pred:  i thought , in 21 years , we were sending them to be empty goods and we 're doing good job in africa .\n",
      "\n",
      "Validation perplexity: 8.780696\n",
      "Epoch 6\n",
      "Epoch Step: 500 Loss: 15.203369 Tokens per Sec: 19671.194022\n",
      "Epoch Step: 1000 Loss: 31.438313 Tokens per Sec: 19609.801662\n",
      "Epoch Step: 1500 Loss: 27.906096 Tokens per Sec: 19500.873036\n",
      "Epoch Step: 2000 Loss: 26.680122 Tokens per Sec: 19497.210855\n",
      "\n",
      "Example #1\n",
      "Src :  j'ai travaillé pour une ong italienne et chaque projet que nous avons monté en afrique a échoué .\n",
      "Trg :  i worked for an italian ngo , and every single project that we set up in africa failed .\n",
      "Pred:  i worked for a <unk> and a project that we 've been in africa in africa .\n",
      "\n",
      "Example #2\n",
      "Src :  et j'étais vraiment bouleversé .\n",
      "Trg :  and i was <unk> .\n",
      "Pred:  and i was really upset .\n",
      "\n",
      "Example #3\n",
      "Src :  je pensais , à 21 ans , que nous les italiens étions des gens biens et que nous faisions du bon travail en afrique .\n",
      "Trg :  i thought , age 21 , that we italians were good people and we were doing good work in africa .\n",
      "Pred:  i thought , in 21 years , that we were sending them to come and we have a good job in africa .\n",
      "\n",
      "Validation perplexity: 8.825209\n",
      "Epoch 7\n",
      "Epoch Step: 500 Loss: 33.326580 Tokens per Sec: 19447.266949\n",
      "Epoch Step: 1000 Loss: 43.309063 Tokens per Sec: 19687.927967\n",
      "Epoch Step: 1500 Loss: 24.578161 Tokens per Sec: 19794.946105\n",
      "Epoch Step: 2000 Loss: 26.627480 Tokens per Sec: 19689.301307\n",
      "\n",
      "Example #1\n",
      "Src :  j'ai travaillé pour une ong italienne et chaque projet que nous avons monté en afrique a échoué .\n",
      "Trg :  i worked for an italian ngo , and every single project that we set up in africa failed .\n",
      "Pred:  i worked for a ngo and the <unk> project we 've mounted in africa has failed .\n",
      "\n",
      "Example #2\n",
      "Src :  et j'étais vraiment bouleversé .\n",
      "Trg :  and i was <unk> .\n",
      "Pred:  and i was really upset .\n",
      "\n",
      "Example #3\n",
      "Src :  je pensais , à 21 ans , que nous les italiens étions des gens biens et que nous faisions du bon travail en afrique .\n",
      "Trg :  i thought , age 21 , that we italians were good people and we were doing good work in africa .\n",
      "Pred:  i thought , in 21 years , that we were certainly funding them to come and lead to work in the world .\n",
      "\n"
     ]
    },
    {
     "name": "stdout",
     "output_type": "stream",
     "text": [
      "Validation perplexity: 8.611184\n",
      "Epoch 8\n",
      "Epoch Step: 500 Loss: 16.236769 Tokens per Sec: 19531.470778\n",
      "Epoch Step: 1000 Loss: 21.538202 Tokens per Sec: 19778.229386\n",
      "Epoch Step: 1500 Loss: 30.669321 Tokens per Sec: 20148.839575\n",
      "Epoch Step: 2000 Loss: 22.319052 Tokens per Sec: 19793.007229\n",
      "\n",
      "Example #1\n",
      "Src :  j'ai travaillé pour une ong italienne et chaque projet que nous avons monté en afrique a échoué .\n",
      "Trg :  i worked for an italian ngo , and every single project that we set up in africa failed .\n",
      "Pred:  i 've been working for a chicken and every single project that we 've mounted in africa has failed .\n",
      "\n",
      "Example #2\n",
      "Src :  et j'étais vraiment bouleversé .\n",
      "Trg :  and i was <unk> .\n",
      "Pred:  and i was really upset .\n",
      "\n",
      "Example #3\n",
      "Src :  je pensais , à 21 ans , que nous les italiens étions des gens biens et que nous faisions du bon travail en afrique .\n",
      "Trg :  i thought , age 21 , that we italians were good people and we were doing good work in africa .\n",
      "Pred:  i thought , in 21 years , we were making them to be a lot of goods and we were doing good at africa .\n",
      "\n",
      "Validation perplexity: 8.537399\n",
      "Epoch 9\n",
      "Epoch Step: 500 Loss: 15.230019 Tokens per Sec: 19569.429198\n",
      "Epoch Step: 1000 Loss: 29.618410 Tokens per Sec: 19544.588532\n",
      "Epoch Step: 1500 Loss: 18.019587 Tokens per Sec: 19552.107689\n",
      "Epoch Step: 2000 Loss: 41.857666 Tokens per Sec: 19913.308694\n",
      "\n",
      "Example #1\n",
      "Src :  j'ai travaillé pour une ong italienne et chaque projet que nous avons monté en afrique a échoué .\n",
      "Trg :  i worked for an italian ngo , and every single project that we set up in africa failed .\n",
      "Pred:  i worked for a <unk> .- and every project that we mounted in africa has failed .\n",
      "\n",
      "Example #2\n",
      "Src :  et j'étais vraiment bouleversé .\n",
      "Trg :  and i was <unk> .\n",
      "Pred:  and i was really upset .\n",
      "\n",
      "Example #3\n",
      "Src :  je pensais , à 21 ans , que nous les italiens étions des gens biens et que nous faisions du bon travail en afrique .\n",
      "Trg :  i thought , age 21 , that we italians were good people and we were doing good work in africa .\n",
      "Pred:  i thought , in 21 years , that we were funding to people and they were working on the right job in africa .\n",
      "\n",
      "Validation perplexity: 8.607568\n"
     ]
    }
   ],
   "source": [
    "model = make_model(len(SRC.vocab), len(TRG.vocab),\n",
    "                   emb_size=256, hidden_size=256,\n",
    "                   num_layers=1, dropout=0.2)\n",
    "dev_perplexities = train(model, print_every=500)"
   ]
  },
  {
   "cell_type": "markdown",
   "metadata": {},
   "source": [
    "## prediction and evaluation"
   ]
  },
  {
   "cell_type": "code",
   "execution_count": 39,
   "metadata": {},
   "outputs": [
    {
     "data": {
      "image/png": "[encoded data removed]",
      "text/plain": [
       "<Figure size 432x288 with 1 Axes>"
      ]
     },
     "metadata": {},
     "output_type": "display_data"
    }
   ],
   "source": [
    "def plot_perplexity(perplexities):\n",
    "    \"\"\"plot perplexities\"\"\"\n",
    "    plt.title(\"Perplexity per Epoch\")\n",
    "    plt.xlabel(\"Epoch\")\n",
    "    plt.ylabel(\"Perplexity\")\n",
    "    plt.plot(perplexities)\n",
    "\n",
    "plot_perplexity(dev_perplexities)"
   ]
  },
  {
   "cell_type": "code",
   "execution_count": 40,
   "metadata": {},
   "outputs": [],
   "source": [
    "import sacrebleu"
   ]
  },
  {
   "cell_type": "code",
   "execution_count": 41,
   "metadata": {},
   "outputs": [],
   "source": [
    "references = [\" \".join(example.trg) for example in valid_data]"
   ]
  },
  {
   "cell_type": "code",
   "execution_count": 42,
   "metadata": {},
   "outputs": [
    {
     "data": {
      "text/plain": [
       "'thank you .'"
      ]
     },
     "execution_count": 42,
     "metadata": {},
     "output_type": "execute_result"
    }
   ],
   "source": [
    "references[-1]"
   ]
  },
  {
   "cell_type": "code",
   "execution_count": 43,
   "metadata": {},
   "outputs": [],
   "source": [
    "# convert german into english using model"
   ]
  },
  {
   "cell_type": "code",
   "execution_count": 44,
   "metadata": {},
   "outputs": [],
   "source": [
    "hypotheses = []\n",
    "alphas = []\n",
    "for batch in valid_iter:\n",
    "    batch = rebatch(PAD_INDEX, batch)\n",
    "    pred, attention = greedy_decode(model, batch.src, batch.src_mask,\n",
    "                                   batch.src_lengths, max_len=25,\n",
    "                                   sos_index=TRG.vocab.stoi[SOS_TOKEN],\n",
    "                                   eos_index=TRG.vocab.stoi[EOS_TOKEN])\n",
    "    hypotheses.append(pred)\n",
    "    alphas.append(attention)"
   ]
  },
  {
   "cell_type": "code",
   "execution_count": 45,
   "metadata": {},
   "outputs": [],
   "source": [
    "hypotheses = [lookup_words(x, TRG.vocab) for x in hypotheses]\n",
    "hypotheses = [\" \".join(x) for x in hypotheses]"
   ]
  },
  {
   "cell_type": "code",
   "execution_count": 46,
   "metadata": {},
   "outputs": [
    {
     "data": {
      "text/plain": [
       "'thank you .'"
      ]
     },
     "execution_count": 46,
     "metadata": {},
     "output_type": "execute_result"
    }
   ],
   "source": [
    "hypotheses[-1]"
   ]
  },
  {
   "cell_type": "code",
   "execution_count": 47,
   "metadata": {},
   "outputs": [],
   "source": [
    "bleu = sacrebleu.raw_corpus_bleu(hypotheses, [references], .01).score"
   ]
  },
  {
   "cell_type": "code",
   "execution_count": 48,
   "metadata": {},
   "outputs": [
    {
     "name": "stdout",
     "output_type": "stream",
     "text": [
      "29.3957473423028\n"
     ]
    }
   ],
   "source": [
    "print(bleu)"
   ]
  },
  {
   "cell_type": "markdown",
   "metadata": {},
   "source": [
    "## plot attention"
   ]
  },
  {
   "cell_type": "code",
   "execution_count": 49,
   "metadata": {},
   "outputs": [],
   "source": [
    "def plot_heatmap(src, trg, scores):\n",
    "\n",
    "    fig, ax = plt.subplots()\n",
    "    heatmap = ax.pcolor(scores, cmap='viridis')\n",
    "\n",
    "    ax.set_xticklabels(trg, minor=False, rotation='vertical')\n",
    "    ax.set_yticklabels(src, minor=False)\n",
    "\n",
    "    # put the major ticks at the middle of each cell\n",
    "    # and the x-ticks on top\n",
    "    ax.xaxis.tick_top()\n",
    "    ax.set_xticks(np.arange(scores.shape[1]) + 0.5, minor=False)\n",
    "    ax.set_yticks(np.arange(scores.shape[0]) + 0.5, minor=False)\n",
    "    ax.invert_yaxis()\n",
    "\n",
    "    plt.colorbar(heatmap)\n",
    "    plt.show()\n"
   ]
  },
  {
   "cell_type": "code",
   "execution_count": 52,
   "metadata": {},
   "outputs": [
    {
     "name": "stdout",
     "output_type": "stream",
     "text": [
      "src ['et', 'puis', 'il', 'faut', 'leur', 'dire', 'la', 'vérité', 'sur', \"l'entrepreneuriat\", '.', '</s>']\n",
      "ref ['and', 'then', 'you', 'have', 'to', 'tell', 'them', 'the', 'truth', 'about', 'entrepreneurship', '.', '</s>']\n",
      "pred ['and', 'then', 'you', 'have', 'to', 'tell', 'them', 'the', 'truth', 'about', 'entrepreneurship', '.', '</s>']\n"
     ]
    },
    {
     "data": {
      "image/png": "[encoded data removed]",
      "text/plain": [
       "<Figure size 432x288 with 2 Axes>"
      ]
     },
     "metadata": {},
     "output_type": "display_data"
    }
   ],
   "source": [
    "idx = 75\n",
    "src = valid_data[idx].src + [\"</s>\"]\n",
    "trg = valid_data[idx].trg + [\"</s>\"]\n",
    "pred = hypotheses[idx].split() + [\"</s>\"]\n",
    "# [0] b/c only 1 row\n",
    "# .T to get src as rows\n",
    "# then limit columns to length of predicted to fit\n",
    "pred_att = alphas[idx][0].T[:, :len(pred)]\n",
    "print(\"src\", src)\n",
    "print(\"ref\", trg)\n",
    "print(\"pred\", pred)\n",
    "plot_heatmap(src, pred, pred_att)"
   ]
  },
  {
   "cell_type": "code",
   "execution_count": null,
   "metadata": {},
   "outputs": [],
   "source": []
  }
 ],
 "metadata": {
  "kernelspec": {
   "display_name": "Python 3",
   "language": "python",
   "name": "python3"
  },
  "language_info": {
   "codemirror_mode": {
    "name": "ipython",
    "version": 3
   },
   "file_extension": ".py",
   "mimetype": "text/x-python",
   "name": "python",
   "nbconvert_exporter": "python",
   "pygments_lexer": "ipython3",
   "version": "3.5.3"
  }
 },
 "nbformat": 4,
 "nbformat_minor": 2
}
